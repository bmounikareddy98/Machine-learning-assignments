{
  "nbformat": 4,
  "nbformat_minor": 0,
  "metadata": {
    "colab": {
      "name": "Multiple_linear_regression(gradient_descent).ipynb",
      "provenance": [],
      "authorship_tag": "ABX9TyPb5AygGhREf/q+sXZYmF14",
      "include_colab_link": true
    },
    "kernelspec": {
      "name": "python3",
      "display_name": "Python 3"
    },
    "language_info": {
      "name": "python"
    }
  },
  "cells": [
    {
      "cell_type": "markdown",
      "metadata": {
        "id": "view-in-github",
        "colab_type": "text"
      },
      "source": [
        "<a href=\"https://colab.research.google.com/github/bmounikareddy98/Machine-learning-assignments/blob/main/Multiple_linear_regression(gradient_descent).ipynb\" target=\"_parent\"><img src=\"https://colab.research.google.com/assets/colab-badge.svg\" alt=\"Open In Colab\"/></a>"
      ]
    },
    {
      "cell_type": "code",
      "metadata": {
        "id": "oHLrbQeDhty1"
      },
      "source": [
        "import numpy as np\n",
        "import matplotlib.pyplot as plt \n",
        "import pandas as pd  \n",
        "import seaborn as sns \n",
        "from sklearn.metrics import r2_score\n",
        "from sklearn.preprocessing import StandardScaler\n",
        "from sklearn.model_selection import train_test_split\n",
        "from sklearn.linear_model import LinearRegression\n",
        "from sklearn.metrics import mean_squared_error\n",
        "from sklearn.linear_model import SGDRegressor"
      ],
      "execution_count": 65,
      "outputs": []
    },
    {
      "cell_type": "code",
      "metadata": {
        "colab": {
          "base_uri": "https://localhost:8080/"
        },
        "id": "P2nssY0Rh8EK",
        "outputId": "bd0fedb3-5514-4d68-eb7c-e6c2d4da324e"
      },
      "source": [
        "url = 'https://raw.githubusercontent.com/bmounikareddy98/Machine-learning-assignments/main/insurance.csv'\n",
        "dataset = pd.read_csv(url)\n",
        "dataset=dataset.dropna()\n",
        "dataset = dataset.drop_duplicates()\n",
        "print(dataset.head())"
      ],
      "execution_count": 101,
      "outputs": [
        {
          "output_type": "stream",
          "name": "stdout",
          "text": [
            "      sex smoker     region  children     bmi  age      charges\n",
            "0  female    yes  southwest         0  27.900   19  16884.92400\n",
            "1    male     no  southeast         1  33.770   18   1725.55230\n",
            "2    male     no  southeast         3  33.000   28   4449.46200\n",
            "3    male     no  northwest         0  22.705   33  21984.47061\n",
            "4    male     no  northwest         0  28.880   32   3866.85520\n"
          ]
        }
      ]
    },
    {
      "cell_type": "code",
      "metadata": {
        "colab": {
          "base_uri": "https://localhost:8080/"
        },
        "id": "z5d_lwJsh-zL",
        "outputId": "d04d773f-9e8c-40e2-ff28-10da4fe2066c"
      },
      "source": [
        "X = dataset.iloc[:, :-1].values\n",
        "Y = dataset.iloc[:, -1].values\n",
        "print(X.shape)\n",
        "print(Y.shape)\n",
        "print(X[5])\n",
        "#print(Y[5])\n",
        "print(type(dataset))\n"
      ],
      "execution_count": 102,
      "outputs": [
        {
          "output_type": "stream",
          "name": "stdout",
          "text": [
            "(1337, 6)\n",
            "(1337,)\n",
            "['female' 'no' 'southeast' 0 25.74 31]\n",
            "<class 'pandas.core.frame.DataFrame'>\n"
          ]
        }
      ]
    },
    {
      "cell_type": "code",
      "metadata": {
        "colab": {
          "base_uri": "https://localhost:8080/"
        },
        "id": "OrB_cEVLiBhy",
        "outputId": "802b0272-9c75-4efa-fb00-0ecee6e21f6a"
      },
      "source": [
        "from sklearn.preprocessing import LabelEncoder\n",
        "labelencoder = LabelEncoder()\n",
        "X[:, 0] = labelencoder.fit_transform(X[:, 0])\n",
        "X[:, 1]= labelencoder.fit_transform(X[:, 1])\n",
        "X[:, 2]= labelencoder.fit_transform(X[:, 2])\n",
        "print(X)"
      ],
      "execution_count": 103,
      "outputs": [
        {
          "output_type": "stream",
          "name": "stdout",
          "text": [
            "[[0 1 3 0 27.9 19]\n",
            " [1 0 2 1 33.77 18]\n",
            " [1 0 2 3 33.0 28]\n",
            " ...\n",
            " [0 0 2 0 36.85 18]\n",
            " [0 0 3 0 25.8 21]\n",
            " [0 1 1 0 29.07 61]]\n"
          ]
        }
      ]
    },
    {
      "cell_type": "code",
      "metadata": {
        "colab": {
          "base_uri": "https://localhost:8080/"
        },
        "id": "oh5ai8P6iEX_",
        "outputId": "dd103385-64f8-46f7-d29e-5673d3ae76e7"
      },
      "source": [
        "from sklearn.compose import ColumnTransformer\n",
        "from sklearn.preprocessing import OneHotEncoder\n",
        "ct = ColumnTransformer(transformers=[('encoder', OneHotEncoder(), [0,1,2])], remainder='passthrough')\n",
        "X = np.array(ct.fit_transform(X))\n",
        "\n",
        "\n",
        "print(X[1])\n",
        "#print(X.shape)"
      ],
      "execution_count": 104,
      "outputs": [
        {
          "output_type": "stream",
          "name": "stdout",
          "text": [
            "[0.0 1.0 1.0 0.0 0.0 0.0 1.0 0.0 1 33.77 18]\n"
          ]
        }
      ]
    },
    {
      "cell_type": "code",
      "metadata": {
        "id": "cCS7KFGkiGfr"
      },
      "source": [
        "from sklearn.model_selection import train_test_split\n",
        "X_train, X_test, Y_train, Y_test = train_test_split(X, Y, test_size = 0.2, random_state = 1)"
      ],
      "execution_count": 105,
      "outputs": []
    },
    {
      "cell_type": "code",
      "metadata": {
        "colab": {
          "base_uri": "https://localhost:8080/"
        },
        "id": "tR97QoXciJTw",
        "outputId": "fb550382-8c62-4c07-97a2-582342c97ffc"
      },
      "source": [
        "print(X_train.shape)\n",
        "print(Y_train.shape)\n",
        "print(X_test.shape)\n",
        "print(Y_test.shape)"
      ],
      "execution_count": 106,
      "outputs": [
        {
          "output_type": "stream",
          "name": "stdout",
          "text": [
            "(1069, 11)\n",
            "(1069,)\n",
            "(268, 11)\n",
            "(268,)\n"
          ]
        }
      ]
    },
    {
      "cell_type": "code",
      "metadata": {
        "colab": {
          "base_uri": "https://localhost:8080/"
        },
        "id": "0Fz3zI2d3JMD",
        "outputId": "f786ad7d-97ba-45ec-a072-4320283e0049"
      },
      "source": [
        "nrows,ncols = X_train.shape[0],X_train.shape[1]\n",
        "W = np.random.rand(ncols).reshape(ncols, 1)\n",
        "print(W.shape)\n",
        "print(nrows)\n",
        "print(ncols)\n",
        "print(np.dot(X_train,W))"
      ],
      "execution_count": 113,
      "outputs": [
        {
          "output_type": "stream",
          "name": "stdout",
          "text": [
            "(11, 1)\n",
            "1069\n",
            "11\n",
            "[[37.51690892280365]\n",
            " [27.51337249238559]\n",
            " [29.59437024710261]\n",
            " ...\n",
            " [34.722131615449555]\n",
            " [24.977239263667094]\n",
            " [43.87828411854198]]\n"
          ]
        }
      ]
    },
    {
      "cell_type": "code",
      "metadata": {
        "id": "HZtUyUt42h8m"
      },
      "source": [
        "def trainData(X,Y,W, epochs, learning_rate):\n",
        "        # Perform Gradient Descent\n",
        "        for i in range(epochs):\n",
        "            # Make prediction with current weights\n",
        "            h = np.dot(X, W)\n",
        "            # Find error\n",
        "            error = h - Y\n",
        "            W = W - (1 / nrows) * learning_rate * np.dot(X.T, error)\n",
        "\n",
        "        return W, error"
      ],
      "execution_count": 114,
      "outputs": []
    },
    {
      "cell_type": "code",
      "metadata": {
        "colab": {
          "base_uri": "https://localhost:8080/"
        },
        "id": "VuJRMN3eiLCQ",
        "outputId": "3a95f5e4-2a98-43f9-d10d-3aa99f11fe0c"
      },
      "source": [
        "from sklearn.preprocessing import StandardScaler\n",
        "sc = StandardScaler()\n",
        "\n",
        "X_train[:, 8:11] = sc.fit_transform(X_train[:, 8:11])\n",
        "X_test[:, 8:11] = sc.transform(X_test[:, 8:11])\n",
        "Y_train = Y_train.reshape(-1, 1)\n",
        "Y_train = sc.fit_transform(Y_train)\n",
        "Y_test = Y_test.reshape(-1, 1)\n",
        "Y_test = sc.fit_transform(Y_test)\n",
        "print(X_train[0])\n",
        "print(X_test[0])\n",
        "print(Y_train)\n",
        "print(Y_train.shape)\n",
        "print(X_train.shape)"
      ],
      "execution_count": 116,
      "outputs": [
        {
          "output_type": "stream",
          "name": "stdout",
          "text": [
            "[0.0 1.0 1.0 0.0 0.0 0.0 1.0 0.0 1.5855501703442836 0.41411571577417966\n",
            " 1.4894065185340781]\n",
            "[1.0 0.0 0.0 1.0 0.0 1.0 0.0 0.0 -0.9205412028908664 1.3864435332426204\n",
            " 0.3455508724918316]\n",
            "[[ 0.02352913]\n",
            " [-0.0505176 ]\n",
            " [-0.34135011]\n",
            " ...\n",
            " [-0.97548154]\n",
            " [ 0.47423484]\n",
            " [ 2.88308022]]\n",
            "(1069, 1)\n",
            "(1069, 11)\n"
          ]
        }
      ]
    },
    {
      "cell_type": "code",
      "metadata": {
        "id": "UXyZE12d2tmP"
      },
      "source": [
        "def predict(X_train,X_test,name,theta):\n",
        "        if name=='X_train':\n",
        "            nrows, ncols = X_train.shape[0], X_train.shape[1]\n",
        "            #t_X = X_train[:, 0:(ncols)].reshape(nrows, ncols)\n",
        "            #t_Y = X_train[:, (ncols)].reshape(nrows, 1)\n",
        "            t_X = X_train[:, 0:(ncols)]\n",
        "            t_Y = X_train[:, (ncols-1)]\n",
        "        else:\n",
        "            nrows, ncols = X_test.shape[0], X_test.shape[1]\n",
        "            #t_X = X_test[:, 0:(ncols )].reshape(nrows, ncols)\n",
        "            #t_Y = X_test[:, (ncols)].reshape(nrows, 1)\n",
        "            t_X = X_test[:, 0:(ncols)]\n",
        "            t_Y = X_test[:, (ncols-1)]\n",
        "            \n",
        "        \n",
        "        #t_X =sc.fit_transform(X_train[:, 8:11])\n",
        "        pred = np.dot(t_X, theta)\n",
        "        error = pred - t_Y\n",
        "        mse = (1/(2*nrows)) * np.dot(error.T, error)\n",
        "        return mse"
      ],
      "execution_count": 124,
      "outputs": []
    },
    {
      "cell_type": "code",
      "metadata": {
        "colab": {
          "base_uri": "https://localhost:8080/"
        },
        "id": "Lae1Xy575xXR",
        "outputId": "6e991b1e-626d-4718-844d-f9b9952ae16b"
      },
      "source": [
        "print(W.shape)\n",
        "print(X_train.shape)\n",
        "print(np.dot(X_train[:,0:11],W[:,0:11]))"
      ],
      "execution_count": 121,
      "outputs": [
        {
          "output_type": "stream",
          "name": "stdout",
          "text": [
            "(11, 1)\n",
            "(1069, 11)\n",
            "[[3.4307504041607544]\n",
            " [0.4763660417995279]\n",
            " [0.7096193167397105]\n",
            " ...\n",
            " [2.5953594768923636]\n",
            " [0.4374347191930063]\n",
            " [3.8471973572075893]]\n"
          ]
        }
      ]
    },
    {
      "cell_type": "code",
      "metadata": {
        "id": "cjFJIqz95TF3"
      },
      "source": [
        "mse_train = []\n",
        "epochs = [50,150,300,450,1000]\n",
        "learning_rate = [0.01,0.1,1.9,2]\n",
        "for i in epochs:\n",
        "  for j in learning_rate:\n",
        "        theta,error = trainData(X_train,Y_train,W,i,j)\n",
        "        mse_train.append(predict(X_train,X_test,'X_train',theta))\n",
        "mse_train_1 = np.array(mse_train)\n",
        "mse_train_1 = mse_train_1.reshape(-1,1)\n",
        "print(mse_train_1)\n",
        "print(np.min(mse_train_1))\n",
        "print(type(mse_train))"
      ],
      "execution_count": null,
      "outputs": []
    },
    {
      "cell_type": "code",
      "metadata": {
        "id": "HNF2SMD-4HRX"
      },
      "source": [
        ""
      ],
      "execution_count": null,
      "outputs": []
    }
  ]
}