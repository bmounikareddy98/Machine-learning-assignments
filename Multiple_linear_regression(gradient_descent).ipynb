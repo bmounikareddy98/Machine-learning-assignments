{
  "nbformat": 4,
  "nbformat_minor": 0,
  "metadata": {
    "colab": {
      "name": "Multiple_linear_regression(gradient_descent).ipynb",
      "provenance": [],
      "authorship_tag": "ABX9TyOn2VaONW1dCZPTuqBsgouo",
      "include_colab_link": true
    },
    "kernelspec": {
      "name": "python3",
      "display_name": "Python 3"
    },
    "language_info": {
      "name": "python"
    },
    "accelerator": "TPU"
  },
  "cells": [
    {
      "cell_type": "markdown",
      "metadata": {
        "id": "view-in-github",
        "colab_type": "text"
      },
      "source": [
        "<a href=\"https://colab.research.google.com/github/bmounikareddy98/Machine-learning-assignments/blob/main/Multiple_linear_regression(gradient_descent).ipynb\" target=\"_parent\"><img src=\"https://colab.research.google.com/assets/colab-badge.svg\" alt=\"Open In Colab\"/></a>"
      ]
    },
    {
      "cell_type": "code",
      "metadata": {
        "id": "oHLrbQeDhty1"
      },
      "source": [
        "import numpy as np\n",
        "import matplotlib.pyplot as plt \n",
        "import pandas as pd  \n",
        "import seaborn as sns \n",
        "from sklearn.metrics import r2_score\n",
        "from sklearn.preprocessing import StandardScaler\n",
        "from sklearn.model_selection import train_test_split\n",
        "from sklearn.linear_model import LinearRegression\n",
        "from sklearn.metrics import mean_squared_error\n",
        "from sklearn.linear_model import SGDRegressor"
      ],
      "execution_count": 1,
      "outputs": []
    },
    {
      "cell_type": "code",
      "metadata": {
        "colab": {
          "base_uri": "https://localhost:8080/"
        },
        "id": "P2nssY0Rh8EK",
        "outputId": "ddfd07a2-2092-4581-9ff3-cd3cabe474d3"
      },
      "source": [
        "url = 'https://raw.githubusercontent.com/bmounikareddy98/Machine-learning-assignments/main/insurance.csv'\n",
        "dataset = pd.read_csv(url)\n",
        "dataset=dataset.dropna()\n",
        "dataset = dataset.drop_duplicates()\n",
        "print(dataset.head())"
      ],
      "execution_count": 2,
      "outputs": [
        {
          "output_type": "stream",
          "name": "stdout",
          "text": [
            "      sex smoker     region  children     bmi  age      charges\n",
            "0  female    yes  southwest         0  27.900   19  16884.92400\n",
            "1    male     no  southeast         1  33.770   18   1725.55230\n",
            "2    male     no  southeast         3  33.000   28   4449.46200\n",
            "3    male     no  northwest         0  22.705   33  21984.47061\n",
            "4    male     no  northwest         0  28.880   32   3866.85520\n"
          ]
        }
      ]
    },
    {
      "cell_type": "code",
      "metadata": {
        "colab": {
          "base_uri": "https://localhost:8080/"
        },
        "id": "z5d_lwJsh-zL",
        "outputId": "ade18cee-2bd8-4a99-d637-160cb5ff4d1e"
      },
      "source": [
        "X = dataset.iloc[:, :-1].values\n",
        "Y = dataset.iloc[:, -1].values\n",
        "print(X.shape)\n",
        "print(Y.shape)\n",
        "print(X[5])\n",
        "#print(Y[5])\n",
        "print(type(dataset))\n"
      ],
      "execution_count": 3,
      "outputs": [
        {
          "output_type": "stream",
          "name": "stdout",
          "text": [
            "(1337, 6)\n",
            "(1337,)\n",
            "['female' 'no' 'southeast' 0 25.74 31]\n",
            "<class 'pandas.core.frame.DataFrame'>\n"
          ]
        }
      ]
    },
    {
      "cell_type": "code",
      "metadata": {
        "colab": {
          "base_uri": "https://localhost:8080/"
        },
        "id": "OrB_cEVLiBhy",
        "outputId": "e7266901-0c39-40c8-a82f-6cb45d87ac42"
      },
      "source": [
        "from sklearn.preprocessing import LabelEncoder\n",
        "labelencoder = LabelEncoder()\n",
        "X[:, 0] = labelencoder.fit_transform(X[:, 0])\n",
        "X[:, 1]= labelencoder.fit_transform(X[:, 1])\n",
        "X[:, 2]= labelencoder.fit_transform(X[:, 2])\n",
        "print(X)"
      ],
      "execution_count": 4,
      "outputs": [
        {
          "output_type": "stream",
          "name": "stdout",
          "text": [
            "[[0 1 3 0 27.9 19]\n",
            " [1 0 2 1 33.77 18]\n",
            " [1 0 2 3 33.0 28]\n",
            " ...\n",
            " [0 0 2 0 36.85 18]\n",
            " [0 0 3 0 25.8 21]\n",
            " [0 1 1 0 29.07 61]]\n"
          ]
        }
      ]
    },
    {
      "cell_type": "code",
      "metadata": {
        "colab": {
          "base_uri": "https://localhost:8080/"
        },
        "id": "oh5ai8P6iEX_",
        "outputId": "e12b6c6d-c4ca-4fdf-f36b-db6145e82def"
      },
      "source": [
        "from sklearn.compose import ColumnTransformer\n",
        "from sklearn.preprocessing import OneHotEncoder\n",
        "ct = ColumnTransformer(transformers=[('encoder', OneHotEncoder(), [0,1,2])], remainder='passthrough')\n",
        "X = np.array(ct.fit_transform(X))\n",
        "\n",
        "\n",
        "print(X[1])\n",
        "#print(X.shape)"
      ],
      "execution_count": 5,
      "outputs": [
        {
          "output_type": "stream",
          "name": "stdout",
          "text": [
            "[0.0 1.0 1.0 0.0 0.0 0.0 1.0 0.0 1 33.77 18]\n"
          ]
        }
      ]
    },
    {
      "cell_type": "code",
      "metadata": {
        "id": "cCS7KFGkiGfr"
      },
      "source": [
        "from sklearn.model_selection import train_test_split\n",
        "X_train, X_test, Y_train, Y_test = train_test_split(X, Y, test_size = 0.2, random_state = 1)"
      ],
      "execution_count": 6,
      "outputs": []
    },
    {
      "cell_type": "code",
      "metadata": {
        "colab": {
          "base_uri": "https://localhost:8080/"
        },
        "id": "tR97QoXciJTw",
        "outputId": "6188de78-35ce-4108-dc6c-afedb0faa7b5"
      },
      "source": [
        "print(X_train.shape)\n",
        "print(Y_train.shape)\n",
        "print(X_test.shape)\n",
        "print(Y_test.shape)"
      ],
      "execution_count": 7,
      "outputs": [
        {
          "output_type": "stream",
          "name": "stdout",
          "text": [
            "(1069, 11)\n",
            "(1069,)\n",
            "(268, 11)\n",
            "(268,)\n"
          ]
        }
      ]
    },
    {
      "cell_type": "code",
      "metadata": {
        "colab": {
          "base_uri": "https://localhost:8080/"
        },
        "id": "0Fz3zI2d3JMD",
        "outputId": "f82f88c3-63ff-43bc-8160-629ee381b733"
      },
      "source": [
        "nrows,ncols = X_train.shape[0],X_train.shape[1]\n",
        "W = np.random.rand(ncols).reshape(ncols, 1)\n",
        "print(W.shape)\n",
        "print(nrows)\n",
        "print(ncols)\n",
        "print(np.dot(X_train,W))"
      ],
      "execution_count": 8,
      "outputs": [
        {
          "output_type": "stream",
          "name": "stdout",
          "text": [
            "(11, 1)\n",
            "1069\n",
            "11\n",
            "[[73.42826145807511]\n",
            " [66.67636876546395]\n",
            " [59.003695188835415]\n",
            " ...\n",
            " [43.08470377736099]\n",
            " [48.95853055668647]\n",
            " [77.81097097071628]]\n"
          ]
        }
      ]
    },
    {
      "cell_type": "code",
      "metadata": {
        "id": "HZtUyUt42h8m"
      },
      "source": [
        "def trainData(X,Y,W, epochs, learning_rate):\n",
        "        # Perform Gradient Descent\n",
        "        for i in range(epochs):\n",
        "            # Make prediction with current weights\n",
        "            h = np.dot(X, W)\n",
        "            # Find error\n",
        "            error = h - Y\n",
        "            W = W - (1 / nrows) * learning_rate * np.dot(X.T, error)\n",
        "\n",
        "        return W, error"
      ],
      "execution_count": 9,
      "outputs": []
    },
    {
      "cell_type": "code",
      "metadata": {
        "colab": {
          "base_uri": "https://localhost:8080/"
        },
        "id": "VuJRMN3eiLCQ",
        "outputId": "0b05ebf0-5e63-453d-bbfb-abb84c3850cf"
      },
      "source": [
        "from sklearn.preprocessing import StandardScaler\n",
        "sc = StandardScaler()\n",
        "\n",
        "X_train[:, 8:11] = sc.fit_transform(X_train[:, 8:11])\n",
        "X_test[:, 8:11] = sc.transform(X_test[:, 8:11])\n",
        "Y_train = Y_train.reshape(-1, 1)\n",
        "Y_train = sc.fit_transform(Y_train)\n",
        "Y_test = Y_test.reshape(-1, 1)\n",
        "Y_test = sc.fit_transform(Y_test)\n",
        "print(X_train[0])\n",
        "print(X_test[0])\n",
        "print(Y_train)\n",
        "print(Y_train.shape)\n",
        "print(X_train.shape)"
      ],
      "execution_count": 10,
      "outputs": [
        {
          "output_type": "stream",
          "name": "stdout",
          "text": [
            "[0.0 1.0 1.0 0.0 0.0 0.0 1.0 0.0 1.5855501703442823 0.4141157157741812\n",
            " 1.489406518534078]\n",
            "[1.0 0.0 0.0 1.0 0.0 1.0 0.0 0.0 -0.9205412028908647 1.3864435332426208\n",
            " 0.34555087249183136]\n",
            "[[ 0.02352913]\n",
            " [-0.0505176 ]\n",
            " [-0.34135011]\n",
            " ...\n",
            " [-0.97548154]\n",
            " [ 0.47423484]\n",
            " [ 2.88308022]]\n",
            "(1069, 1)\n",
            "(1069, 11)\n"
          ]
        }
      ]
    },
    {
      "cell_type": "code",
      "metadata": {
        "id": "UXyZE12d2tmP"
      },
      "source": [
        "def predict(X_train,X_test,name,theta):\n",
        "        if name=='X_train':\n",
        "            nrows, ncols = X_train.shape[0], X_train.shape[1]\n",
        "            #t_X = X_train[:, 0:(ncols)].reshape(nrows, ncols)\n",
        "            #t_Y = X_train[:, (ncols)].reshape(nrows, 1)\n",
        "            t_X = X_train[:, 0:(ncols)]\n",
        "            t_Y = X_train[:, (ncols-1)]\n",
        "        else:\n",
        "            nrows, ncols = X_test.shape[0], X_test.shape[1]\n",
        "            #t_X = X_test[:, 0:(ncols )].reshape(nrows, ncols)\n",
        "            #t_Y = X_test[:, (ncols)].reshape(nrows, 1)\n",
        "            t_X = X_test[:, 0:(ncols)]\n",
        "            t_Y = X_test[:, (ncols-1)]\n",
        "            \n",
        "        \n",
        "        #t_X =sc.fit_transform(X_train[:, 8:11])\n",
        "        pred = np.dot(t_X, theta)\n",
        "        error = pred - t_Y\n",
        "        mse = (1/(2*nrows)) * np.dot(error.T, error)\n",
        "        return mse"
      ],
      "execution_count": 30,
      "outputs": []
    },
    {
      "cell_type": "code",
      "metadata": {
        "colab": {
          "base_uri": "https://localhost:8080/"
        },
        "id": "Lae1Xy575xXR",
        "outputId": "536f807c-bf4e-4d9b-d60a-0400f1a56db0"
      },
      "source": [
        "\"\"\"print(W.shape)\n",
        "print(X_train.shape)\n",
        "print(np.dot(X_test[:,0:11],theta))\"\"\"\n",
        "x=np.dot(X_train[:,0:11],theta)\n",
        "s=x.shape\n",
        "example= (X_test[:, (ncols-1)] )\n",
        "example1= (X_train[:, (ncols-1)] )\n",
        "print(example1.shape)\n",
        "print(s)\n"
      ],
      "execution_count": 29,
      "outputs": [
        {
          "output_type": "stream",
          "name": "stdout",
          "text": [
            "(1069,)\n",
            "(1069, 1337)\n"
          ]
        }
      ]
    },
    {
      "cell_type": "code",
      "metadata": {
        "colab": {
          "base_uri": "https://localhost:8080/"
        },
        "id": "cjFJIqz95TF3",
        "outputId": "63d356dc-dabe-43d1-ac54-00948de1fd75"
      },
      "source": [
        "mse_train = []\n",
        "epochs = [50]\n",
        "learning_rate = [0.01]\n",
        "for i in epochs:\n",
        "  for j in learning_rate:\n",
        "        theta,error = trainData(X_train,Y_train,W,i,j)\n",
        "        mse_train.append(predict(X_train,X_test,'X_train',theta))\n",
        "mse_train_1 = np.array(mse_train)\n",
        "mse_train_1 = mse_train_1.reshape(-1,1)\n",
        "print(mse_train_1)\n",
        "print(np.min(mse_train_1))\n",
        "print(type(mse_train))"
      ],
      "execution_count": 31,
      "outputs": [
        {
          "output_type": "stream",
          "name": "stdout",
          "text": [
            "[[0.6179404499509472]\n",
            " [0.6179404499509472]\n",
            " [0.305961438277687]\n",
            " ...\n",
            " [-0.29888309954702397]\n",
            " [0.12308677870175476]\n",
            " [0.5684994279643547]]\n",
            "-0.7993137201180833\n",
            "<class 'list'>\n"
          ]
        }
      ]
    },
    {
      "cell_type": "code",
      "metadata": {
        "colab": {
          "base_uri": "https://localhost:8080/"
        },
        "id": "PqGplkBNIydc",
        "outputId": "29fb7679-08f8-457b-9836-667ec97cdb73"
      },
      "source": [
        "print(X_test.shape)"
      ],
      "execution_count": 17,
      "outputs": [
        {
          "output_type": "stream",
          "name": "stdout",
          "text": [
            "(268, 11)\n"
          ]
        }
      ]
    },
    {
      "cell_type": "code",
      "metadata": {
        "colab": {
          "base_uri": "https://localhost:8080/",
          "height": 357
        },
        "id": "HNF2SMD-4HRX",
        "outputId": "435d34b0-7202-43fe-918e-8971519eab87"
      },
      "source": [
        "mse_test = []\n",
        "epochs = [50]\n",
        "learning_rate = [0.01]\n",
        "for i in epochs:\n",
        "  for j in learning_rate:\n",
        "        theta,error = trainData(X,Y,W,i,j)\n",
        "        mse_test.append(predict(X_train,X_test,'X_test',theta))\n",
        "mse_test = np.array(mse_test)\n",
        "mse_test = mse_test.reshape(-1,1)\n",
        "print(mse_test)\n",
        "print(np.min(mse_test))"
      ],
      "execution_count": 32,
      "outputs": [
        {
          "output_type": "error",
          "ename": "ValueError",
          "evalue": "ignored",
          "traceback": [
            "\u001b[0;31m---------------------------------------------------------------------------\u001b[0m",
            "\u001b[0;31mValueError\u001b[0m                                Traceback (most recent call last)",
            "\u001b[0;32m<ipython-input-32-c162e2bf2983>\u001b[0m in \u001b[0;36m<module>\u001b[0;34m()\u001b[0m\n\u001b[1;32m      5\u001b[0m   \u001b[0;32mfor\u001b[0m \u001b[0mj\u001b[0m \u001b[0;32min\u001b[0m \u001b[0mlearning_rate\u001b[0m\u001b[0;34m:\u001b[0m\u001b[0;34m\u001b[0m\u001b[0;34m\u001b[0m\u001b[0m\n\u001b[1;32m      6\u001b[0m         \u001b[0mtheta\u001b[0m\u001b[0;34m,\u001b[0m\u001b[0merror\u001b[0m \u001b[0;34m=\u001b[0m \u001b[0mtrainData\u001b[0m\u001b[0;34m(\u001b[0m\u001b[0mX\u001b[0m\u001b[0;34m,\u001b[0m\u001b[0mY\u001b[0m\u001b[0;34m,\u001b[0m\u001b[0mW\u001b[0m\u001b[0;34m,\u001b[0m\u001b[0mi\u001b[0m\u001b[0;34m,\u001b[0m\u001b[0mj\u001b[0m\u001b[0;34m)\u001b[0m\u001b[0;34m\u001b[0m\u001b[0;34m\u001b[0m\u001b[0m\n\u001b[0;32m----> 7\u001b[0;31m         \u001b[0mmse_test\u001b[0m\u001b[0;34m.\u001b[0m\u001b[0mappend\u001b[0m\u001b[0;34m(\u001b[0m\u001b[0mpredict\u001b[0m\u001b[0;34m(\u001b[0m\u001b[0mX_train\u001b[0m\u001b[0;34m,\u001b[0m\u001b[0mX_test\u001b[0m\u001b[0;34m,\u001b[0m\u001b[0;34m'X_test'\u001b[0m\u001b[0;34m,\u001b[0m\u001b[0mtheta\u001b[0m\u001b[0;34m)\u001b[0m\u001b[0;34m)\u001b[0m\u001b[0;34m\u001b[0m\u001b[0;34m\u001b[0m\u001b[0m\n\u001b[0m\u001b[1;32m      8\u001b[0m \u001b[0mmse_test\u001b[0m \u001b[0;34m=\u001b[0m \u001b[0mnp\u001b[0m\u001b[0;34m.\u001b[0m\u001b[0marray\u001b[0m\u001b[0;34m(\u001b[0m\u001b[0mmse_test\u001b[0m\u001b[0;34m)\u001b[0m\u001b[0;34m\u001b[0m\u001b[0;34m\u001b[0m\u001b[0m\n\u001b[1;32m      9\u001b[0m \u001b[0mmse_test\u001b[0m \u001b[0;34m=\u001b[0m \u001b[0mmse_test\u001b[0m\u001b[0;34m.\u001b[0m\u001b[0mreshape\u001b[0m\u001b[0;34m(\u001b[0m\u001b[0;34m-\u001b[0m\u001b[0;36m1\u001b[0m\u001b[0;34m,\u001b[0m\u001b[0;36m1\u001b[0m\u001b[0;34m)\u001b[0m\u001b[0;34m\u001b[0m\u001b[0;34m\u001b[0m\u001b[0m\n",
            "\u001b[0;32m<ipython-input-30-5dd6ba2099ac>\u001b[0m in \u001b[0;36mpredict\u001b[0;34m(X_train, X_test, name, theta)\u001b[0m\n\u001b[1;32m     16\u001b[0m         \u001b[0;31m#t_X =sc.fit_transform(X_train[:, 8:11])\u001b[0m\u001b[0;34m\u001b[0m\u001b[0;34m\u001b[0m\u001b[0;34m\u001b[0m\u001b[0m\n\u001b[1;32m     17\u001b[0m         \u001b[0mpred\u001b[0m \u001b[0;34m=\u001b[0m \u001b[0mnp\u001b[0m\u001b[0;34m.\u001b[0m\u001b[0mdot\u001b[0m\u001b[0;34m(\u001b[0m\u001b[0mt_X\u001b[0m\u001b[0;34m,\u001b[0m \u001b[0mtheta\u001b[0m\u001b[0;34m)\u001b[0m\u001b[0;34m\u001b[0m\u001b[0;34m\u001b[0m\u001b[0m\n\u001b[0;32m---> 18\u001b[0;31m         \u001b[0merror\u001b[0m \u001b[0;34m=\u001b[0m \u001b[0mpred\u001b[0m \u001b[0;34m-\u001b[0m \u001b[0mt_Y\u001b[0m\u001b[0;34m\u001b[0m\u001b[0;34m\u001b[0m\u001b[0m\n\u001b[0m\u001b[1;32m     19\u001b[0m         \u001b[0mmse\u001b[0m \u001b[0;34m=\u001b[0m \u001b[0;34m(\u001b[0m\u001b[0;36m1\u001b[0m\u001b[0;34m/\u001b[0m\u001b[0;34m(\u001b[0m\u001b[0;36m2\u001b[0m\u001b[0;34m*\u001b[0m\u001b[0mnrows\u001b[0m\u001b[0;34m)\u001b[0m\u001b[0;34m)\u001b[0m \u001b[0;34m*\u001b[0m \u001b[0mnp\u001b[0m\u001b[0;34m.\u001b[0m\u001b[0mdot\u001b[0m\u001b[0;34m(\u001b[0m\u001b[0merror\u001b[0m\u001b[0;34m.\u001b[0m\u001b[0mT\u001b[0m\u001b[0;34m,\u001b[0m \u001b[0merror\u001b[0m\u001b[0;34m)\u001b[0m\u001b[0;34m\u001b[0m\u001b[0;34m\u001b[0m\u001b[0m\n\u001b[1;32m     20\u001b[0m         \u001b[0;32mreturn\u001b[0m \u001b[0mmse\u001b[0m\u001b[0;34m\u001b[0m\u001b[0;34m\u001b[0m\u001b[0m\n",
            "\u001b[0;31mValueError\u001b[0m: operands could not be broadcast together with shapes (268,1337) (268,) "
          ]
        }
      ]
    }
  ]
}