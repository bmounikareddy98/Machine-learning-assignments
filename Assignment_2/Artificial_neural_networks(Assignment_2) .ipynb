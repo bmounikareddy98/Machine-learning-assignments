{
  "nbformat": 4,
  "nbformat_minor": 0,
  "metadata": {
    "colab": {
      "name": "Artificial_neural_networks(Assignment-2).ipynb",
      "provenance": []
    },
    "kernelspec": {
      "name": "python3",
      "display_name": "Python 3"
    },
    "language_info": {
      "name": "python"
    }
  },
  "cells": [
    {
      "cell_type": "markdown",
      "metadata": {
        "id": "0jMO-KD2Yohc"
      },
      "source": [
        "**Importing the libraries**"
      ]
    },
    {
      "cell_type": "code",
      "metadata": {
        "id": "WsXjC_9hYXW5"
      },
      "source": [
        "import pandas as pd\n",
        "import numpy as np\n",
        "import tensorflow as tf\n",
        "import matplotlib.pyplot as plt"
      ],
      "execution_count": 1,
      "outputs": []
    },
    {
      "cell_type": "code",
      "metadata": {
        "colab": {
          "base_uri": "https://localhost:8080/",
          "height": 35
        },
        "id": "LUp7pxhWYfJg",
        "outputId": "a2067519-213d-4c90-f354-677247af0d51"
      },
      "source": [
        "tf.__version__"
      ],
      "execution_count": 3,
      "outputs": [
        {
          "output_type": "execute_result",
          "data": {
            "application/vnd.google.colaboratory.intrinsic+json": {
              "type": "string"
            },
            "text/plain": [
              "'2.6.0'"
            ]
          },
          "metadata": {},
          "execution_count": 3
        }
      ]
    },
    {
      "cell_type": "markdown",
      "metadata": {
        "id": "1CIZnlZ_YskM"
      },
      "source": [
        "**Performing data pre-processing**"
      ]
    },
    {
      "cell_type": "markdown",
      "metadata": {
        "id": "mc_X9IJJ04ys"
      },
      "source": [
        "**Check for null and duplicate values**"
      ]
    },
    {
      "cell_type": "code",
      "metadata": {
        "colab": {
          "base_uri": "https://localhost:8080/"
        },
        "id": "V5vCTOjS02fr",
        "outputId": "f921c890-3309-41d1-aa5c-17f6c9b65523"
      },
      "source": [
        "dataset = pd.read_csv('https://raw.githubusercontent.com/bmounikareddy98/Machine-learning-assignments/main/Assignment_2/Churn_Modelling.csv')\n",
        "dataset.head() # Understanding the data\n",
        "\n",
        "print(\"The number of null values for each feature is:\", dataset.isnull().sum())\n",
        "print(\"The number of duplicate records in the dataset are :\" ,dataset.duplicated().sum())\n",
        "\n",
        "\n",
        "\n"
      ],
      "execution_count": 2,
      "outputs": [
        {
          "output_type": "stream",
          "name": "stdout",
          "text": [
            "The number of null values for each feature is: RowNumber          0\n",
            "CustomerId         0\n",
            "Surname            0\n",
            "CreditScore        0\n",
            "Geography          0\n",
            "Gender             0\n",
            "Age                0\n",
            "Tenure             0\n",
            "Balance            0\n",
            "NumOfProducts      0\n",
            "HasCrCard          0\n",
            "IsActiveMember     0\n",
            "EstimatedSalary    0\n",
            "Exited             0\n",
            "dtype: int64\n",
            "The number of duplicate records in the dataset are : 0\n"
          ]
        }
      ]
    },
    {
      "cell_type": "code",
      "metadata": {
        "id": "QemfnfczZP9z"
      },
      "source": [
        "X= dataset.iloc[:,3:-1].values # The first three columns rownumber, customerid and surname are not relevant to predict if the customer leaves a bank\n",
        "Y= dataset.iloc[:,-1].values #Dependent variable\n"
      ],
      "execution_count": 3,
      "outputs": []
    },
    {
      "cell_type": "code",
      "metadata": {
        "colab": {
          "base_uri": "https://localhost:8080/"
        },
        "id": "nheWIXI_Z5tj",
        "outputId": "bd9526d5-01cc-4146-d6d4-3bfab6a61ccb"
      },
      "source": [
        "print(X) # The independent features array"
      ],
      "execution_count": 4,
      "outputs": [
        {
          "output_type": "stream",
          "name": "stdout",
          "text": [
            "[[619 'France' 'Female' ... 1 1 101348.88]\n",
            " [608 'Spain' 'Female' ... 0 1 112542.58]\n",
            " [502 'France' 'Female' ... 1 0 113931.57]\n",
            " ...\n",
            " [709 'France' 'Female' ... 0 1 42085.58]\n",
            " [772 'Germany' 'Male' ... 1 0 92888.52]\n",
            " [792 'France' 'Female' ... 1 0 38190.78]]\n"
          ]
        }
      ]
    },
    {
      "cell_type": "code",
      "metadata": {
        "colab": {
          "base_uri": "https://localhost:8080/"
        },
        "id": "9FWrLZp4aGOD",
        "outputId": "504a2a4d-c48e-48b2-c72f-4305e297fcc8"
      },
      "source": [
        "print(Y) # The dependent feature(leave or stay in the bank)"
      ],
      "execution_count": 5,
      "outputs": [
        {
          "output_type": "stream",
          "name": "stdout",
          "text": [
            "[1 0 1 ... 1 1 0]\n"
          ]
        }
      ]
    },
    {
      "cell_type": "markdown",
      "metadata": {
        "id": "eRIm0tsmaTJU"
      },
      "source": [
        "**Encoding categorical data**"
      ]
    },
    {
      "cell_type": "markdown",
      "metadata": {
        "id": "MVuB5i4MbPsc"
      },
      "source": [
        "**Performing LabelEncoding on Gender column because the order matters**"
      ]
    },
    {
      "cell_type": "code",
      "metadata": {
        "colab": {
          "base_uri": "https://localhost:8080/"
        },
        "id": "7J3i9NFHaMFt",
        "outputId": "48b98b6a-12c3-4a2f-986e-a91cc2b64bdb"
      },
      "source": [
        "from sklearn.preprocessing import LabelEncoder\n",
        "le= LabelEncoder()\n",
        "X[:, 2] = le.fit_transform(X[:, 2]) # Label encoding the gender column\n",
        "print(X)"
      ],
      "execution_count": 6,
      "outputs": [
        {
          "output_type": "stream",
          "name": "stdout",
          "text": [
            "[[619 'France' 0 ... 1 1 101348.88]\n",
            " [608 'Spain' 0 ... 0 1 112542.58]\n",
            " [502 'France' 0 ... 1 0 113931.57]\n",
            " ...\n",
            " [709 'France' 0 ... 0 1 42085.58]\n",
            " [772 'Germany' 1 ... 1 0 92888.52]\n",
            " [792 'France' 0 ... 1 0 38190.78]]\n"
          ]
        }
      ]
    },
    {
      "cell_type": "markdown",
      "metadata": {
        "id": "wykiyLEjbEQf"
      },
      "source": [
        "**Performing OneHotEncoding on Geography column because the order doesn't matter**"
      ]
    },
    {
      "cell_type": "code",
      "metadata": {
        "colab": {
          "base_uri": "https://localhost:8080/"
        },
        "id": "SQ0J4UwabKu1",
        "outputId": "11ea11c6-e27c-4de1-94a2-13f87dfb9502"
      },
      "source": [
        "from sklearn.compose import ColumnTransformer\n",
        "from sklearn.preprocessing import OneHotEncoder\n",
        "ct = ColumnTransformer(transformers=[('encoder', OneHotEncoder(), [1])], remainder='passthrough')\n",
        "X = np.array(ct.fit_transform(X))\n",
        "print(X)"
      ],
      "execution_count": 7,
      "outputs": [
        {
          "output_type": "stream",
          "name": "stdout",
          "text": [
            "[[1.0 0.0 0.0 ... 1 1 101348.88]\n",
            " [0.0 0.0 1.0 ... 0 1 112542.58]\n",
            " [1.0 0.0 0.0 ... 1 0 113931.57]\n",
            " ...\n",
            " [1.0 0.0 0.0 ... 0 1 42085.58]\n",
            " [0.0 1.0 0.0 ... 1 0 92888.52]\n",
            " [1.0 0.0 0.0 ... 1 0 38190.78]]\n"
          ]
        }
      ]
    },
    {
      "cell_type": "markdown",
      "metadata": {
        "id": "HdMEKGtXcchw"
      },
      "source": [
        "**Splitting dataset training data and test data**"
      ]
    },
    {
      "cell_type": "code",
      "metadata": {
        "id": "bP8IiYeBcb0n"
      },
      "source": [
        "from sklearn.model_selection import train_test_split\n",
        "X_train, X_test, Y_train, Y_test = train_test_split(X, Y, test_size = 0.2, random_state = 0)"
      ],
      "execution_count": 8,
      "outputs": []
    },
    {
      "cell_type": "markdown",
      "metadata": {
        "id": "2NcG3dUFdKy-"
      },
      "source": [
        "**Feature scaling to normalize the data**"
      ]
    },
    {
      "cell_type": "code",
      "metadata": {
        "id": "L5oPKh7gdUky"
      },
      "source": [
        "from sklearn.preprocessing import StandardScaler\n",
        "sc = StandardScaler()\n",
        "X_train = sc.fit_transform(X_train)\n",
        "X_test = sc.transform(X_test)"
      ],
      "execution_count": 9,
      "outputs": []
    },
    {
      "cell_type": "markdown",
      "metadata": {
        "id": "LJoQ1FFBdabQ"
      },
      "source": [
        "**Building the ANN**"
      ]
    },
    {
      "cell_type": "code",
      "metadata": {
        "id": "9oapHnNRdZ5m"
      },
      "source": [
        "ann= tf.keras.models.Sequential()"
      ],
      "execution_count": 10,
      "outputs": []
    },
    {
      "cell_type": "markdown",
      "metadata": {
        "id": "SaBH3dFZeYrj"
      },
      "source": [
        "**Adding the input layer and first hidden layer**"
      ]
    },
    {
      "cell_type": "code",
      "metadata": {
        "id": "Tjx9WIF5eep6"
      },
      "source": [
        "ann.add(tf.keras.layers.Dense(units=10, activation='tanh')) # choosing the number of neurons in hidden layer as 10 and activation function as tanh in first hidden layer\n"
      ],
      "execution_count": 12,
      "outputs": []
    },
    {
      "cell_type": "markdown",
      "metadata": {
        "id": "PhQ5fpSQfprO"
      },
      "source": [
        "**Adding the second hidden layer**"
      ]
    },
    {
      "cell_type": "code",
      "metadata": {
        "id": "ifd_9NXuftGt"
      },
      "source": [
        "ann.add(tf.keras.layers.Dense(units=10, activation='tanh')) # choosing the number of neurons in hidden layer as 10 and activation function as tanh in second hidden layer"
      ],
      "execution_count": 13,
      "outputs": []
    },
    {
      "cell_type": "markdown",
      "metadata": {
        "id": "aOpxI43Qfw7S"
      },
      "source": [
        "**Adding the output layer**"
      ]
    },
    {
      "cell_type": "code",
      "metadata": {
        "id": "JkOj2R_8fznB"
      },
      "source": [
        "ann.add(tf.keras.layers.Dense(units=1, activation='sigmoid')) # choosing the number of neurons in output layer as 1 as it is yes or no and activation function as sigmoid in output layer"
      ],
      "execution_count": 14,
      "outputs": []
    },
    {
      "cell_type": "markdown",
      "metadata": {
        "id": "F-polwaegBKW"
      },
      "source": [
        "**Compiling the Neural network**"
      ]
    },
    {
      "cell_type": "code",
      "metadata": {
        "id": "uibiL0wFgAsz"
      },
      "source": [
        "ann.compile(optimizer = 'adam', loss = 'binary_crossentropy', metrics = ['accuracy']) # as the output is either yes or no, used binary_crossentropy function"
      ],
      "execution_count": 15,
      "outputs": []
    },
    {
      "cell_type": "markdown",
      "metadata": {
        "id": "2KZXvIFFgCEY"
      },
      "source": [
        "**Training the ANN on the training dataset**\n"
      ]
    },
    {
      "cell_type": "code",
      "metadata": {
        "colab": {
          "base_uri": "https://localhost:8080/"
        },
        "id": "mcYi_CkogObJ",
        "outputId": "15b13862-4406-4cfd-f51b-b88d4a82e414"
      },
      "source": [
        "ann.fit(X_train, Y_train, batch_size = 32, epochs = 150) # used the batch_size as 32 and epochs as 150\n"
      ],
      "execution_count": 16,
      "outputs": [
        {
          "output_type": "stream",
          "name": "stdout",
          "text": [
            "Epoch 1/150\n",
            "250/250 [==============================] - 1s 1ms/step - loss: 0.5280 - accuracy: 0.7515\n",
            "Epoch 2/150\n",
            "250/250 [==============================] - 0s 1ms/step - loss: 0.4270 - accuracy: 0.8084\n",
            "Epoch 3/150\n",
            "250/250 [==============================] - 0s 2ms/step - loss: 0.4119 - accuracy: 0.8161\n",
            "Epoch 4/150\n",
            "250/250 [==============================] - 0s 1ms/step - loss: 0.3949 - accuracy: 0.8248\n",
            "Epoch 5/150\n",
            "250/250 [==============================] - 0s 1ms/step - loss: 0.3782 - accuracy: 0.8386\n",
            "Epoch 6/150\n",
            "250/250 [==============================] - 0s 1ms/step - loss: 0.3651 - accuracy: 0.8475\n",
            "Epoch 7/150\n",
            "250/250 [==============================] - 0s 1ms/step - loss: 0.3568 - accuracy: 0.8535\n",
            "Epoch 8/150\n",
            "250/250 [==============================] - 0s 1ms/step - loss: 0.3508 - accuracy: 0.8564\n",
            "Epoch 9/150\n",
            "250/250 [==============================] - 0s 1ms/step - loss: 0.3478 - accuracy: 0.8579\n",
            "Epoch 10/150\n",
            "250/250 [==============================] - 0s 1ms/step - loss: 0.3445 - accuracy: 0.8566\n",
            "Epoch 11/150\n",
            "250/250 [==============================] - 0s 1ms/step - loss: 0.3421 - accuracy: 0.8575\n",
            "Epoch 12/150\n",
            "250/250 [==============================] - 0s 1ms/step - loss: 0.3414 - accuracy: 0.8584\n",
            "Epoch 13/150\n",
            "250/250 [==============================] - 0s 1ms/step - loss: 0.3398 - accuracy: 0.8591\n",
            "Epoch 14/150\n",
            "250/250 [==============================] - 0s 1ms/step - loss: 0.3384 - accuracy: 0.8604\n",
            "Epoch 15/150\n",
            "250/250 [==============================] - 0s 1ms/step - loss: 0.3371 - accuracy: 0.8600\n",
            "Epoch 16/150\n",
            "250/250 [==============================] - 0s 1ms/step - loss: 0.3365 - accuracy: 0.8599\n",
            "Epoch 17/150\n",
            "250/250 [==============================] - 0s 1ms/step - loss: 0.3358 - accuracy: 0.8602\n",
            "Epoch 18/150\n",
            "250/250 [==============================] - 0s 1ms/step - loss: 0.3348 - accuracy: 0.8609\n",
            "Epoch 19/150\n",
            "250/250 [==============================] - 0s 1ms/step - loss: 0.3337 - accuracy: 0.8615\n",
            "Epoch 20/150\n",
            "250/250 [==============================] - 0s 1ms/step - loss: 0.3325 - accuracy: 0.8633\n",
            "Epoch 21/150\n",
            "250/250 [==============================] - 0s 1ms/step - loss: 0.3327 - accuracy: 0.8635\n",
            "Epoch 22/150\n",
            "250/250 [==============================] - 0s 1ms/step - loss: 0.3314 - accuracy: 0.8634\n",
            "Epoch 23/150\n",
            "250/250 [==============================] - 0s 1ms/step - loss: 0.3316 - accuracy: 0.8635\n",
            "Epoch 24/150\n",
            "250/250 [==============================] - 0s 1ms/step - loss: 0.3310 - accuracy: 0.8620\n",
            "Epoch 25/150\n",
            "250/250 [==============================] - 0s 2ms/step - loss: 0.3304 - accuracy: 0.8645\n",
            "Epoch 26/150\n",
            "250/250 [==============================] - 0s 1ms/step - loss: 0.3295 - accuracy: 0.8649\n",
            "Epoch 27/150\n",
            "250/250 [==============================] - 0s 1ms/step - loss: 0.3291 - accuracy: 0.8644\n",
            "Epoch 28/150\n",
            "250/250 [==============================] - 0s 1ms/step - loss: 0.3286 - accuracy: 0.8643\n",
            "Epoch 29/150\n",
            "250/250 [==============================] - 0s 1ms/step - loss: 0.3288 - accuracy: 0.8655\n",
            "Epoch 30/150\n",
            "250/250 [==============================] - 0s 1ms/step - loss: 0.3282 - accuracy: 0.8659\n",
            "Epoch 31/150\n",
            "250/250 [==============================] - 0s 1ms/step - loss: 0.3282 - accuracy: 0.8643\n",
            "Epoch 32/150\n",
            "250/250 [==============================] - 0s 1ms/step - loss: 0.3271 - accuracy: 0.8646\n",
            "Epoch 33/150\n",
            "250/250 [==============================] - 0s 1ms/step - loss: 0.3272 - accuracy: 0.8661\n",
            "Epoch 34/150\n",
            "250/250 [==============================] - 0s 1ms/step - loss: 0.3274 - accuracy: 0.8652\n",
            "Epoch 35/150\n",
            "250/250 [==============================] - 0s 1ms/step - loss: 0.3272 - accuracy: 0.8671\n",
            "Epoch 36/150\n",
            "250/250 [==============================] - 0s 1ms/step - loss: 0.3263 - accuracy: 0.8686\n",
            "Epoch 37/150\n",
            "250/250 [==============================] - 0s 1ms/step - loss: 0.3265 - accuracy: 0.8650\n",
            "Epoch 38/150\n",
            "250/250 [==============================] - 0s 1ms/step - loss: 0.3259 - accuracy: 0.8680\n",
            "Epoch 39/150\n",
            "250/250 [==============================] - 0s 1ms/step - loss: 0.3259 - accuracy: 0.8683\n",
            "Epoch 40/150\n",
            "250/250 [==============================] - 0s 1ms/step - loss: 0.3257 - accuracy: 0.8684\n",
            "Epoch 41/150\n",
            "250/250 [==============================] - 0s 1ms/step - loss: 0.3256 - accuracy: 0.8665\n",
            "Epoch 42/150\n",
            "250/250 [==============================] - 0s 1ms/step - loss: 0.3255 - accuracy: 0.8677\n",
            "Epoch 43/150\n",
            "250/250 [==============================] - 0s 1ms/step - loss: 0.3246 - accuracy: 0.8666\n",
            "Epoch 44/150\n",
            "250/250 [==============================] - 0s 1ms/step - loss: 0.3250 - accuracy: 0.8671\n",
            "Epoch 45/150\n",
            "250/250 [==============================] - 0s 1ms/step - loss: 0.3245 - accuracy: 0.8673\n",
            "Epoch 46/150\n",
            "250/250 [==============================] - 0s 1ms/step - loss: 0.3242 - accuracy: 0.8675\n",
            "Epoch 47/150\n",
            "250/250 [==============================] - 0s 1ms/step - loss: 0.3241 - accuracy: 0.8671\n",
            "Epoch 48/150\n",
            "250/250 [==============================] - 0s 1ms/step - loss: 0.3242 - accuracy: 0.8652\n",
            "Epoch 49/150\n",
            "250/250 [==============================] - 0s 1ms/step - loss: 0.3243 - accuracy: 0.8675\n",
            "Epoch 50/150\n",
            "250/250 [==============================] - 0s 1ms/step - loss: 0.3234 - accuracy: 0.8686\n",
            "Epoch 51/150\n",
            "250/250 [==============================] - 0s 1ms/step - loss: 0.3237 - accuracy: 0.8674\n",
            "Epoch 52/150\n",
            "250/250 [==============================] - 0s 1ms/step - loss: 0.3234 - accuracy: 0.8706\n",
            "Epoch 53/150\n",
            "250/250 [==============================] - 0s 1ms/step - loss: 0.3232 - accuracy: 0.8704\n",
            "Epoch 54/150\n",
            "250/250 [==============================] - 0s 1ms/step - loss: 0.3229 - accuracy: 0.8668\n",
            "Epoch 55/150\n",
            "250/250 [==============================] - 0s 1ms/step - loss: 0.3226 - accuracy: 0.8675\n",
            "Epoch 56/150\n",
            "250/250 [==============================] - 0s 1ms/step - loss: 0.3232 - accuracy: 0.8681\n",
            "Epoch 57/150\n",
            "250/250 [==============================] - 0s 1ms/step - loss: 0.3228 - accuracy: 0.8689\n",
            "Epoch 58/150\n",
            "250/250 [==============================] - 0s 1ms/step - loss: 0.3232 - accuracy: 0.8694\n",
            "Epoch 59/150\n",
            "250/250 [==============================] - 0s 1ms/step - loss: 0.3224 - accuracy: 0.8685\n",
            "Epoch 60/150\n",
            "250/250 [==============================] - 0s 1ms/step - loss: 0.3227 - accuracy: 0.8685\n",
            "Epoch 61/150\n",
            "250/250 [==============================] - 0s 2ms/step - loss: 0.3223 - accuracy: 0.8695\n",
            "Epoch 62/150\n",
            "250/250 [==============================] - 0s 2ms/step - loss: 0.3221 - accuracy: 0.8694\n",
            "Epoch 63/150\n",
            "250/250 [==============================] - 0s 1ms/step - loss: 0.3216 - accuracy: 0.8702\n",
            "Epoch 64/150\n",
            "250/250 [==============================] - 0s 1ms/step - loss: 0.3216 - accuracy: 0.8695\n",
            "Epoch 65/150\n",
            "250/250 [==============================] - 0s 1ms/step - loss: 0.3212 - accuracy: 0.8687\n",
            "Epoch 66/150\n",
            "250/250 [==============================] - 0s 1ms/step - loss: 0.3208 - accuracy: 0.8685\n",
            "Epoch 67/150\n",
            "250/250 [==============================] - 0s 2ms/step - loss: 0.3214 - accuracy: 0.8684\n",
            "Epoch 68/150\n",
            "250/250 [==============================] - 0s 1ms/step - loss: 0.3212 - accuracy: 0.8690\n",
            "Epoch 69/150\n",
            "250/250 [==============================] - 0s 1ms/step - loss: 0.3206 - accuracy: 0.8706\n",
            "Epoch 70/150\n",
            "250/250 [==============================] - 0s 1ms/step - loss: 0.3208 - accuracy: 0.8680\n",
            "Epoch 71/150\n",
            "250/250 [==============================] - 0s 1ms/step - loss: 0.3204 - accuracy: 0.8706\n",
            "Epoch 72/150\n",
            "250/250 [==============================] - 0s 1ms/step - loss: 0.3211 - accuracy: 0.8689\n",
            "Epoch 73/150\n",
            "250/250 [==============================] - 0s 1ms/step - loss: 0.3205 - accuracy: 0.8676\n",
            "Epoch 74/150\n",
            "250/250 [==============================] - 0s 1ms/step - loss: 0.3200 - accuracy: 0.8683\n",
            "Epoch 75/150\n",
            "250/250 [==============================] - 0s 1ms/step - loss: 0.3195 - accuracy: 0.8692\n",
            "Epoch 76/150\n",
            "250/250 [==============================] - 0s 1ms/step - loss: 0.3205 - accuracy: 0.8695\n",
            "Epoch 77/150\n",
            "250/250 [==============================] - 0s 1ms/step - loss: 0.3194 - accuracy: 0.8700\n",
            "Epoch 78/150\n",
            "250/250 [==============================] - 0s 1ms/step - loss: 0.3200 - accuracy: 0.8685\n",
            "Epoch 79/150\n",
            "250/250 [==============================] - 0s 1ms/step - loss: 0.3202 - accuracy: 0.8704\n",
            "Epoch 80/150\n",
            "250/250 [==============================] - 0s 1ms/step - loss: 0.3196 - accuracy: 0.8699\n",
            "Epoch 81/150\n",
            "250/250 [==============================] - 0s 1ms/step - loss: 0.3191 - accuracy: 0.8684\n",
            "Epoch 82/150\n",
            "250/250 [==============================] - 0s 1ms/step - loss: 0.3191 - accuracy: 0.8706\n",
            "Epoch 83/150\n",
            "250/250 [==============================] - 0s 1ms/step - loss: 0.3190 - accuracy: 0.8702\n",
            "Epoch 84/150\n",
            "250/250 [==============================] - 0s 1ms/step - loss: 0.3195 - accuracy: 0.8702\n",
            "Epoch 85/150\n",
            "250/250 [==============================] - 0s 1ms/step - loss: 0.3185 - accuracy: 0.8690\n",
            "Epoch 86/150\n",
            "250/250 [==============================] - 0s 1ms/step - loss: 0.3182 - accuracy: 0.8704\n",
            "Epoch 87/150\n",
            "250/250 [==============================] - 0s 1ms/step - loss: 0.3185 - accuracy: 0.8698\n",
            "Epoch 88/150\n",
            "250/250 [==============================] - 0s 1ms/step - loss: 0.3181 - accuracy: 0.8696\n",
            "Epoch 89/150\n",
            "250/250 [==============================] - 0s 1ms/step - loss: 0.3184 - accuracy: 0.8701\n",
            "Epoch 90/150\n",
            "250/250 [==============================] - 0s 1ms/step - loss: 0.3178 - accuracy: 0.8696\n",
            "Epoch 91/150\n",
            "250/250 [==============================] - 0s 1ms/step - loss: 0.3179 - accuracy: 0.8696\n",
            "Epoch 92/150\n",
            "250/250 [==============================] - 0s 1ms/step - loss: 0.3175 - accuracy: 0.8694\n",
            "Epoch 93/150\n",
            "250/250 [==============================] - 0s 1ms/step - loss: 0.3179 - accuracy: 0.8704\n",
            "Epoch 94/150\n",
            "250/250 [==============================] - 0s 1ms/step - loss: 0.3177 - accuracy: 0.8709\n",
            "Epoch 95/150\n",
            "250/250 [==============================] - 0s 1ms/step - loss: 0.3170 - accuracy: 0.8719\n",
            "Epoch 96/150\n",
            "250/250 [==============================] - 0s 1ms/step - loss: 0.3175 - accuracy: 0.8727\n",
            "Epoch 97/150\n",
            "250/250 [==============================] - 0s 1ms/step - loss: 0.3172 - accuracy: 0.8694\n",
            "Epoch 98/150\n",
            "250/250 [==============================] - 0s 1ms/step - loss: 0.3170 - accuracy: 0.8709\n",
            "Epoch 99/150\n",
            "250/250 [==============================] - 0s 1ms/step - loss: 0.3169 - accuracy: 0.8714\n",
            "Epoch 100/150\n",
            "250/250 [==============================] - 0s 1ms/step - loss: 0.3172 - accuracy: 0.8706\n",
            "Epoch 101/150\n",
            "250/250 [==============================] - 0s 1ms/step - loss: 0.3169 - accuracy: 0.8698\n",
            "Epoch 102/150\n",
            "250/250 [==============================] - 0s 1ms/step - loss: 0.3165 - accuracy: 0.8690\n",
            "Epoch 103/150\n",
            "250/250 [==============================] - 0s 1ms/step - loss: 0.3168 - accuracy: 0.8737\n",
            "Epoch 104/150\n",
            "250/250 [==============================] - 0s 1ms/step - loss: 0.3167 - accuracy: 0.8711\n",
            "Epoch 105/150\n",
            "250/250 [==============================] - 0s 1ms/step - loss: 0.3162 - accuracy: 0.8710\n",
            "Epoch 106/150\n",
            "250/250 [==============================] - 0s 1ms/step - loss: 0.3164 - accuracy: 0.8711\n",
            "Epoch 107/150\n",
            "250/250 [==============================] - 0s 1ms/step - loss: 0.3160 - accuracy: 0.8711\n",
            "Epoch 108/150\n",
            "250/250 [==============================] - 0s 1ms/step - loss: 0.3163 - accuracy: 0.8710\n",
            "Epoch 109/150\n",
            "250/250 [==============================] - 0s 1ms/step - loss: 0.3155 - accuracy: 0.8709\n",
            "Epoch 110/150\n",
            "250/250 [==============================] - 0s 1ms/step - loss: 0.3160 - accuracy: 0.8701\n",
            "Epoch 111/150\n",
            "250/250 [==============================] - 0s 1ms/step - loss: 0.3155 - accuracy: 0.8723\n",
            "Epoch 112/150\n",
            "250/250 [==============================] - 0s 1ms/step - loss: 0.3155 - accuracy: 0.8710\n",
            "Epoch 113/150\n",
            "250/250 [==============================] - 0s 1ms/step - loss: 0.3151 - accuracy: 0.8727\n",
            "Epoch 114/150\n",
            "250/250 [==============================] - 0s 1ms/step - loss: 0.3151 - accuracy: 0.8733\n",
            "Epoch 115/150\n",
            "250/250 [==============================] - 0s 2ms/step - loss: 0.3152 - accuracy: 0.8695\n",
            "Epoch 116/150\n",
            "250/250 [==============================] - 0s 1ms/step - loss: 0.3153 - accuracy: 0.8716\n",
            "Epoch 117/150\n",
            "250/250 [==============================] - 0s 1ms/step - loss: 0.3150 - accuracy: 0.8721\n",
            "Epoch 118/150\n",
            "250/250 [==============================] - 0s 2ms/step - loss: 0.3148 - accuracy: 0.8715\n",
            "Epoch 119/150\n",
            "250/250 [==============================] - 0s 1ms/step - loss: 0.3144 - accuracy: 0.8720\n",
            "Epoch 120/150\n",
            "250/250 [==============================] - 0s 1ms/step - loss: 0.3144 - accuracy: 0.8725\n",
            "Epoch 121/150\n",
            "250/250 [==============================] - 0s 1ms/step - loss: 0.3149 - accuracy: 0.8721\n",
            "Epoch 122/150\n",
            "250/250 [==============================] - 0s 1ms/step - loss: 0.3143 - accuracy: 0.8725\n",
            "Epoch 123/150\n",
            "250/250 [==============================] - 0s 2ms/step - loss: 0.3143 - accuracy: 0.8714\n",
            "Epoch 124/150\n",
            "250/250 [==============================] - 0s 2ms/step - loss: 0.3138 - accuracy: 0.8701\n",
            "Epoch 125/150\n",
            "250/250 [==============================] - 0s 1ms/step - loss: 0.3140 - accuracy: 0.8695\n",
            "Epoch 126/150\n",
            "250/250 [==============================] - 0s 1ms/step - loss: 0.3139 - accuracy: 0.8708\n",
            "Epoch 127/150\n",
            "250/250 [==============================] - 0s 1ms/step - loss: 0.3133 - accuracy: 0.8721\n",
            "Epoch 128/150\n",
            "250/250 [==============================] - 0s 1ms/step - loss: 0.3130 - accuracy: 0.8729\n",
            "Epoch 129/150\n",
            "250/250 [==============================] - 0s 1ms/step - loss: 0.3134 - accuracy: 0.8724\n",
            "Epoch 130/150\n",
            "250/250 [==============================] - 0s 1ms/step - loss: 0.3133 - accuracy: 0.8711\n",
            "Epoch 131/150\n",
            "250/250 [==============================] - 0s 1ms/step - loss: 0.3133 - accuracy: 0.8710\n",
            "Epoch 132/150\n",
            "250/250 [==============================] - 0s 1ms/step - loss: 0.3135 - accuracy: 0.8727\n",
            "Epoch 133/150\n",
            "250/250 [==============================] - 0s 1ms/step - loss: 0.3130 - accuracy: 0.8720\n",
            "Epoch 134/150\n",
            "250/250 [==============================] - 0s 1ms/step - loss: 0.3129 - accuracy: 0.8726\n",
            "Epoch 135/150\n",
            "250/250 [==============================] - 0s 2ms/step - loss: 0.3130 - accuracy: 0.8720\n",
            "Epoch 136/150\n",
            "250/250 [==============================] - 0s 1ms/step - loss: 0.3127 - accuracy: 0.8714\n",
            "Epoch 137/150\n",
            "250/250 [==============================] - 0s 1ms/step - loss: 0.3127 - accuracy: 0.8705\n",
            "Epoch 138/150\n",
            "250/250 [==============================] - 0s 1ms/step - loss: 0.3127 - accuracy: 0.8685\n",
            "Epoch 139/150\n",
            "250/250 [==============================] - 0s 2ms/step - loss: 0.3124 - accuracy: 0.8711\n",
            "Epoch 140/150\n",
            "250/250 [==============================] - 0s 2ms/step - loss: 0.3124 - accuracy: 0.8719\n",
            "Epoch 141/150\n",
            "250/250 [==============================] - 0s 1ms/step - loss: 0.3122 - accuracy: 0.8729\n",
            "Epoch 142/150\n",
            "250/250 [==============================] - 0s 1ms/step - loss: 0.3125 - accuracy: 0.8715\n",
            "Epoch 143/150\n",
            "250/250 [==============================] - 0s 1ms/step - loss: 0.3121 - accuracy: 0.8723\n",
            "Epoch 144/150\n",
            "250/250 [==============================] - 0s 1ms/step - loss: 0.3121 - accuracy: 0.8721\n",
            "Epoch 145/150\n",
            "250/250 [==============================] - 0s 1ms/step - loss: 0.3116 - accuracy: 0.8724\n",
            "Epoch 146/150\n",
            "250/250 [==============================] - 0s 1ms/step - loss: 0.3114 - accuracy: 0.8715\n",
            "Epoch 147/150\n",
            "250/250 [==============================] - 0s 1ms/step - loss: 0.3121 - accuracy: 0.8730\n",
            "Epoch 148/150\n",
            "250/250 [==============================] - 0s 1ms/step - loss: 0.3120 - accuracy: 0.8734\n",
            "Epoch 149/150\n",
            "250/250 [==============================] - 0s 1ms/step - loss: 0.3115 - accuracy: 0.8692\n",
            "Epoch 150/150\n",
            "250/250 [==============================] - 0s 1ms/step - loss: 0.3117 - accuracy: 0.8721\n"
          ]
        },
        {
          "output_type": "execute_result",
          "data": {
            "text/plain": [
              "<keras.callbacks.History at 0x7f5369b28850>"
            ]
          },
          "metadata": {},
          "execution_count": 16
        }
      ]
    },
    {
      "cell_type": "markdown",
      "metadata": {
        "id": "5RO41Fggekzr"
      },
      "source": [
        "**Prediction of results on training and test sets by neural network designed**"
      ]
    },
    {
      "cell_type": "code",
      "metadata": {
        "colab": {
          "base_uri": "https://localhost:8080/"
        },
        "id": "PbsUcjla-tk_",
        "outputId": "b2825235-bc73-4a46-e65b-37e6a471c982"
      },
      "source": [
        "y_pred = ann.predict(X_test)\n",
        "y_pred = (y_pred > 0.5)\n",
        "print(np.concatenate((y_pred.reshape(len(y_pred),1), Y_test.reshape(len(Y_test),1)),1))\n",
        "y_pred_train=ann.predict(X_train)\n",
        "y_pred_train= (y_pred_train>0.5)\n",
        "print(np.concatenate((y_pred_train.reshape(len(y_pred_train),1), Y_train.reshape(len(Y_train),1)),1))"
      ],
      "execution_count": 17,
      "outputs": [
        {
          "output_type": "stream",
          "name": "stdout",
          "text": [
            "[[0 0]\n",
            " [0 1]\n",
            " [0 0]\n",
            " ...\n",
            " [0 0]\n",
            " [0 0]\n",
            " [0 0]]\n",
            "[[0 0]\n",
            " [0 0]\n",
            " [0 0]\n",
            " ...\n",
            " [0 0]\n",
            " [0 0]\n",
            " [1 1]]\n"
          ]
        }
      ]
    },
    {
      "cell_type": "markdown",
      "metadata": {
        "id": "roeYoPyuevX-"
      },
      "source": [
        "**Accuracy of the model**"
      ]
    },
    {
      "cell_type": "code",
      "metadata": {
        "colab": {
          "base_uri": "https://localhost:8080/"
        },
        "id": "Xv_Er231-5JD",
        "outputId": "bc31c5ab-a4ab-41f1-cba7-d734090288f3"
      },
      "source": [
        "from sklearn.metrics import confusion_matrix, accuracy_score\n",
        "cm = confusion_matrix(Y_test, y_pred)\n",
        "cm_1 = confusion_matrix(Y_test, y_pred)\n",
        "#print(cm)\n",
        "accuracy_train= accuracy_score(Y_train, y_pred_train)\n",
        "accuracy_test= accuracy_score(Y_test, y_pred)\n",
        "print(accuracy_train)\n",
        "print(accuracy_test) # The accuracy is 86.45%\n",
        "#print(cm_1)\n",
        "\n"
      ],
      "execution_count": 19,
      "outputs": [
        {
          "output_type": "stream",
          "name": "stdout",
          "text": [
            "0.874875\n",
            "0.859\n"
          ]
        }
      ]
    },
    {
      "cell_type": "markdown",
      "metadata": {
        "id": "Wh6avhq2fFys"
      },
      "source": [
        "**Root mean squared error on training and testing datasets**"
      ]
    },
    {
      "cell_type": "code",
      "metadata": {
        "colab": {
          "base_uri": "https://localhost:8080/"
        },
        "id": "CgfW9xSDBwjN",
        "outputId": "7efef869-ce38-4cf4-9ffa-c99cd1fa54f8"
      },
      "source": [
        "import sklearn.metrics\n",
        "import math\n",
        "from sklearn.metrics import r2_score\n",
        "# Finding rmse and r2 for training data\n",
        "mse = sklearn.metrics.mean_squared_error(Y_train, y_pred_train)\n",
        "rmse = math.sqrt(mse)\n",
        "r2t = r2_score(Y_train, y_pred_train)\n",
        "print(rmse)\n",
        "print(r2t)\n",
        "\n",
        "# Finding rmse and r2 for test data\n",
        "mse_test = sklearn.metrics.mean_squared_error(Y_test, y_pred)\n",
        "rmse_test = math.sqrt(mse_test)\n",
        "r2t_test = r2_score(Y_test, y_pred)\n",
        "print(rmse_test)\n",
        "print(r2t_test)"
      ],
      "execution_count": 20,
      "outputs": [
        {
          "output_type": "stream",
          "name": "stdout",
          "text": [
            "0.35373012311647983\n",
            "0.2294499458074688\n",
            "0.37549966711037175\n",
            "0.1269011958667131\n"
          ]
        }
      ]
    },
    {
      "cell_type": "markdown",
      "metadata": {
        "id": "8Y1TaVAiVrlq"
      },
      "source": [
        "**Plot between model accuracy and number of epochs when activation function is tanh and number of neurons is 6 for training data**"
      ]
    },
    {
      "cell_type": "code",
      "metadata": {
        "colab": {
          "base_uri": "https://localhost:8080/",
          "height": 297
        },
        "id": "XvutRb4mGtLX",
        "outputId": "cde0cb63-186a-41c0-fab8-8ada3ad856dd"
      },
      "source": [
        "#Activation fucntion : tanh\n",
        "number_of_epochs_tanh=[100,120,140,150] # number of neurons=6\n",
        "model_Accuracy_training_tanh=[86.975, 87.05,87.1625,87.0875]\n",
        "\n",
        "plt.xlabel('model_accuracy')\n",
        "plt.ylabel('number of epochs')\n",
        "\n",
        "\n",
        "plt.plot(number_of_epochs_tanh,model_Accuracy_training_tanh, color= 'red', scalex='true')\n"
      ],
      "execution_count": 21,
      "outputs": [
        {
          "output_type": "execute_result",
          "data": {
            "text/plain": [
              "[<matplotlib.lines.Line2D at 0x7f5369a660d0>]"
            ]
          },
          "metadata": {},
          "execution_count": 21
        },
        {
          "output_type": "display_data",
          "data": {
            "image/png": "[encoded data removed]",
            "text/plain": [
              "<Figure size 432x288 with 1 Axes>"
            ]
          },
          "metadata": {
            "needs_background": "light"
          }
        }
      ]
    },
    {
      "cell_type": "markdown",
      "metadata": {
        "id": "Eie6k1vIZ4GB"
      },
      "source": [
        "**Plot between model accuracy and number of epochs when activation function is tanh and number of neurons is 6 for testing data**"
      ]
    },
    {
      "cell_type": "code",
      "metadata": {
        "colab": {
          "base_uri": "https://localhost:8080/",
          "height": 297
        },
        "id": "1Nko5oKbZ7r7",
        "outputId": "2f68d9d4-ddab-43ae-f831-820130e5c4c3"
      },
      "source": [
        "#Activation fucntion : tanh\n",
        "number_of_epochs_tanh=[100,120,140,150] # number of neurons=6\n",
        "\n",
        "model_Accuracy_testing_tanh= [86.55, 86.35, 86.8, 86]\n",
        "plt.xlabel('model_accuracy')\n",
        "plt.ylabel('number of epochs')\n",
        "\n",
        "\n",
        "plt.plot(number_of_epochs_tanh,model_Accuracy_testing_tanh, color= 'red', scalex='true')\n"
      ],
      "execution_count": 22,
      "outputs": [
        {
          "output_type": "execute_result",
          "data": {
            "text/plain": [
              "[<matplotlib.lines.Line2D at 0x7f536945bd50>]"
            ]
          },
          "metadata": {},
          "execution_count": 22
        },
        {
          "output_type": "display_data",
          "data": {
            "image/png": "[encoded data removed]",
            "text/plain": [
              "<Figure size 432x288 with 1 Axes>"
            ]
          },
          "metadata": {
            "needs_background": "light"
          }
        }
      ]
    },
    {
      "cell_type": "markdown",
      "metadata": {
        "id": "ohZZtiuyWuaH"
      },
      "source": [
        "**Plot between model accuracy and number of epochs when activation function is tanh and number of neurons is 10 for training dataset**"
      ]
    },
    {
      "cell_type": "code",
      "metadata": {
        "colab": {
          "base_uri": "https://localhost:8080/",
          "height": 297
        },
        "id": "vVjGE8nBWzd1",
        "outputId": "1cedef3c-f682-46c8-c7cd-4294602129c4"
      },
      "source": [
        "#Activation fucntion : tanh\n",
        "number_of_epochs_tanh=[100,120,150] # number of neurons=10\n",
        "model_Accuracy_training_tanh=[87.3, 87.0625,87.4125]\n",
        "\n",
        "plt.xlabel('model_accuracy')\n",
        "plt.ylabel('number of epochs')\n",
        "\n",
        "\n",
        "plt.plot(number_of_epochs_tanh,model_Accuracy_training_tanh, color= 'red', scalex='true')\n"
      ],
      "execution_count": 23,
      "outputs": [
        {
          "output_type": "execute_result",
          "data": {
            "text/plain": [
              "[<matplotlib.lines.Line2D at 0x7f53693da290>]"
            ]
          },
          "metadata": {},
          "execution_count": 23
        },
        {
          "output_type": "display_data",
          "data": {
            "image/png": "[encoded data removed]",
            "text/plain": [
              "<Figure size 432x288 with 1 Axes>"
            ]
          },
          "metadata": {
            "needs_background": "light"
          }
        }
      ]
    },
    {
      "cell_type": "markdown",
      "metadata": {
        "id": "vU_XjRITaRSG"
      },
      "source": [
        "**Plot between model accuracy and number of epochs when activation function is tanh and number of neurons is 10 for testing dataset**"
      ]
    },
    {
      "cell_type": "code",
      "metadata": {
        "colab": {
          "base_uri": "https://localhost:8080/",
          "height": 297
        },
        "id": "jHTix2gwaQtu",
        "outputId": "843fc947-4968-49b0-e023-e7824bf2bb0f"
      },
      "source": [
        "#Activation fucntion : tanh\n",
        "number_of_epochs_tanh=[100,120,150] # number of neurons=10\n",
        "\n",
        "model_Accuracy_testing_tanh= [86.1, 86, 86.6]\n",
        "plt.xlabel('model_accuracy')\n",
        "plt.ylabel('number of epochs')\n",
        "\n",
        "\n",
        "plt.plot(number_of_epochs_tanh,model_Accuracy_testing_tanh, color= 'red', scalex='true')\n"
      ],
      "execution_count": 24,
      "outputs": [
        {
          "output_type": "execute_result",
          "data": {
            "text/plain": [
              "[<matplotlib.lines.Line2D at 0x7f53693becd0>]"
            ]
          },
          "metadata": {},
          "execution_count": 24
        },
        {
          "output_type": "display_data",
          "data": {
            "image/png": "[encoded data removed]",
            "text/plain": [
              "<Figure size 432x288 with 1 Axes>"
            ]
          },
          "metadata": {
            "needs_background": "light"
          }
        }
      ]
    },
    {
      "cell_type": "markdown",
      "metadata": {
        "id": "Xuf3myNNanvK"
      },
      "source": [
        "**Plot between model accuracy and number of epochs when activation function is relu and number of neurons is 6 for testing dataset**"
      ]
    },
    {
      "cell_type": "code",
      "metadata": {
        "colab": {
          "base_uri": "https://localhost:8080/",
          "height": 296
        },
        "id": "L8GY4idYaveH",
        "outputId": "fc2dc039-c4b0-417d-b369-deceedb8b468"
      },
      "source": [
        "#Activation fucntion : relu\n",
        "number_of_epochs_relu=[100,120,140,160] # number of neurons=6\n",
        "\n",
        "\n",
        "model_Accuracy_training_relu=[86.5, 86.7625, 86.925, 87.05]\n",
        "\n",
        "plt.ylabel('model_accuracy')\n",
        "plt.xlabel('number of epochs')\n",
        "\n",
        "\n",
        "plt.plot(number_of_epochs_relu,model_Accuracy_training_relu, color= 'red', scalex='true')\n"
      ],
      "execution_count": 25,
      "outputs": [
        {
          "output_type": "execute_result",
          "data": {
            "text/plain": [
              "[<matplotlib.lines.Line2D at 0x7f536636da90>]"
            ]
          },
          "metadata": {},
          "execution_count": 25
        },
        {
          "output_type": "display_data",
          "data": {
            "image/png": "[encoded data removed]",
            "text/plain": [
              "<Figure size 432x288 with 1 Axes>"
            ]
          },
          "metadata": {
            "needs_background": "light"
          }
        }
      ]
    },
    {
      "cell_type": "markdown",
      "metadata": {
        "id": "p0G9wvvob4-r"
      },
      "source": [
        "**Plot between model accuracy and number of epochs when activation function is relu and number of neurons is 6 for training dataset**"
      ]
    },
    {
      "cell_type": "code",
      "metadata": {
        "colab": {
          "base_uri": "https://localhost:8080/",
          "height": 296
        },
        "id": "ZeMLfEQAb5RY",
        "outputId": "8cdfeea8-b567-4d9b-a281-aa9247f3a901"
      },
      "source": [
        "#Activation fucntion : relu\n",
        "number_of_epochs_relu=[100,120,140,160] # number of neurons=6\n",
        "\n",
        "\n",
        "\n",
        "model_Accuracy_testing_relu= [86.41, 86.1, 86.25, 86.6]\n",
        "plt.ylabel('model_accuracy')\n",
        "plt.xlabel('number of epochs')\n",
        "\n",
        "\n",
        "plt.plot(number_of_epochs_relu,model_Accuracy_training_relu, color= 'red', scalex='true')"
      ],
      "execution_count": 26,
      "outputs": [
        {
          "output_type": "execute_result",
          "data": {
            "text/plain": [
              "[<matplotlib.lines.Line2D at 0x7f5369b8ee90>]"
            ]
          },
          "metadata": {},
          "execution_count": 26
        },
        {
          "output_type": "display_data",
          "data": {
            "image/png": "[encoded data removed]",
            "text/plain": [
              "<Figure size 432x288 with 1 Axes>"
            ]
          },
          "metadata": {
            "needs_background": "light"
          }
        }
      ]
    },
    {
      "cell_type": "markdown",
      "metadata": {
        "id": "LlgeU7ZPcbmj"
      },
      "source": [
        "**Plot between model accuracy and number of epochs when activation function is relu and number of neurons is 10 for training dataset**"
      ]
    },
    {
      "cell_type": "code",
      "metadata": {
        "colab": {
          "base_uri": "https://localhost:8080/",
          "height": 296
        },
        "id": "jMR_U0sRcJYn",
        "outputId": "86aada5b-e560-43be-84f2-5fd18c9b1865"
      },
      "source": [
        "#Activation fucntion : relu\n",
        "number_of_epochs_relu=[100,120,140] # number of neurons=10\n",
        "\n",
        "\n",
        "\n",
        "model_Accuracy_training_relu= [84.85, 84.5625, 84.8]\n",
        "\n",
        "\n",
        "plt.ylabel('model_accuracy')\n",
        "plt.xlabel('number of epochs')\n",
        "\n",
        "\n",
        "plt.plot(number_of_epochs_relu,model_Accuracy_training_relu, color= 'red', scalex='true')"
      ],
      "execution_count": 27,
      "outputs": [
        {
          "output_type": "execute_result",
          "data": {
            "text/plain": [
              "[<matplotlib.lines.Line2D at 0x7f5365b17110>]"
            ]
          },
          "metadata": {},
          "execution_count": 27
        },
        {
          "output_type": "display_data",
          "data": {
            "image/png": "[encoded data removed]",
            "text/plain": [
              "<Figure size 432x288 with 1 Axes>"
            ]
          },
          "metadata": {
            "needs_background": "light"
          }
        }
      ]
    },
    {
      "cell_type": "markdown",
      "metadata": {
        "id": "ev6DlPvGjA2T"
      },
      "source": [
        "**Plot between model accuracy and number of epochs when activation function is relu and number of neurons is 10 for testing dataset**"
      ]
    },
    {
      "cell_type": "code",
      "metadata": {
        "colab": {
          "base_uri": "https://localhost:8080/",
          "height": 296
        },
        "id": "gaBp1QYZdSD6",
        "outputId": "16c80e14-ca49-46ee-ed31-0cfa452f23a8"
      },
      "source": [
        "#Activation fucntion : relu\n",
        "number_of_epochs_relu=[100,120,140] # number of neurons=10\n",
        "\n",
        "\n",
        "\n",
        "model_Accuracy_testing_relu= [84.45, 83.4, 83.6]\n",
        "\n",
        "plt.ylabel('model_accuracy')\n",
        "plt.xlabel('number of epochs')\n",
        "\n",
        "\n",
        "plt.plot(number_of_epochs_relu,model_Accuracy_testing_relu, color= 'red', scalex='true')"
      ],
      "execution_count": 28,
      "outputs": [
        {
          "output_type": "execute_result",
          "data": {
            "text/plain": [
              "[<matplotlib.lines.Line2D at 0x7f5365a87850>]"
            ]
          },
          "metadata": {},
          "execution_count": 28
        },
        {
          "output_type": "display_data",
          "data": {
            "image/png": "[encoded data removed]",
            "text/plain": [
              "<Figure size 432x288 with 1 Axes>"
            ]
          },
          "metadata": {
            "needs_background": "light"
          }
        }
      ]
    }
  ]
}