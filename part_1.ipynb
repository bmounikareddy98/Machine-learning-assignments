{
  "nbformat": 4,
  "nbformat_minor": 0,
  "metadata": {
    "colab": {
      "name": " part_1.ipynb",
      "provenance": [],
      "collapsed_sections": [],
      "authorship_tag": "ABX9TyMvc1SZIVlhDpvHD6qJN5cN",
      "include_colab_link": true
    },
    "kernelspec": {
      "name": "python3",
      "display_name": "Python 3"
    },
    "language_info": {
      "name": "python"
    },
    "accelerator": "GPU"
  },
  "cells": [
    {
      "cell_type": "markdown",
      "metadata": {
        "id": "view-in-github",
        "colab_type": "text"
      },
      "source": [
        "<a href=\"https://colab.research.google.com/github/bmounikareddy98/Machine-learning-assignments/blob/main/part_1.ipynb\" target=\"_parent\"><img src=\"https://colab.research.google.com/assets/colab-badge.svg\" alt=\"Open In Colab\"/></a>"
      ]
    },
    {
      "cell_type": "markdown",
      "metadata": {
        "id": "99XF-vCYXGLv"
      },
      "source": [
        "  **CS 6375 Assignment-1, Part_1 : Linear regression using gradient descent**\n",
        "\n",
        "  **Name of students: **\n",
        "  Mounika B(MXB210007)\n",
        "  Saketh Dasavathini(SXD190016)\n"
      ]
    },
    {
      "cell_type": "code",
      "metadata": {
        "id": "oHLrbQeDhty1"
      },
      "source": [
        "# importing the required libraries\n",
        "\n",
        "import numpy as np\n",
        "import matplotlib.pyplot as plt \n",
        "import pandas as pd  \n",
        "import seaborn as sns \n",
        "from sklearn.metrics import r2_score\n",
        "from sklearn.preprocessing import StandardScaler\n",
        "from sklearn.model_selection import train_test_split\n",
        "from sklearn.linear_model import LinearRegression\n",
        "from sklearn.metrics import mean_squared_error\n"
      ],
      "execution_count": 18,
      "outputs": []
    },
    {
      "cell_type": "markdown",
      "metadata": {
        "id": "I8uvPqLgYLl9"
      },
      "source": [
        "**Importing the dataset from github public repository**"
      ]
    },
    {
      "cell_type": "code",
      "metadata": {
        "colab": {
          "base_uri": "https://localhost:8080/"
        },
        "id": "P2nssY0Rh8EK",
        "outputId": "b840c613-0b77-4621-9cda-a1ccc1d74ac2"
      },
      "source": [
        "url = 'https://raw.githubusercontent.com/bmounikareddy98/Machine-learning-assignments/main/insurance.csv'\n",
        "dataset = pd.read_csv(url)\n",
        "\n",
        "#dataset = dataset.drop_duplicates()\n",
        "print(dataset.head()) # The top 5 rows of the dataset are printed below to understand about the data"
      ],
      "execution_count": 19,
      "outputs": [
        {
          "output_type": "stream",
          "name": "stdout",
          "text": [
            "      sex smoker     region  children     bmi  age      charges\n",
            "0  female    yes  southwest         0  27.900   19  16884.92400\n",
            "1    male     no  southeast         1  33.770   18   1725.55230\n",
            "2    male     no  southeast         3  33.000   28   4449.46200\n",
            "3    male     no  northwest         0  22.705   33  21984.47061\n",
            "4    male     no  northwest         0  28.880   32   3866.85520\n"
          ]
        }
      ]
    },
    {
      "cell_type": "markdown",
      "metadata": {
        "id": "gOZyNw_3bBPl"
      },
      "source": [
        "**Data preprocessing where null and duplicate values are checked, categorical data is handled and the data in different columns are normalized and scaled onto one scale**"
      ]
    },
    {
      "cell_type": "markdown",
      "metadata": {
        "id": "s6uxj4AbZORg"
      },
      "source": [
        "**Dividing the dataset into independent features array and dependent features array**"
      ]
    },
    {
      "cell_type": "code",
      "metadata": {
        "colab": {
          "base_uri": "https://localhost:8080/"
        },
        "id": "z5d_lwJsh-zL",
        "outputId": "2e6e01cf-f8aa-4763-c335-8d5fd15523a9"
      },
      "source": [
        "X = dataset.iloc[:, :-1].values\n",
        "Y = dataset.iloc[:, -1].values\n",
        "print(X.shape) # The size of X(independent features)\n",
        "print(Y.shape) # The size of Y(dependent features)\n"
      ],
      "execution_count": 20,
      "outputs": [
        {
          "output_type": "stream",
          "name": "stdout",
          "text": [
            "(1338, 6)\n",
            "(1338,)\n"
          ]
        }
      ]
    },
    {
      "cell_type": "markdown",
      "metadata": {
        "id": "_DkP_qb3ZnLs"
      },
      "source": [
        "**The null and duplicate values are checked in the dataset**"
      ]
    },
    {
      "cell_type": "code",
      "metadata": {
        "colab": {
          "base_uri": "https://localhost:8080/"
        },
        "id": "xnv8nUIwZnki",
        "outputId": "d3d05822-97c6-41d0-c39b-0bbb397dc26e"
      },
      "source": [
        "print(\"The number of null values for each feature is:\", dataset.isnull().sum())\n",
        "print(\"The number of duplicate records in the dataset are :\" ,dataset.duplicated().sum())\n",
        "\n",
        "# The below output shows there are no null values and there is 1 duplicate record\n",
        "\n",
        "#The duplicate records are removed using the below function\n",
        "dataset = dataset.drop_duplicates()\n",
        "print(\"The number of duplicate records in the dataset after dropping them are :\" ,dataset.duplicated().sum())"
      ],
      "execution_count": 21,
      "outputs": [
        {
          "output_type": "stream",
          "name": "stdout",
          "text": [
            "The number of null values for each feature is: sex         0\n",
            "smoker      0\n",
            "region      0\n",
            "children    0\n",
            "bmi         0\n",
            "age         0\n",
            "charges     0\n",
            "dtype: int64\n",
            "The number of duplicate records in the dataset are : 1\n",
            "The number of duplicate records in the dataset after dropping them are : 0\n"
          ]
        }
      ]
    },
    {
      "cell_type": "markdown",
      "metadata": {
        "id": "AR64ew7QaAkt"
      },
      "source": [
        "**Handling the categorical data present in sex, smoker and region columns **"
      ]
    },
    {
      "cell_type": "code",
      "metadata": {
        "colab": {
          "base_uri": "https://localhost:8080/"
        },
        "id": "OrB_cEVLiBhy",
        "outputId": "165b75f4-0f12-4cbd-aa44-7f0d5275552d"
      },
      "source": [
        "# Performing label encoding on the columns sex, smoker and region \n",
        "\n",
        "from sklearn.preprocessing import LabelEncoder\n",
        "labelencoder = LabelEncoder()\n",
        "X[:, 0] = labelencoder.fit_transform(X[:, 0])\n",
        "X[:, 1]= labelencoder.fit_transform(X[:, 1])\n",
        "X[:, 2]= labelencoder.fit_transform(X[:, 2])\n",
        "print(X)  # The first three columns are as below after performing label encoding"
      ],
      "execution_count": 23,
      "outputs": [
        {
          "output_type": "stream",
          "name": "stdout",
          "text": [
            "[[0 1 3 0 27.9 19]\n",
            " [1 0 2 1 33.77 18]\n",
            " [1 0 2 3 33.0 28]\n",
            " ...\n",
            " [0 0 2 0 36.85 18]\n",
            " [0 0 3 0 25.8 21]\n",
            " [0 1 1 0 29.07 61]]\n"
          ]
        }
      ]
    },
    {
      "cell_type": "code",
      "metadata": {
        "colab": {
          "base_uri": "https://localhost:8080/"
        },
        "id": "oh5ai8P6iEX_",
        "outputId": "8eae8c54-f9a4-4468-b9c2-2d744d60d0b3"
      },
      "source": [
        "# Performing one hot encoding on the columns sex, smoker and region to avoid the hierarchy of order in the values\n",
        "\n",
        "from sklearn.compose import ColumnTransformer\n",
        "from sklearn.preprocessing import OneHotEncoder\n",
        "ct = ColumnTransformer(transformers=[('encoder', OneHotEncoder(), [0,1,2])], remainder='passthrough')\n",
        "X = np.array(ct.fit_transform(X))\n",
        "\n",
        "\n",
        "print(X[0]) # Printing the first recording showing how the one hot encoding occured and size of the array increased\n"
      ],
      "execution_count": 24,
      "outputs": [
        {
          "output_type": "stream",
          "name": "stdout",
          "text": [
            "[1.0 0.0 0.0 1.0 0.0 0.0 0.0 1.0 0 27.9 19]\n"
          ]
        }
      ]
    },
    {
      "cell_type": "markdown",
      "metadata": {
        "id": "eGlun3iYa7jO"
      },
      "source": [
        "**Splitting the training and test sets**"
      ]
    },
    {
      "cell_type": "code",
      "metadata": {
        "id": "cCS7KFGkiGfr"
      },
      "source": [
        "from sklearn.model_selection import train_test_split\n",
        "X_train, X_test, Y_train, Y_test = train_test_split(X, Y, test_size = 0.2, random_state = 1) # The training set is 80% and test set is 20%"
      ],
      "execution_count": 25,
      "outputs": []
    },
    {
      "cell_type": "code",
      "metadata": {
        "colab": {
          "base_uri": "https://localhost:8080/"
        },
        "id": "tR97QoXciJTw",
        "outputId": "b45ae183-3787-470d-a125-3a9c941e74af"
      },
      "source": [
        "#Printing the size of the training and test tests after splitting\n",
        "print(X_train.shape)\n",
        "print(Y_train.shape)\n",
        "print(X_test.shape)\n",
        "print(Y_test.shape)"
      ],
      "execution_count": 26,
      "outputs": [
        {
          "output_type": "stream",
          "name": "stdout",
          "text": [
            "(1070, 11)\n",
            "(1070,)\n",
            "(268, 11)\n",
            "(268,)\n"
          ]
        }
      ]
    },
    {
      "cell_type": "markdown",
      "metadata": {
        "id": "UNUGb9rlblEk"
      },
      "source": [
        "**The values in the columns children, bmi, age and charges are normalized and scaled**"
      ]
    },
    {
      "cell_type": "code",
      "metadata": {
        "colab": {
          "base_uri": "https://localhost:8080/"
        },
        "id": "VuJRMN3eiLCQ",
        "outputId": "6db09101-4827-40e2-cd9e-7f3a6cab3f60"
      },
      "source": [
        "from sklearn.preprocessing import StandardScaler\n",
        "sc = StandardScaler()\n",
        "\n",
        "X_train[:, 8:11] = sc.fit_transform(X_train[:, 8:11])\n",
        "X_test[:, 8:11] = sc.transform(X_test[:, 8:11])\n",
        "Y_train = Y_train.reshape(-1, 1)\n",
        "Y_train = sc.fit_transform(Y_train)\n",
        "Y_test = Y_test.reshape(-1, 1)\n",
        "Y_test = sc.fit_transform(Y_test)\n",
        "\n",
        "# The values in training and test sets after normalizing\n",
        "print(X_train[0])\n",
        "print(X_test[0])\n",
        "print(Y_train[0])\n",
        "print(Y_test[0])\n"
      ],
      "execution_count": 27,
      "outputs": [
        {
          "output_type": "stream",
          "name": "stdout",
          "text": [
            "[1.0 0.0 1.0 0.0 0.0 1.0 0.0 0.0 -0.9070577122378711 -0.6647447195470174\n",
            " 1.0022862943641633]\n",
            "[0.0 1.0 1.0 0.0 0.0 1.0 0.0 0.0 -0.9070577122378711 0.7937285808383426\n",
            " -1.4326502925452371]\n",
            "[-0.23802019]\n",
            "[-0.96453518]\n"
          ]
        }
      ]
    },
    {
      "cell_type": "markdown",
      "metadata": {
        "id": "PCyJle0peQG6"
      },
      "source": [
        "**The data preprocessing is ended above**"
      ]
    },
    {
      "cell_type": "markdown",
      "metadata": {
        "id": "Dq4jTJyWecus"
      },
      "source": [
        "**Defining the cost function/error function**"
      ]
    },
    {
      "cell_type": "code",
      "metadata": {
        "id": "x-L_2bTQ__-U"
      },
      "source": [
        "def  cal_cost(theta,X,Y):\n",
        "    #theta is weight vector \n",
        "   \n",
        "    m = len(Y)  #number of rows/records\n",
        "    \n",
        "    predictions = X.dot(theta)\n",
        "    cost = (1/2*m) * np.sum(np.square(predictions-Y)) # formula of cost function\n",
        "    return cost"
      ],
      "execution_count": 28,
      "outputs": []
    },
    {
      "cell_type": "markdown",
      "metadata": {
        "id": "CdFSWiFmfDun"
      },
      "source": [
        "**Defining the gradient descent function**"
      ]
    },
    {
      "cell_type": "code",
      "metadata": {
        "id": "lcyW_EKtAC85"
      },
      "source": [
        "def gradient_descent(X,Y,theta,learning_rate=0.01,iterations=1000):\n",
        "    \n",
        "    #X    = Matrix of X(independent variables) with added bias units\n",
        "    # y    = Vector of Y(the dependent variable)\n",
        "    #theta=Vector of weights \n",
        "    #iterations = no of iterations\n",
        "    #Returns the final weight vector and array of cost history over no of iterations\n",
        "    \n",
        "    m = len(Y)\n",
        "    cost_history = np.zeros(iterations)\n",
        "    theta_history = np.zeros((iterations,12))\n",
        "    cost_history_test = np.zeros(iterations)\n",
        "    theta_history_test = np.zeros((iterations,12))\n",
        "    for it in range(iterations):\n",
        "        \n",
        "        prediction = np.dot(X,theta)\n",
        "        \n",
        "        theta = theta -(1/m)*learning_rate*( X.T.dot((prediction - Y)))\n",
        "        theta_history[it,:] =theta.T\n",
        "        cost_history[it]  = cal_cost(theta,X,Y)\n",
        "        \n",
        "    return theta, cost_history, theta_history"
      ],
      "execution_count": 29,
      "outputs": []
    },
    {
      "cell_type": "markdown",
      "metadata": {
        "id": "Qkjf8IA1fgY_"
      },
      "source": [
        "\n",
        "Starting with 1000 iterations and a learning rate of 0.01. Starting with theta from a Gaussian distribution "
      ]
    },
    {
      "cell_type": "code",
      "metadata": {
        "id": "5UM3xylwARP6"
      },
      "source": [
        "lr =0.01\n",
        "n_iter = 1000\n",
        "\n",
        "theta = np.random.randn(12,1)\n",
        "\n",
        "X_b = np.c_[np.ones((len(X_train),1)),X_train] # appending the column of ones(X0) to X_train\n",
        "theta,cost_history,theta_history = gradient_descent(X_b,Y_train,theta,lr,n_iter) # calculating the weights, cost history(mean squared error)\n",
        "\n",
        "# Finding the predicted value given by the hypothesis learnt for training data\n",
        "sum=theta[0][0]\n",
        "y_pred= np.ones(Y_train.shape)\n",
        "for i in range(0, X_train.shape[0]):\n",
        "  sum+= theta[1][0]*X_train[i][0]+theta[2][0]*X_train[i][1]+theta[3][0]*X_train[i][2]+theta[4][0]*X_train[i][3]+theta[5][0]*X_train[i][4]+theta[6][0]*X_train[i][5]+theta[7][0]*X_train[i][6]+theta[8][0]*X_train[i][7]+theta[9][0]*X_train[i][8]+theta[10][0]*X_train[i][9]+theta[11][0]*X_train[i][10]\n",
        "  y_pred[i][0]=sum;\n",
        "  sum=theta[0][0]\n",
        "\n",
        "# Finding the predicted value given by the hypothesis learnt for test data\n",
        "\n",
        "theta_test = np.random.randn(12,1)\n",
        "X_b_test = np.c_[np.ones((len(X_test),1)),X_test]\n",
        "theta_test,cost_history_test,theta_history_test = gradient_descent(X_b_test,Y_test,theta_test,lr,n_iter)\n",
        "\n",
        "sum_test=theta_test[0][0]\n",
        "y_test_pred= np.ones(Y_test.shape)\n",
        "for i in range(0, X_test.shape[0]):\n",
        "  sum_test+= theta_test[1][0]*X_test[i][0]+theta_test[2][0]*X_test[i][1]+theta_test[3][0]*X_test[i][2]+theta_test[4][0]*X_test[i][3]+theta_test[5][0]*X_test[i][4]+theta_test[6][0]*X_test[i][5]+theta_test[7][0]*X_test[i][6]+theta_test[8][0]*X_test[i][7]+theta_test[9][0]*X_test[i][8]+theta_test[10][0]*X_test[i][9]+theta_test[11][0]*X_test[i][10]\n",
        "  y_test_pred[i][0]=sum_test;\n",
        "  sum_test=theta_test[0][0]\n",
        "\n",
        "\n",
        "\n"
      ],
      "execution_count": 30,
      "outputs": []
    },
    {
      "cell_type": "markdown",
      "metadata": {
        "id": "yvkl6TJHgmT5"
      },
      "source": [
        "**Plotting the graph between mean squared error and number of iterations. The plot is almost straight at 380 iterations.**"
      ]
    },
    {
      "cell_type": "code",
      "metadata": {
        "colab": {
          "base_uri": "https://localhost:8080/",
          "height": 988
        },
        "id": "IUumVOyQ9wx_",
        "outputId": "119476c3-1e9d-45f9-dadd-0a1dd4025f77"
      },
      "source": [
        "n_iter=1000\n",
        "# plot between mse and number of iterations for training set\n",
        "fig,ax = plt.subplots(figsize=(12,8))\n",
        "ax.set_ylabel('J(Theta)')\n",
        "ax.set_xlabel('Iterations')\n",
        "_=ax.plot(range(n_iter),cost_history,'b.')\n",
        "\n",
        "\n",
        "# plot between mse and number of iterations for test set\n",
        "fig,ax = plt.subplots(figsize=(12,8))                  \n",
        "ax.set_ylabel('J(Theta)')\n",
        "ax.set_xlabel('Iterations')\n",
        "_=ax.plot(range(n_iter),cost_history_test,'g.')\n"
      ],
      "execution_count": 32,
      "outputs": [
        {
          "output_type": "display_data",
          "data": {
            "image/png": "[encoded data removed]",
            "text/plain": [
              "<Figure size 864x576 with 1 Axes>"
            ]
          },
          "metadata": {
            "needs_background": "light"
          }
        },
        {
          "output_type": "display_data",
          "data": {
            "image/png": "[encoded data removed]",
            "text/plain": [
              "<Figure size 864x576 with 1 Axes>"
            ]
          },
          "metadata": {
            "needs_background": "light"
          }
        }
      ]
    },
    {
      "cell_type": "markdown",
      "metadata": {
        "id": "uKAWrt_yhYV6"
      },
      "source": [
        "**Plotting the graph with 380 iterations**"
      ]
    },
    {
      "cell_type": "code",
      "metadata": {
        "colab": {
          "base_uri": "https://localhost:8080/",
          "height": 988
        },
        "id": "67B_pKhL9w-x",
        "outputId": "de425cd0-17ce-41b0-ec28-8a8719a511cc"
      },
      "source": [
        "# Plotting the graph between mse and number of iterations for training dataset\n",
        "fig,ax = plt.subplots(figsize=(10,8))\n",
        "ax.set_ylabel('J(Theta)')\n",
        "ax.set_xlabel('Iterations')\n",
        "_=ax.plot(range(380),cost_history[:380],'b.')\n",
        "\n",
        "# Plotting the graph between mse and number of iterations for training dataset\n",
        "fig,ax = plt.subplots(figsize=(10,8))\n",
        "ax.set_ylabel('J(Theta)')\n",
        "ax.set_xlabel('Iterations')\n",
        "_=ax.plot(range(380),cost_history_test[:380],'g.')"
      ],
      "execution_count": 33,
      "outputs": [
        {
          "output_type": "display_data",
          "data": {
            "image/png": "[encoded data removed]",
            "text/plain": [
              "<Figure size 720x576 with 1 Axes>"
            ]
          },
          "metadata": {
            "needs_background": "light"
          }
        },
        {
          "output_type": "display_data",
          "data": {
            "image/png": "[encoded data removed]",
            "text/plain": [
              "<Figure size 720x576 with 1 Axes>"
            ]
          },
          "metadata": {
            "needs_background": "light"
          }
        }
      ]
    },
    {
      "cell_type": "markdown",
      "metadata": {
        "id": "v56TTbgBh7HE"
      },
      "source": [
        "**Finding the root mean squared error and R squared values**"
      ]
    },
    {
      "cell_type": "code",
      "metadata": {
        "colab": {
          "base_uri": "https://localhost:8080/"
        },
        "id": "8tCs2iBN7_wl",
        "outputId": "be060183-f271-4152-86a1-a33a7046eaf4"
      },
      "source": [
        "import sklearn.metrics\n",
        "import math\n",
        "\n",
        "# Finding rmse and r2 for training data\n",
        "mse = sklearn.metrics.mean_squared_error(Y_train, y_pred)\n",
        "rmse = math.sqrt(mse)\n",
        "r2t = r2_score(Y_train, y_pred)\n",
        "print(rmse)\n",
        "print(r2t)\n",
        "\n",
        "# Finding rmse and r2 for test data\n",
        "mse_test = sklearn.metrics.mean_squared_error(Y_test, y_test_pred)\n",
        "rmse_test = math.sqrt(mse_test)\n",
        "r2t_test = r2_score(Y_test, y_test_pred)\n",
        "print(rmse_test)\n",
        "print(r2t_test)\n",
        "\n"
      ],
      "execution_count": 34,
      "outputs": [
        {
          "output_type": "stream",
          "name": "stdout",
          "text": [
            "0.5036921452838776\n",
            "0.7462942227793252\n",
            "0.49212552281170313\n",
            "0.7578124697973079\n"
          ]
        }
      ]
    },
    {
      "cell_type": "markdown",
      "metadata": {
        "id": "T4SD6Vkoip74"
      },
      "source": [
        "**Scatter plots with regression line**"
      ]
    },
    {
      "cell_type": "code",
      "metadata": {
        "colab": {
          "base_uri": "https://localhost:8080/",
          "height": 335
        },
        "id": "N3YAFvwwDXws",
        "outputId": "4187ed34-1d4f-4cf5-9b9d-f4fbe1e26764"
      },
      "source": [
        "# Scatter plot for training data\n",
        "import seaborn as sns\n",
        "\n",
        "#create scatterplot with regression line\n",
        "sns.regplot(Y_train, y_pred)\n",
        "\n"
      ],
      "execution_count": 35,
      "outputs": [
        {
          "output_type": "stream",
          "name": "stderr",
          "text": [
            "/usr/local/lib/python3.7/dist-packages/seaborn/_decorators.py:43: FutureWarning: Pass the following variables as keyword args: x, y. From version 0.12, the only valid positional argument will be `data`, and passing other arguments without an explicit keyword will result in an error or misinterpretation.\n",
            "  FutureWarning\n"
          ]
        },
        {
          "output_type": "execute_result",
          "data": {
            "text/plain": [
              "<matplotlib.axes._subplots.AxesSubplot at 0x7f196c047990>"
            ]
          },
          "metadata": {},
          "execution_count": 35
        },
        {
          "output_type": "display_data",
          "data": {
            "image/png": "[encoded data removed]",
            "text/plain": [
              "<Figure size 432x288 with 1 Axes>"
            ]
          },
          "metadata": {
            "needs_background": "light"
          }
        }
      ]
    },
    {
      "cell_type": "code",
      "metadata": {
        "colab": {
          "base_uri": "https://localhost:8080/",
          "height": 335
        },
        "id": "iHI3URbqiYv8",
        "outputId": "e32d199d-aac5-4bcb-81ef-87a1eb62a7bd"
      },
      "source": [
        "# Scatter plot for test data\n",
        "sns.regplot(Y_test, y_test_pred, color='green')"
      ],
      "execution_count": 36,
      "outputs": [
        {
          "output_type": "stream",
          "name": "stderr",
          "text": [
            "/usr/local/lib/python3.7/dist-packages/seaborn/_decorators.py:43: FutureWarning: Pass the following variables as keyword args: x, y. From version 0.12, the only valid positional argument will be `data`, and passing other arguments without an explicit keyword will result in an error or misinterpretation.\n",
            "  FutureWarning\n"
          ]
        },
        {
          "output_type": "execute_result",
          "data": {
            "text/plain": [
              "<matplotlib.axes._subplots.AxesSubplot at 0x7f196bfcc250>"
            ]
          },
          "metadata": {},
          "execution_count": 36
        },
        {
          "output_type": "display_data",
          "data": {
            "image/png": "[encoded data removed]",
            "text/plain": [
              "<Figure size 432x288 with 1 Axes>"
            ]
          },
          "metadata": {
            "needs_background": "light"
          }
        }
      ]
    }
  ]
}