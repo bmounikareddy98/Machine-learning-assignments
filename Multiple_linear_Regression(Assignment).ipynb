{
  "nbformat": 4,
  "nbformat_minor": 0,
  "metadata": {
    "colab": {
      "name": "Multiple_linear_Regression(Assignment).ipynb",
      "provenance": [],
      "collapsed_sections": [],
      "authorship_tag": "ABX9TyOTy/IyRFxyOMHUF5wtpLUW",
      "include_colab_link": true
    },
    "kernelspec": {
      "name": "python3",
      "display_name": "Python 3"
    },
    "language_info": {
      "name": "python"
    }
  },
  "cells": [
    {
      "cell_type": "markdown",
      "metadata": {
        "id": "view-in-github",
        "colab_type": "text"
      },
      "source": [
        "<a href=\"https://colab.research.google.com/github/bmounikareddy98/Machine-learning-assignments/blob/main/Multiple_linear_Regression(Assignment).ipynb\" target=\"_parent\"><img src=\"https://colab.research.google.com/assets/colab-badge.svg\" alt=\"Open In Colab\"/></a>"
      ]
    },
    {
      "cell_type": "markdown",
      "metadata": {
        "id": "zhjvnZaOVzMK"
      },
      "source": [
        ""
      ]
    },
    {
      "cell_type": "code",
      "metadata": {
        "id": "c-E4JwLrw1Q5"
      },
      "source": [
        "import numpy as np\n",
        "import matplotlib.pyplot as plt \n",
        "import pandas as pd  \n",
        "import seaborn as sns \n",
        "from sklearn.metrics import r2_score\n",
        "from sklearn.datasets import load_boston\n",
        "from sklearn.preprocessing import StandardScaler\n",
        "from sklearn.model_selection import train_test_split\n",
        "from sklearn.linear_model import LinearRegression\n",
        "from sklearn.metrics import mean_squared_error\n",
        "from sklearn.linear_model import SGDRegressor\n",
        "from sklearn.preprocessing import StandardScaler"
      ],
      "execution_count": 103,
      "outputs": []
    },
    {
      "cell_type": "markdown",
      "metadata": {
        "id": "p4Kl0UvnV6Xd"
      },
      "source": [
        "**The dataset is imported from github public repository**"
      ]
    },
    {
      "cell_type": "code",
      "metadata": {
        "id": "mFH2C51UxQjD"
      },
      "source": [
        "url = 'https://raw.githubusercontent.com/bmounikareddy98/Machine-learning-assignments/main/insurance.csv'\n",
        "dataset = pd.read_csv(url)"
      ],
      "execution_count": 159,
      "outputs": []
    },
    {
      "cell_type": "markdown",
      "metadata": {
        "id": "_oNNOv_QWHJ6"
      },
      "source": [
        "**The dataset is divided into dependent variables array and an independent variable array.**"
      ]
    },
    {
      "cell_type": "code",
      "metadata": {
        "id": "JTFQrOGv02oc"
      },
      "source": [
        "X = dataset.iloc[:, :-1].values\n",
        "Y = dataset.iloc[:, -1].values\n",
        "\n"
      ],
      "execution_count": 160,
      "outputs": []
    },
    {
      "cell_type": "markdown",
      "metadata": {
        "id": "4bqF4lmbW6_Z"
      },
      "source": [
        "**The null are checked in the dataset(there aren't any)**"
      ]
    },
    {
      "cell_type": "code",
      "metadata": {
        "colab": {
          "base_uri": "https://localhost:8080/"
        },
        "id": "OFsqr3pDW5Qi",
        "outputId": "e5336bca-1a1a-4111-df31-d52cdfe15131"
      },
      "source": [
        "print(dataset.isnull().sum())"
      ],
      "execution_count": 161,
      "outputs": [
        {
          "output_type": "stream",
          "name": "stdout",
          "text": [
            "age         0\n",
            "sex         0\n",
            "bmi         0\n",
            "children    0\n",
            "smoker      0\n",
            "region      0\n",
            "charges     0\n",
            "dtype: int64\n"
          ]
        }
      ]
    },
    {
      "cell_type": "markdown",
      "metadata": {
        "id": "d06zeFBOXJDV"
      },
      "source": [
        "**The values of dependent variables are shown "
      ]
    },
    {
      "cell_type": "code",
      "metadata": {
        "colab": {
          "base_uri": "https://localhost:8080/"
        },
        "id": "-xpAMpCb1Aoi",
        "outputId": "f2306c5e-d2bc-4f3c-8c6b-f1c9b5ef677d"
      },
      "source": [
        "print(X[1])"
      ],
      "execution_count": 135,
      "outputs": [
        {
          "output_type": "stream",
          "name": "stdout",
          "text": [
            "[18 'male' 33.77 1 'no' 'southeast']\n"
          ]
        }
      ]
    },
    {
      "cell_type": "markdown",
      "metadata": {
        "id": "mTVuBcxPXesF"
      },
      "source": [
        "**The independent variable is shown below**"
      ]
    },
    {
      "cell_type": "code",
      "metadata": {
        "colab": {
          "base_uri": "https://localhost:8080/"
        },
        "id": "qRrKRAZh1QBB",
        "outputId": "01d55d25-3f03-4136-c049-175470e6b4ba"
      },
      "source": [
        "print(Y)"
      ],
      "execution_count": 136,
      "outputs": [
        {
          "output_type": "stream",
          "name": "stdout",
          "text": [
            "[16884.924   1725.5523  4449.462  ...  1629.8335  2007.945  29141.3603]\n"
          ]
        }
      ]
    },
    {
      "cell_type": "code",
      "metadata": {
        "colab": {
          "base_uri": "https://localhost:8080/"
        },
        "id": "M2rsGT9Q1TMi",
        "outputId": "59900cf4-cbf6-4899-c43a-7da2b6223f0c"
      },
      "source": [
        "from sklearn.preprocessing import LabelEncoder\n",
        "labelencoder = LabelEncoder()\n",
        "X[:, 1] = labelencoder.fit_transform(X[:, 1])\n",
        "print(X)"
      ],
      "execution_count": 162,
      "outputs": [
        {
          "output_type": "stream",
          "name": "stdout",
          "text": [
            "[[19 0 27.9 0 'yes' 'southwest']\n",
            " [18 1 33.77 1 'no' 'southeast']\n",
            " [28 1 33.0 3 'no' 'southeast']\n",
            " ...\n",
            " [18 0 36.85 0 'no' 'southeast']\n",
            " [21 0 25.8 0 'no' 'southwest']\n",
            " [61 0 29.07 0 'yes' 'northwest']]\n"
          ]
        }
      ]
    },
    {
      "cell_type": "code",
      "metadata": {
        "colab": {
          "base_uri": "https://localhost:8080/"
        },
        "id": "qheV6Eee2lMR",
        "outputId": "6240bb6f-77a8-4082-9e03-c94d9a556c72"
      },
      "source": [
        "from sklearn.preprocessing import LabelEncoder\n",
        "labelencoder = LabelEncoder()\n",
        "X[:,4] = labelencoder.fit_transform(X[:, 4])\n",
        "print(X)"
      ],
      "execution_count": 163,
      "outputs": [
        {
          "output_type": "stream",
          "name": "stdout",
          "text": [
            "[[19 0 27.9 0 1 'southwest']\n",
            " [18 1 33.77 1 0 'southeast']\n",
            " [28 1 33.0 3 0 'southeast']\n",
            " ...\n",
            " [18 0 36.85 0 0 'southeast']\n",
            " [21 0 25.8 0 0 'southwest']\n",
            " [61 0 29.07 0 1 'northwest']]\n"
          ]
        }
      ]
    },
    {
      "cell_type": "code",
      "metadata": {
        "colab": {
          "base_uri": "https://localhost:8080/"
        },
        "id": "ga26-XNe3IDT",
        "outputId": "243c5202-34fd-4561-e6cb-75f19a9f77ac"
      },
      "source": [
        "from sklearn.preprocessing import LabelEncoder\n",
        "labelencoder = LabelEncoder()\n",
        "X[:,5] = labelencoder.fit_transform(X[:, 5])\n",
        "print(X)"
      ],
      "execution_count": 164,
      "outputs": [
        {
          "output_type": "stream",
          "name": "stdout",
          "text": [
            "[[19 0 27.9 0 1 3]\n",
            " [18 1 33.77 1 0 2]\n",
            " [28 1 33.0 3 0 2]\n",
            " ...\n",
            " [18 0 36.85 0 0 2]\n",
            " [21 0 25.8 0 0 3]\n",
            " [61 0 29.07 0 1 1]]\n"
          ]
        }
      ]
    },
    {
      "cell_type": "markdown",
      "metadata": {
        "id": "ZUsVpOgsYgHs"
      },
      "source": [
        "**Encoding the categorical data present in columns sex, smoker, region**"
      ]
    },
    {
      "cell_type": "code",
      "metadata": {
        "colab": {
          "base_uri": "https://localhost:8080/",
          "height": 70
        },
        "id": "PVDtidMl2qFQ",
        "outputId": "5bb14b12-e9b8-4128-e9aa-be91d9674944"
      },
      "source": [
        "\"\"\"from sklearn.compose import ColumnTransformer\n",
        "from sklearn.preprocessing import OneHotEncoder\n",
        "ct = ColumnTransformer(transformers=[('encoder', OneHotEncoder(), [1])], remainder='passthrough')\n",
        "from sklearn.preprocessing import OneHotEncoder\n",
        "onehotencoder= OneHotEncoder(categories=[1])\n",
        "X= onehotencoder.fit_transform(X)\"\"\"\n",
        "from sklearn.compose import ColumnTransformer\n",
        "from sklearn.preprocessing import OneHotEncoder\n",
        "ct = ColumnTransformer(transformers=[('encoder', OneHotEncoder(), [1])], remainder='passthrough')\n",
        "X = np.array(ct.fit_transform(X))\n",
        "print(X[1])\n",
        "\n",
        "\"\"\"enc = OneHotEncoder(handle_unknown='ignore')\n",
        "# passing bridge-types-cat column (label encoded values of bridge_types)\n",
        "enc_df = pd.DataFrame(enc.fit_transform(dataset[['sex']]).toarray())\n",
        "dataset = dataset.join(enc_df)\n",
        "print(dataset)\"\"\"\n",
        "\n",
        "\n"
      ],
      "execution_count": 165,
      "outputs": [
        {
          "output_type": "stream",
          "name": "stdout",
          "text": [
            "[0.0 1.0 18 33.77 1 0 2]\n"
          ]
        },
        {
          "output_type": "execute_result",
          "data": {
            "application/vnd.google.colaboratory.intrinsic+json": {
              "type": "string"
            },
            "text/plain": [
              "\"enc = OneHotEncoder(handle_unknown='ignore')\\n# passing bridge-types-cat column (label encoded values of bridge_types)\\nenc_df = pd.DataFrame(enc.fit_transform(dataset[['sex']]).toarray())\\ndataset = dataset.join(enc_df)\\nprint(dataset)\""
            ]
          },
          "metadata": {},
          "execution_count": 165
        }
      ]
    },
    {
      "cell_type": "code",
      "metadata": {
        "colab": {
          "base_uri": "https://localhost:8080/"
        },
        "id": "4Wl1aLUX1IPv",
        "outputId": "7eae17f7-a803-4b15-ccaf-e6e0be76b9e1"
      },
      "source": [
        "X = dataset.iloc[:, :-1].values\n",
        "Y = dataset.iloc[:, -1].values\n",
        "print(X)"
      ],
      "execution_count": 155,
      "outputs": [
        {
          "output_type": "stream",
          "name": "stdout",
          "text": [
            "[[19 'female' 27.9 ... 'southwest' 16884.924 1.0]\n",
            " [18 'male' 33.77 ... 'southeast' 1725.5523 0.0]\n",
            " [28 'male' 33.0 ... 'southeast' 4449.462 0.0]\n",
            " ...\n",
            " [18 'female' 36.85 ... 'southeast' 1629.8335 1.0]\n",
            " [21 'female' 25.8 ... 'southwest' 2007.945 1.0]\n",
            " [61 'female' 29.07 ... 'northwest' 29141.3603 1.0]]\n"
          ]
        }
      ]
    },
    {
      "cell_type": "code",
      "metadata": {
        "colab": {
          "base_uri": "https://localhost:8080/"
        },
        "id": "2vtGiSZGcXfx",
        "outputId": "4e895015-e835-4ecc-f84e-5c7eed96ec2a"
      },
      "source": [
        "ct_1 = ColumnTransformer(transformers=[('encoder', OneHotEncoder(), [4])], remainder='passthrough')\n",
        "X = np.array(ct_1.fit_transform(X))\n",
        "print(X[1])"
      ],
      "execution_count": 166,
      "outputs": [
        {
          "output_type": "stream",
          "name": "stdout",
          "text": [
            "[0.0 1.0 0.0 0.0 0.0 0.0 0.0 1.0 18 33.77 0 2]\n"
          ]
        }
      ]
    },
    {
      "cell_type": "code",
      "metadata": {
        "colab": {
          "base_uri": "https://localhost:8080/"
        },
        "id": "TlaNnfk5Pzb2",
        "outputId": "4ae43fad-655b-4168-e779-bbe1f89913b9"
      },
      "source": [
        "ct_2 = ColumnTransformer(transformers=[('encoder', OneHotEncoder(), [5])], remainder='passthrough')\n",
        "X = np.array(ct_2.fit_transform(X))\n",
        "print(X[1])"
      ],
      "execution_count": 168,
      "outputs": [
        {
          "output_type": "stream",
          "name": "stdout",
          "text": [
            "[1.0 0.0 1.0 0.0 0.0 1.0 0.0 0.0 0.0 1.0 18 33.77 0 2]\n"
          ]
        }
      ]
    },
    {
      "cell_type": "code",
      "metadata": {
        "colab": {
          "base_uri": "https://localhost:8080/"
        },
        "id": "Ss5RF34g3e4G",
        "outputId": "fae218ea-f1b7-49c0-fe64-c8fcdc2a973f"
      },
      "source": [
        "print(X[0][0])"
      ],
      "execution_count": 158,
      "outputs": [
        {
          "output_type": "stream",
          "name": "stdout",
          "text": [
            "1.0\n"
          ]
        }
      ]
    },
    {
      "cell_type": "code",
      "metadata": {
        "colab": {
          "base_uri": "https://localhost:8080/",
          "height": 566
        },
        "id": "tVpKzg2zZeBQ",
        "outputId": "b75e19a7-f055-4baa-fe46-e45483b7fe07"
      },
      "source": [
        "sns.set(rc={'figure.figsize':(11.7,8.27)})\n",
        "sns.distplot(Y, bins=30)\n",
        "plt.show()"
      ],
      "execution_count": 169,
      "outputs": [
        {
          "output_type": "stream",
          "name": "stderr",
          "text": [
            "/usr/local/lib/python3.7/dist-packages/seaborn/distributions.py:2619: FutureWarning: `distplot` is a deprecated function and will be removed in a future version. Please adapt your code to use either `displot` (a figure-level function with similar flexibility) or `histplot` (an axes-level function for histograms).\n",
            "  warnings.warn(msg, FutureWarning)\n"
          ]
        },
        {
          "output_type": "display_data",
          "data": {
            "image/png": "[encoded data removed]",
            "text/plain": [
              "<Figure size 842.4x595.44 with 1 Axes>"
            ]
          },
          "metadata": {}
        }
      ]
    },
    {
      "cell_type": "code",
      "metadata": {
        "colab": {
          "base_uri": "https://localhost:8080/",
          "height": 521
        },
        "id": "I3na6mLdZeck",
        "outputId": "e30acc0a-bde7-4438-c34a-8c2e02d04837"
      },
      "source": [
        "correlation_matrix = dataset.corr().round(2)\n",
        "# annot = True to print the values inside the square\n",
        "sns.heatmap(data=correlation_matrix, annot=True)"
      ],
      "execution_count": 96,
      "outputs": [
        {
          "output_type": "execute_result",
          "data": {
            "text/plain": [
              "<matplotlib.axes._subplots.AxesSubplot at 0x7fc6da045dd0>"
            ]
          },
          "metadata": {},
          "execution_count": 96
        },
        {
          "output_type": "display_data",
          "data": {
            "image/png": "[encoded data removed]",
            "text/plain": [
              "<Figure size 842.4x595.44 with 2 Axes>"
            ]
          },
          "metadata": {}
        }
      ]
    },
    {
      "cell_type": "code",
      "metadata": {
        "id": "RJd18ICPwvkQ"
      },
      "source": [
        "\"\"\"X= dataset[[\"age\", \"sex\",\"bmi\",\"smoker\",\"region\"]]\"\"\""
      ],
      "execution_count": 97,
      "outputs": []
    },
    {
      "cell_type": "markdown",
      "metadata": {
        "id": "q2o6saC5Y17c"
      },
      "source": [
        "**Splitting the dataset into training and test sets**"
      ]
    },
    {
      "cell_type": "code",
      "metadata": {
        "id": "yJSjWnp5QaQU"
      },
      "source": [
        "from sklearn.model_selection import train_test_split\n",
        "X_train, X_test, Y_train, Y_test = train_test_split(X, Y, test_size = 0.2, random_state = 0)"
      ],
      "execution_count": 170,
      "outputs": []
    },
    {
      "cell_type": "code",
      "metadata": {
        "colab": {
          "base_uri": "https://localhost:8080/"
        },
        "id": "ZgBE8aMpQejZ",
        "outputId": "d76ac4fb-77a1-4cd3-b87e-7804bac49f1b"
      },
      "source": [
        "from sklearn.linear_model import LinearRegression\n",
        "regressor = LinearRegression()\n",
        "regressor.fit(X_train, Y_train)\n"
      ],
      "execution_count": 171,
      "outputs": [
        {
          "output_type": "execute_result",
          "data": {
            "text/plain": [
              "LinearRegression(copy_X=True, fit_intercept=True, n_jobs=None, normalize=False)"
            ]
          },
          "metadata": {},
          "execution_count": 171
        }
      ]
    },
    {
      "cell_type": "code",
      "metadata": {
        "colab": {
          "base_uri": "https://localhost:8080/"
        },
        "id": "MT4EOJ6kQkDK",
        "outputId": "7b9d96f3-a53d-48a5-cccc-5c5ff7495878"
      },
      "source": [
        "y_pred = regressor.predict(X_test)\n",
        "np.set_printoptions(precision=2)\n",
        "print(np.concatenate((y_pred.reshape(len(y_pred),1), Y_test.reshape(len(Y_test),1)),1))"
      ],
      "execution_count": 65,
      "outputs": [
        {
          "output_type": "stream",
          "name": "stdout",
          "text": [
            "[[10967.4   9724.53]\n",
            " [ 9731.64  8547.69]\n",
            " [38700.83 45702.02]\n",
            " [16010.62 12950.07]\n",
            " [ 6866.41  9644.25]\n",
            " [ 3897.04  4500.34]\n",
            " [ 1462.02  2198.19]\n",
            " [13594.88 11436.74]\n",
            " [ 8280.88  7537.16]\n",
            " [ 6761.76  5425.02]\n",
            " [ 3897.59  6753.04]\n",
            " [11019.64 10493.95]\n",
            " [ 8603.2   7337.75]\n",
            " [ 4048.74  4185.1 ]\n",
            " [27690.37 18310.74]\n",
            " [10375.99 10702.64]\n",
            " [11175.71 12523.6 ]\n",
            " [ 5964.52  3490.55]\n",
            " [ 8942.36  6457.84]\n",
            " [26909.28 33475.82]\n",
            " [34324.82 23967.38]\n",
            " [15019.85 12643.38]\n",
            " [11584.03 23045.57]\n",
            " [32286.8  23065.42]\n",
            " [ 4317.18  1674.63]\n",
            " [ 9067.13  4667.61]\n",
            " [ 1061.67  3732.63]\n",
            " [ 9412.82  7682.67]\n",
            " [ 4006.63  3756.62]\n",
            " [11122.8   8413.46]\n",
            " [ 8293.66  8059.68]\n",
            " [40130.   48970.25]\n",
            " [15375.16 12979.36]\n",
            " [13564.51 20630.28]\n",
            " [24633.08 14571.89]\n",
            " [ 5036.31  4137.52]\n",
            " [13592.33  8347.16]\n",
            " [30426.28 51194.56]\n",
            " [34150.31 40003.33]\n",
            " [ 3390.57  1880.49]\n",
            " [ 3929.45  5458.05]\n",
            " [ 4195.77  2867.12]\n",
            " [30342.62 20149.32]\n",
            " [40064.74 47496.49]\n",
            " [27859.34 36149.48]\n",
            " [ 5758.1  26018.95]\n",
            " [10268.48 19749.38]\n",
            " [ 7731.7   6940.91]\n",
            " [ 3564.51  4718.2 ]\n",
            " [10515.61 22192.44]\n",
            " [ 5517.74  2899.49]\n",
            " [ 2711.85 18838.7 ]\n",
            " [32769.66 23568.27]\n",
            " [37631.71 46255.11]\n",
            " [16133.24 24227.34]\n",
            " [ 6953.88  3268.85]\n",
            " [ 5870.8   2322.62]\n",
            " [ 9316.56  8827.21]\n",
            " [ 7652.33 14478.33]\n",
            " [11653.88 13112.6 ]\n",
            " [ 1618.2   1253.94]\n",
            " [38109.22 46718.16]\n",
            " [14509.23 13919.82]\n",
            " [12410.77  9630.4 ]\n",
            " [15366.59 10736.87]\n",
            " [13763.06  9880.07]\n",
            " [25943.37 32548.34]\n",
            " [31380.16 38746.36]\n",
            " [ 1957.52  3180.51]\n",
            " [11501.83  8162.72]\n",
            " [12143.32 13041.92]\n",
            " [11786.2  11554.22]\n",
            " [24951.16 16232.85]\n",
            " [15754.68 13887.97]\n",
            " [11102.48 13012.21]\n",
            " [12532.79 13217.09]\n",
            " [ 6391.27  7147.1 ]\n",
            " [10647.24  7731.43]\n",
            " [30053.83 20296.86]\n",
            " [38776.01 47403.88]\n",
            " [11919.12 11658.38]\n",
            " [37255.91 45863.21]\n",
            " [ 4061.42  2055.32]\n",
            " [ 9189.33  7441.05]\n",
            " [34622.51 41034.22]\n",
            " [29886.11 18972.49]\n",
            " [ 8357.67  3410.32]\n",
            " [ 4736.98  2699.57]\n",
            " [11865.78 12333.83]\n",
            " [30097.74 36837.47]\n",
            " [ 9301.4   6334.34]\n",
            " [11153.51 10214.64]\n",
            " [ 8130.5  17878.9 ]\n",
            " [ 9989.06  8515.76]\n",
            " [ 8230.32  4518.83]\n",
            " [ 7198.68  5148.55]\n",
            " [35799.61 42303.69]\n",
            " [33737.59 38998.55]\n",
            " [ 8329.15  5327.4 ]\n",
            " [14795.95 10602.39]\n",
            " [ 4176.96  1824.29]\n",
            " [ 8652.86  5377.46]\n",
            " [ 7355.34  4349.46]\n",
            " [31623.42 37742.58]\n",
            " [32193.33 32787.46]\n",
            " [ 1884.46  3353.47]\n",
            " [ 8866.2  10577.09]\n",
            " [ 6471.75  3556.92]\n",
            " [14388.45 11944.59]\n",
            " [36903.49 52590.83]\n",
            " [ 9497.44 12475.35]\n",
            " [11499.33  4266.17]\n",
            " [10111.09  9249.5 ]\n",
            " [26741.73 33732.69]\n",
            " [39944.53 48675.52]\n",
            " [ 9222.07  7729.65]\n",
            " [  167.45  1964.78]\n",
            " [ 8808.29  8444.47]\n",
            " [14993.56 12347.17]\n",
            " [ 8838.58  9301.89]\n",
            " [34657.96 42124.52]\n",
            " [ 7213.28  9991.04]\n",
            " [16652.17 14319.03]\n",
            " [ 8866.62  5428.73]\n",
            " [ 8075.26  7626.99]\n",
            " [ 3735.46  4906.41]\n",
            " [32779.63 23401.31]\n",
            " [32181.72 21098.55]\n",
            " [39216.75 48173.36]\n",
            " [ 5355.01  1917.32]\n",
            " [10380.16  8219.2 ]\n",
            " [ 3779.31  1725.55]\n",
            " [ 7875.63  5976.83]\n",
            " [ 8555.67  9361.33]\n",
            " [31419.05 22144.03]\n",
            " [29647.63 35491.64]\n",
            " [29957.79 19515.54]\n",
            " [ 9861.38 10107.22]\n",
            " [32676.26 23244.79]\n",
            " [ 3246.    2789.06]\n",
            " [ 3511.12  2261.57]\n",
            " [10988.98 10594.5 ]\n",
            " [14139.32  9304.7 ]\n",
            " [12691.47 10435.07]\n",
            " [ 5359.15  4894.75]\n",
            " [15721.98 14313.85]\n",
            " [15109.3  28287.9 ]\n",
            " [ 3170.92 14426.07]\n",
            " [  -74.38  1627.28]\n",
            " [10786.33 25517.11]\n",
            " [ 7329.89  6555.07]\n",
            " [31846.08 39611.76]\n",
            " [12252.85  9964.06]\n",
            " [ 2560.78  1720.35]\n",
            " [ 6242.39  2730.11]\n",
            " [ 8096.93  6500.24]\n",
            " [ 4291.97  2643.27]\n",
            " [ 2345.74  1719.44]\n",
            " [10648.05 11085.59]\n",
            " [11774.09 10115.01]\n",
            " [ 6526.04  4846.92]\n",
            " [16484.55 12982.87]\n",
            " [11690.56 28923.14]\n",
            " [13808.59  9391.35]\n",
            " [ 3130.07  4544.23]\n",
            " [ 8620.38 17128.43]\n",
            " [22892.23 13844.51]\n",
            " [ 6880.75  6113.23]\n",
            " [ 5408.4   4441.21]\n",
            " [ 5291.92  1633.96]\n",
            " [ 7417.29  4058.71]\n",
            " [ 5944.51  4435.09]\n",
            " [10696.32  8310.84]\n",
            " [ 5506.14  1986.93]\n",
            " [ 4926.3   4260.74]\n",
            " [ 8313.99  4504.66]\n",
            " [ 4489.76  4428.89]\n",
            " [ 5514.93  6117.49]\n",
            " [37291.81 30184.94]\n",
            " [ 1380.49  1708.93]\n",
            " [13322.87 11187.66]\n",
            " [ 8223.91  6796.86]\n",
            " [13570.78 11356.66]\n",
            " [ 5551.38  2498.41]\n",
            " [ 5982.86 27375.9 ]\n",
            " [36277.69 28101.33]\n",
            " [ 4222.69  2254.8 ]\n",
            " [ 1874.65  2597.78]\n",
            " [15028.   14692.67]\n",
            " [13372.11 10370.91]\n",
            " [34900.99 41097.16]\n",
            " [ 5843.83  3981.98]\n",
            " [ 5521.89  5472.45]\n",
            " [31410.17 21223.68]\n",
            " [ 5968.67  2534.39]\n",
            " [ 1943.4   1972.95]\n",
            " [ 9159.15  6406.41]\n",
            " [ 9276.85  6551.75]\n",
            " [ 8987.45  4058.12]\n",
            " [ 5680.45  4243.59]\n",
            " [13034.5  11512.41]\n",
            " [38556.49 46889.26]\n",
            " [14425.37 12268.63]\n",
            " [28043.85 19199.94]\n",
            " [ 7461.03  4433.39]\n",
            " [35632.11 42969.85]\n",
            " [ 4532.49 23241.47]\n",
            " [12044.98  9140.95]\n",
            " [10065.23  5836.52]\n",
            " [ 6311.63  1149.4 ]\n",
            " [11205.74  8765.25]\n",
            " [14402.69 14043.48]\n",
            " [ 4471.75  5312.17]\n",
            " [ 4185.18 10795.94]\n",
            " [ 7717.16  6282.23]\n",
            " [ 1161.45  1969.61]\n",
            " [ 7171.66  6746.74]\n",
            " [ 4388.44  5354.07]\n",
            " [12554.56 14001.29]\n",
            " [ 5093.11  6877.98]\n",
            " [ 9232.74  6196.45]\n",
            " [ 6560.47  7986.48]\n",
            " [ 9069.26  8277.52]\n",
            " [ 2311.52  3206.49]\n",
            " [12977.76 11848.14]\n",
            " [16617.88 14210.54]\n",
            " [15937.01 12265.51]\n",
            " [10403.86 11837.16]\n",
            " [ 5014.55  6652.53]\n",
            " [ 2462.94  2137.65]\n",
            " [ 2118.45  1131.51]\n",
            " [13304.2   8342.91]\n",
            " [14201.06 12244.53]\n",
            " [ 6373.1   4561.19]\n",
            " [ 4057.86 17626.24]\n",
            " [10092.1   6875.96]\n",
            " [ 9900.94  9447.38]\n",
            " [28049.13 34254.05]\n",
            " [ 7557.89  6067.13]\n",
            " [11262.   11729.68]\n",
            " [ 6105.61  5383.54]\n",
            " [28988.43 37465.34]\n",
            " [11708.2   7371.77]\n",
            " [ 7409.87  7325.05]\n",
            " [ 9500.35  8410.05]\n",
            " [12104.36 10461.98]\n",
            " [ 3764.06  3279.87]\n",
            " [10698.16  7727.25]\n",
            " [ 1456.64  2731.91]\n",
            " [ 6988.98  6858.48]\n",
            " [28626.01 19521.97]\n",
            " [39235.01 47305.31]\n",
            " [ 6953.21  3987.93]\n",
            " [ 8300.78  3238.44]\n",
            " [ 2390.58  7323.73]\n",
            " [  359.07  1704.57]\n",
            " [10329.67  7445.92]\n",
            " [ 4324.26  1629.83]\n",
            " [ 6329.8   4877.98]\n",
            " [ 2644.46  3561.89]\n",
            " [ 6541.74  8605.36]\n",
            " [33166.98 24520.26]\n",
            " [38011.   45710.21]\n",
            " [15460.59 15019.76]\n",
            " [ 8158.64  6664.69]\n",
            " [15898.7  20709.02]\n",
            " [32378.96 40932.43]\n",
            " [ 8814.15  9500.57]]\n"
          ]
        }
      ]
    },
    {
      "cell_type": "code",
      "metadata": {
        "colab": {
          "base_uri": "https://localhost:8080/"
        },
        "id": "5MirqtLuQsrj",
        "outputId": "b3f54450-f719-423b-a3ec-99311e2d3a29"
      },
      "source": [
        "y_train_predict = regressor.predict(X_train)\n",
        "rmse = (np.sqrt(mean_squared_error(Y_train, y_train_predict)))\n",
        "r2 = r2_score(Y_train, y_train_predict)\n",
        "print(rmse)\n",
        "print(r2)"
      ],
      "execution_count": 67,
      "outputs": [
        {
          "output_type": "stream",
          "name": "stdout",
          "text": [
            "6123.30165130058\n",
            "0.7384680902393438\n"
          ]
        }
      ]
    },
    {
      "cell_type": "code",
      "metadata": {
        "colab": {
          "base_uri": "https://localhost:8080/"
        },
        "id": "T64qM8dcQ-lH",
        "outputId": "955cca65-0da3-431d-9a14-54e5648fbbb4"
      },
      "source": [
        "y_test_predict=regressor.predict(X_test)\n",
        "rmse = (np.sqrt(mean_squared_error(Y_test, y_test_predict)))\n",
        "r2t = r2_score(Y_test, y_test_predict)\n",
        "print(r2t)"
      ],
      "execution_count": 69,
      "outputs": [
        {
          "output_type": "stream",
          "name": "stdout",
          "text": [
            "0.7982416597402149\n"
          ]
        }
      ]
    }
  ]
}