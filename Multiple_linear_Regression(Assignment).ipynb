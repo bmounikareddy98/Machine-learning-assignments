{
  "nbformat": 4,
  "nbformat_minor": 0,
  "metadata": {
    "colab": {
      "name": "Multiple_linear_Regression(Assignment).ipynb",
      "provenance": [],
      "collapsed_sections": [],
      "authorship_tag": "ABX9TyNH6l7IE6w2mapoomI0Q5TA",
      "include_colab_link": true
    },
    "kernelspec": {
      "name": "python3",
      "display_name": "Python 3"
    },
    "language_info": {
      "name": "python"
    }
  },
  "cells": [
    {
      "cell_type": "markdown",
      "metadata": {
        "id": "view-in-github",
        "colab_type": "text"
      },
      "source": [
        "<a href=\"https://colab.research.google.com/github/bmounikareddy98/Machine-learning-assignments/blob/main/Multiple_linear_Regression(Assignment).ipynb\" target=\"_parent\"><img src=\"https://colab.research.google.com/assets/colab-badge.svg\" alt=\"Open In Colab\"/></a>"
      ]
    },
    {
      "cell_type": "markdown",
      "metadata": {
        "id": "zhjvnZaOVzMK"
      },
      "source": [
        ""
      ]
    },
    {
      "cell_type": "code",
      "metadata": {
        "id": "c-E4JwLrw1Q5"
      },
      "source": [
        "import numpy as np\n",
        "import matplotlib.pyplot as plt \n",
        "import pandas as pd  \n",
        "import seaborn as sns \n",
        "from sklearn.metrics import r2_score\n",
        "from sklearn.preprocessing import StandardScaler\n",
        "from sklearn.model_selection import train_test_split\n",
        "from sklearn.linear_model import LinearRegression\n",
        "from sklearn.metrics import mean_squared_error\n",
        "from sklearn.linear_model import SGDRegressor\n"
      ],
      "execution_count": 245,
      "outputs": []
    },
    {
      "cell_type": "markdown",
      "metadata": {
        "id": "p4Kl0UvnV6Xd"
      },
      "source": [
        "**The dataset is imported from github public repository**"
      ]
    },
    {
      "cell_type": "code",
      "metadata": {
        "colab": {
          "base_uri": "https://localhost:8080/"
        },
        "id": "mFH2C51UxQjD",
        "outputId": "87bcf9ab-f701-4da4-b0d9-7f01e5a7c0ba"
      },
      "source": [
        "url = 'https://raw.githubusercontent.com/bmounikareddy98/Machine-learning-assignments/main/insurance.csv'\n",
        "dataset = pd.read_csv(url)\n",
        "dataset=dataset.dropna()\n",
        "dataset = dataset.drop_duplicates()\n",
        "print(dataset.head())"
      ],
      "execution_count": 252,
      "outputs": [
        {
          "output_type": "stream",
          "name": "stdout",
          "text": [
            "      sex smoker     region  children     bmi  age      charges\n",
            "0  female    yes  southwest         0  27.900   19  16884.92400\n",
            "1    male     no  southeast         1  33.770   18   1725.55230\n",
            "2    male     no  southeast         3  33.000   28   4449.46200\n",
            "3    male     no  northwest         0  22.705   33  21984.47061\n",
            "4    male     no  northwest         0  28.880   32   3866.85520\n"
          ]
        }
      ]
    },
    {
      "cell_type": "markdown",
      "metadata": {
        "id": "_oNNOv_QWHJ6"
      },
      "source": [
        "**The dataset is divided into dependent variables array and an independent variable array.**"
      ]
    },
    {
      "cell_type": "code",
      "metadata": {
        "colab": {
          "base_uri": "https://localhost:8080/"
        },
        "id": "JTFQrOGv02oc",
        "outputId": "ee308a5a-6b81-4104-d4a3-cc13e597ed9a"
      },
      "source": [
        "X = dataset.iloc[:, :-1].values\n",
        "Y = dataset.iloc[:, -1].values\n",
        "print(X.shape)\n",
        "print(Y.shape)\n",
        "print(X[5])\n",
        "#print(Y[5])\n",
        "\n"
      ],
      "execution_count": 253,
      "outputs": [
        {
          "output_type": "stream",
          "name": "stdout",
          "text": [
            "(1337, 6)\n",
            "(1337,)\n",
            "['female' 'no' 'southeast' 0 25.74 31]\n"
          ]
        }
      ]
    },
    {
      "cell_type": "code",
      "metadata": {
        "id": "oubgB5c4zq03"
      },
      "source": [
        "Encode the categorical data"
      ],
      "execution_count": null,
      "outputs": []
    },
    {
      "cell_type": "code",
      "metadata": {
        "colab": {
          "base_uri": "https://localhost:8080/"
        },
        "id": "73wYZtpxz9Ty",
        "outputId": "c6cb8f57-2ae6-47bd-ebdd-4096a6ff4422"
      },
      "source": [
        "from sklearn.preprocessing import LabelEncoder\n",
        "labelencoder = LabelEncoder()\n",
        "X[:, 0] = labelencoder.fit_transform(X[:, 0])\n",
        "X[:, 1]= labelencoder.fit_transform(X[:, 1])\n",
        "X[:, 2]= labelencoder.fit_transform(X[:, 2])\n",
        "print(X)"
      ],
      "execution_count": 254,
      "outputs": [
        {
          "output_type": "stream",
          "name": "stdout",
          "text": [
            "[[0 1 3 0 27.9 19]\n",
            " [1 0 2 1 33.77 18]\n",
            " [1 0 2 3 33.0 28]\n",
            " ...\n",
            " [0 0 2 0 36.85 18]\n",
            " [0 0 3 0 25.8 21]\n",
            " [0 1 1 0 29.07 61]]\n"
          ]
        }
      ]
    },
    {
      "cell_type": "code",
      "metadata": {
        "colab": {
          "base_uri": "https://localhost:8080/"
        },
        "id": "876blICQ1bzi",
        "outputId": "b3dccbdd-725c-46f1-eede-f43009e5aa1d"
      },
      "source": [
        "from sklearn.compose import ColumnTransformer\n",
        "from sklearn.preprocessing import OneHotEncoder\n",
        "ct = ColumnTransformer(transformers=[('encoder', OneHotEncoder(), [0,1,2])], remainder='passthrough')\n",
        "X = np.array(ct.fit_transform(X))\n",
        "\n",
        "\n",
        "print(X[1])\n",
        "#print(X.shape)\n",
        "\n"
      ],
      "execution_count": 255,
      "outputs": [
        {
          "output_type": "stream",
          "name": "stdout",
          "text": [
            "[0.0 1.0 1.0 0.0 0.0 0.0 1.0 0.0 1 33.77 18]\n"
          ]
        }
      ]
    },
    {
      "cell_type": "code",
      "metadata": {
        "id": "rLhMgTr70DXP"
      },
      "source": [
        "from sklearn.model_selection import train_test_split\n",
        "X_train, X_test, Y_train, Y_test = train_test_split(X, Y, test_size = 0.2, random_state = 1)"
      ],
      "execution_count": 256,
      "outputs": []
    },
    {
      "cell_type": "code",
      "metadata": {
        "colab": {
          "base_uri": "https://localhost:8080/"
        },
        "id": "6euHPfMk2Ui9",
        "outputId": "eb36e199-7349-468b-d423-f56d68246672"
      },
      "source": [
        "print(X_train.shape)\n",
        "print(Y_train.shape)\n",
        "print(X_test.shape)\n",
        "print(Y_test.shape)"
      ],
      "execution_count": 257,
      "outputs": [
        {
          "output_type": "stream",
          "name": "stdout",
          "text": [
            "(1069, 11)\n",
            "(1069,)\n",
            "(268, 11)\n",
            "(268,)\n"
          ]
        }
      ]
    },
    {
      "cell_type": "markdown",
      "metadata": {
        "id": "zFDFpRthzrOA"
      },
      "source": [
        ""
      ]
    },
    {
      "cell_type": "code",
      "metadata": {
        "colab": {
          "base_uri": "https://localhost:8080/"
        },
        "id": "GjIX2yHsvX00",
        "outputId": "a694e5ef-8f48-4e93-b904-da2d951a9560"
      },
      "source": [
        "from sklearn.preprocessing import StandardScaler\n",
        "sc = StandardScaler()\n",
        "\n",
        "X_train[:, 8:11] = sc.fit_transform(X_train[:, 8:11])\n",
        "X_test[:, 8:11] = sc.transform(X_test[:, 8:11])\n",
        "Y_train = Y_train.reshape(-1, 1)\n",
        "Y_train = sc.fit_transform(Y_train)\n",
        "Y_test = Y_test.reshape(-1, 1)\n",
        "Y_test = sc.fit_transform(Y_test)\n",
        "print(X_train[0])\n",
        "print(X_test[0])\n",
        "print(Y_train)\n",
        "print(Y_train.shape)"
      ],
      "execution_count": 258,
      "outputs": [
        {
          "output_type": "stream",
          "name": "stdout",
          "text": [
            "[0.0 1.0 1.0 0.0 0.0 0.0 1.0 0.0 1.5855501703442823 0.4141157157741812\n",
            " 1.489406518534078]\n",
            "[1.0 0.0 0.0 1.0 0.0 1.0 0.0 0.0 -0.9205412028908647 1.3864435332426208\n",
            " 0.34555087249183136]\n",
            "[[ 0.02]\n",
            " [-0.05]\n",
            " [-0.34]\n",
            " ...\n",
            " [-0.98]\n",
            " [ 0.47]\n",
            " [ 2.88]]\n",
            "(1069, 1)\n"
          ]
        }
      ]
    },
    {
      "cell_type": "markdown",
      "metadata": {
        "id": "4bqF4lmbW6_Z"
      },
      "source": [
        "**The null are checked in the dataset(there aren't any)**"
      ]
    },
    {
      "cell_type": "code",
      "metadata": {
        "colab": {
          "base_uri": "https://localhost:8080/"
        },
        "id": "OFsqr3pDW5Qi",
        "outputId": "98e1c771-6e72-46d5-cd18-3f8f4e700586"
      },
      "source": [
        "print(dataset.isnull().sum())"
      ],
      "execution_count": 156,
      "outputs": [
        {
          "output_type": "stream",
          "name": "stdout",
          "text": [
            "sex         0\n",
            "smoker      0\n",
            "region      0\n",
            "children    0\n",
            "bmi         0\n",
            "age         0\n",
            "charges     0\n",
            "dtype: int64\n"
          ]
        }
      ]
    },
    {
      "cell_type": "markdown",
      "metadata": {
        "id": "d06zeFBOXJDV"
      },
      "source": [
        "**The values of dependent variables are shown "
      ]
    },
    {
      "cell_type": "code",
      "metadata": {
        "colab": {
          "base_uri": "https://localhost:8080/"
        },
        "id": "-xpAMpCb1Aoi",
        "outputId": "222b3731-63c2-4a1b-ac88-01f673a8cfc7"
      },
      "source": [
        "print(X[1])"
      ],
      "execution_count": 53,
      "outputs": [
        {
          "output_type": "stream",
          "name": "stdout",
          "text": [
            "[18 'male' 33.77 1 'no' 'southeast']\n"
          ]
        }
      ]
    },
    {
      "cell_type": "markdown",
      "metadata": {
        "id": "mTVuBcxPXesF"
      },
      "source": [
        "**The independent variable is shown below**"
      ]
    },
    {
      "cell_type": "code",
      "metadata": {
        "colab": {
          "base_uri": "https://localhost:8080/"
        },
        "id": "qRrKRAZh1QBB",
        "outputId": "77be795d-cf11-492e-cf9e-5b46bc0ad3d0"
      },
      "source": [
        "print(Y)"
      ],
      "execution_count": 54,
      "outputs": [
        {
          "output_type": "stream",
          "name": "stdout",
          "text": [
            "[16884.924   1725.5523  4449.462  ...  1629.8335  2007.945  29141.3603]\n"
          ]
        }
      ]
    },
    {
      "cell_type": "code",
      "metadata": {
        "colab": {
          "base_uri": "https://localhost:8080/",
          "height": 566
        },
        "id": "tVpKzg2zZeBQ",
        "outputId": "21c97edf-55de-4ad1-8259-f0ed8135e93f"
      },
      "source": [
        "sns.set(rc={'figure.figsize':(11.7,8.27)})\n",
        "sns.distplot(Y, bins=30)\n",
        "plt.show()"
      ],
      "execution_count": 233,
      "outputs": [
        {
          "output_type": "stream",
          "name": "stderr",
          "text": [
            "/usr/local/lib/python3.7/dist-packages/seaborn/distributions.py:2619: FutureWarning: `distplot` is a deprecated function and will be removed in a future version. Please adapt your code to use either `displot` (a figure-level function with similar flexibility) or `histplot` (an axes-level function for histograms).\n",
            "  warnings.warn(msg, FutureWarning)\n"
          ]
        },
        {
          "output_type": "display_data",
          "data": {
            "image/png": "[encoded data removed]",
            "text/plain": [
              "<Figure size 842.4x595.44 with 1 Axes>"
            ]
          },
          "metadata": {}
        }
      ]
    },
    {
      "cell_type": "code",
      "metadata": {
        "colab": {
          "base_uri": "https://localhost:8080/",
          "height": 521
        },
        "id": "I3na6mLdZeck",
        "outputId": "72391144-e83c-4a13-a137-75af05b17737"
      },
      "source": [
        "correlation_matrix = dataset.corr().round(2)\n",
        "# annot = True to print the values inside the square\n",
        "sns.heatmap(data=correlation_matrix, annot=True)"
      ],
      "execution_count": 234,
      "outputs": [
        {
          "output_type": "execute_result",
          "data": {
            "text/plain": [
              "<matplotlib.axes._subplots.AxesSubplot at 0x7fbd090a42d0>"
            ]
          },
          "metadata": {},
          "execution_count": 234
        },
        {
          "output_type": "display_data",
          "data": {
            "image/png": "[encoded data removed]",
            "text/plain": [
              "<Figure size 842.4x595.44 with 2 Axes>"
            ]
          },
          "metadata": {}
        }
      ]
    },
    {
      "cell_type": "code",
      "metadata": {
        "colab": {
          "base_uri": "https://localhost:8080/",
          "height": 35
        },
        "id": "RJd18ICPwvkQ",
        "outputId": "6a2fdb9f-4459-46f0-fdc6-f9437b104f23"
      },
      "source": [
        "\"\"\"X= dataset[[\"age\", \"sex\",\"bmi\",\"smoker\",\"region\"]]\"\"\""
      ],
      "execution_count": 18,
      "outputs": [
        {
          "output_type": "execute_result",
          "data": {
            "application/vnd.google.colaboratory.intrinsic+json": {
              "type": "string"
            },
            "text/plain": [
              "'X= dataset[[\"age\", \"sex\",\"bmi\",\"smoker\",\"region\"]]'"
            ]
          },
          "metadata": {},
          "execution_count": 18
        }
      ]
    },
    {
      "cell_type": "markdown",
      "metadata": {
        "id": "q2o6saC5Y17c"
      },
      "source": [
        "**Splitting the dataset into training and test sets**"
      ]
    },
    {
      "cell_type": "code",
      "metadata": {
        "colab": {
          "base_uri": "https://localhost:8080/"
        },
        "id": "ZgBE8aMpQejZ",
        "outputId": "4bfed52d-e74e-44cb-c592-24205b32653f"
      },
      "source": [
        "from sklearn.linear_model import LinearRegression\n",
        "regressor = LinearRegression()\n",
        "regressor.fit(X_train, Y_train)\n"
      ],
      "execution_count": 259,
      "outputs": [
        {
          "output_type": "execute_result",
          "data": {
            "text/plain": [
              "LinearRegression(copy_X=True, fit_intercept=True, n_jobs=None, normalize=False)"
            ]
          },
          "metadata": {},
          "execution_count": 259
        }
      ]
    },
    {
      "cell_type": "code",
      "metadata": {
        "colab": {
          "base_uri": "https://localhost:8080/"
        },
        "id": "MT4EOJ6kQkDK",
        "outputId": "982800d8-3a7b-40c3-d83a-e462d556d1eb"
      },
      "source": [
        "y_pred = regressor.predict(X_test)\n",
        "np.set_printoptions(precision=2)\n",
        "print(np.concatenate((y_pred.reshape(len(y_pred),1), Y_test.reshape(len(Y_test),1)),1))"
      ],
      "execution_count": 260,
      "outputs": [
        {
          "output_type": "stream",
          "name": "stdout",
          "text": [
            "[[ 1.86e+00  2.74e+00]\n",
            " [-7.81e-02 -4.58e-02]\n",
            " [ 3.42e-02  4.60e-04]\n",
            " [-1.54e-01 -5.46e-01]\n",
            " [-2.11e-01 -5.42e-01]\n",
            " [-9.17e-01 -7.62e-01]\n",
            " [-7.33e-01 -9.09e-01]\n",
            " [-9.52e-02  1.03e-01]\n",
            " [-2.92e-01 -3.80e-03]\n",
            " [ 1.68e+00  1.14e+00]\n",
            " [-2.66e-01  6.65e-02]\n",
            " [-7.39e-01 -4.59e-01]\n",
            " [-2.45e-01 -1.76e-01]\n",
            " [-3.55e-01 -2.44e-01]\n",
            " [-8.72e-01 -9.44e-01]\n",
            " [-2.29e-02  1.30e-01]\n",
            " [-8.55e-01  8.89e-01]\n",
            " [ 1.54e+00  2.36e+00]\n",
            " [ 2.27e-01  6.79e-02]\n",
            " [ 1.76e-01  2.89e-01]\n",
            " [-6.03e-01 -6.61e-01]\n",
            " [ 4.07e-01  1.05e-01]\n",
            " [-3.75e-01 -3.38e-01]\n",
            " [-2.85e-01 -3.90e-01]\n",
            " [-5.47e-01 -6.54e-01]\n",
            " [ 1.78e+00  2.70e+00]\n",
            " [-3.31e-01 -2.87e-01]\n",
            " [ 2.18e+00  3.17e+00]\n",
            " [-6.20e-01 -5.70e-01]\n",
            " [-8.00e-01 -7.23e-01]\n",
            " [ 1.74e-01 -1.82e-01]\n",
            " [-8.00e-01 -7.14e-01]\n",
            " [-7.73e-01 -6.62e-01]\n",
            " [-2.42e-01 -3.11e-02]\n",
            " [-9.20e-01 -9.01e-01]\n",
            " [-7.56e-01  1.39e+00]\n",
            " [ 1.36e+00  2.19e+00]\n",
            " [-2.28e-01  1.11e+00]\n",
            " [-9.52e-02 -5.30e-01]\n",
            " [-2.07e-01 -2.33e-01]\n",
            " [ 1.70e+00  1.14e+00]\n",
            " [-1.14e+00 -8.71e-01]\n",
            " [-2.29e-01  6.92e-01]\n",
            " [ 1.62e+00  2.45e+00]\n",
            " [ 3.37e-01  6.16e-02]\n",
            " [-7.91e-02  1.62e+00]\n",
            " [ 1.41e-01 -3.84e-02]\n",
            " [-8.03e-01 -5.64e-01]\n",
            " [-5.79e-01 -1.96e-01]\n",
            " [-3.69e-01 -8.04e-02]\n",
            " [-7.13e-02  6.01e-02]\n",
            " [-7.71e-02  6.58e-04]\n",
            " [-2.14e-01 -1.46e-01]\n",
            " [-2.39e-02 -4.85e-01]\n",
            " [-3.40e-01 -3.16e-01]\n",
            " [-1.06e+00 -8.71e-01]\n",
            " [-8.40e-01 -8.07e-01]\n",
            " [ 5.32e-02  3.15e-02]\n",
            " [-6.48e-01 -1.20e-02]\n",
            " [ 1.18e-01  1.71e-01]\n",
            " [-1.32e-02 -1.57e-01]\n",
            " [ 2.02e-01 -6.86e-02]\n",
            " [-8.81e-01 -9.10e-01]\n",
            " [-7.78e-01 -6.29e-01]\n",
            " [-6.03e-01  4.33e-01]\n",
            " [-5.67e-01 -6.62e-01]\n",
            " [-5.74e-01 -8.89e-01]\n",
            " [ 1.83e+00  2.66e+00]\n",
            " [-1.23e-01  9.82e-01]\n",
            " [-2.77e-01  2.36e-02]\n",
            " [ 1.66e+00  2.49e+00]\n",
            " [-1.01e+00 -7.04e-01]\n",
            " [-9.41e-01 -8.91e-01]\n",
            " [-1.20e+00 -8.83e-01]\n",
            " [-3.91e-02 -2.26e-01]\n",
            " [-1.05e+00 -8.94e-01]\n",
            " [-1.95e-01 -5.19e-01]\n",
            " [-8.49e-01 -7.92e-01]\n",
            " [-6.73e-01 -9.00e-01]\n",
            " [-8.24e-01 -8.70e-01]\n",
            " [ 4.74e-02 -3.71e-01]\n",
            " [-9.72e-02 -1.89e-01]\n",
            " [-2.77e-01 -8.19e-02]\n",
            " [-2.48e-01 -1.21e-01]\n",
            " [ 1.88e+00  1.50e+00]\n",
            " [-8.45e-01 -8.50e-01]\n",
            " [ 8.95e-01  2.37e-01]\n",
            " [-8.66e-01  6.47e-02]\n",
            " [ 1.71e+00  2.62e+00]\n",
            " [-2.72e-01 -4.64e-01]\n",
            " [-2.94e-01 -6.22e-01]\n",
            " [-4.77e-01 -6.52e-01]\n",
            " [-5.79e-01 -5.19e-01]\n",
            " [-2.24e-01 -2.64e-01]\n",
            " [-6.85e-01 -8.49e-01]\n",
            " [-2.81e-01  1.78e+00]\n",
            " [-1.49e-01 -2.28e-01]\n",
            " [ 4.96e-01  3.24e-01]\n",
            " [-9.51e-01 -8.06e-01]\n",
            " [-5.29e-01 -2.36e-01]\n",
            " [ 0.00e+00 -4.55e-02]\n",
            " [ 9.85e-01  4.55e-01]\n",
            " [-4.15e-01 -4.24e-01]\n",
            " [ 1.12e+00  2.01e+00]\n",
            " [-4.69e-01 -5.91e-01]\n",
            " [-1.58e-01 -2.88e-01]\n",
            " [-5.86e-02  6.70e-01]\n",
            " [ 2.10e-01  2.39e-01]\n",
            " [ 8.30e-03 -2.82e-02]\n",
            " [-1.18e+00 -8.94e-01]\n",
            " [-2.30e-01 -7.99e-02]\n",
            " [-7.06e-01 -6.94e-01]\n",
            " [ 1.74e+00  2.56e+00]\n",
            " [-7.72e-01 -8.12e-01]\n",
            " [-9.29e-01 -7.28e-01]\n",
            " [-8.06e-02 -2.03e-01]\n",
            " [ 3.91e-02 -5.05e-02]\n",
            " [-1.48e-01  7.92e-01]\n",
            " [-1.26e+00 -9.35e-01]\n",
            " [ 1.51e+00  9.19e-01]\n",
            " [-7.56e-01 -7.89e-01]\n",
            " [-3.32e-01 -5.31e-01]\n",
            " [ 2.14e-01  9.75e-02]\n",
            " [-6.42e-01 -4.16e-01]\n",
            " [-8.01e-02 -1.41e-01]\n",
            " [-7.00e-01 -8.56e-01]\n",
            " [-4.53e-01 -4.82e-01]\n",
            " [ 1.08e+00  4.21e-01]\n",
            " [-5.34e-01 -6.99e-01]\n",
            " [-1.21e-01 -3.63e-01]\n",
            " [ 1.35e+00  2.37e+00]\n",
            " [-2.23e-01 -3.92e-01]\n",
            " [-9.85e-01 -8.93e-01]\n",
            " [ 1.45e+00  2.32e+00]\n",
            " [ 1.32e+00  2.14e+00]\n",
            " [-6.76e-01 -3.82e-01]\n",
            " [-1.05e+00 -9.00e-01]\n",
            " [-7.01e-01 -9.01e-01]\n",
            " [-5.49e-01 -1.66e-01]\n",
            " [-3.32e-02 -3.46e-01]\n",
            " [-6.38e-01 -9.00e-01]\n",
            " [-1.72e-01 -4.15e-01]\n",
            " [ 1.19e+00  6.24e-01]\n",
            " [-9.88e-01 -8.04e-01]\n",
            " [ 1.25e-01  1.52e-01]\n",
            " [-2.99e-01  9.07e-01]\n",
            " [-3.66e-01 -3.90e-01]\n",
            " [-2.29e-01 -3.45e-01]\n",
            " [-2.45e-01  5.71e-02]\n",
            " [-6.07e-01 -4.56e-01]\n",
            " [-6.07e-01  6.86e-01]\n",
            " [-6.48e-01 -7.03e-01]\n",
            " [ 4.40e-01 -2.95e-02]\n",
            " [ 1.46e+00  8.70e-01]\n",
            " [-8.35e-02 -1.15e-01]\n",
            " [-1.42e-01 -7.55e-02]\n",
            " [-9.87e-01 -8.06e-01]\n",
            " [-6.27e-01 -6.54e-01]\n",
            " [-2.04e-01 -4.14e-01]\n",
            " [-7.35e-01 -8.83e-01]\n",
            " [-2.51e-01 -3.13e-01]\n",
            " [ 1.36e-01  2.77e-01]\n",
            " [-7.32e-02  6.40e-03]\n",
            " [-7.66e-01 -7.89e-01]\n",
            " [-3.54e-01 -5.05e-01]\n",
            " [-8.51e-01 -8.50e-01]\n",
            " [ 1.50e+00  2.36e+00]\n",
            " [-2.11e-01 -1.26e-01]\n",
            " [-2.29e-01 -7.04e-02]\n",
            " [-9.64e-01 -7.65e-01]\n",
            " [-5.50e-01 -5.91e-01]\n",
            " [-5.26e-01 -7.31e-01]\n",
            " [ 1.49e+00  9.27e-01]\n",
            " [-2.18e-01 -3.63e-01]\n",
            " [-9.67e-01 -7.49e-01]\n",
            " [-6.25e-01 -6.43e-01]\n",
            " [ 1.75e+00  2.67e+00]\n",
            " [-1.69e-01  5.33e-02]\n",
            " [-1.05e+00 -7.16e-01]\n",
            " [ 4.44e-02 -4.78e-01]\n",
            " [ 1.40e-01  1.44e+00]\n",
            " [-2.16e-01  1.53e-01]\n",
            " [-3.30e-01 -1.77e-01]\n",
            " [-4.20e-02 -4.58e-01]\n",
            " [-2.43e-01 -1.12e-01]\n",
            " [-4.25e-02  1.87e-01]\n",
            " [-9.41e-01 -8.54e-01]\n",
            " [-4.25e-01 -6.47e-01]\n",
            " [-5.94e-01 -8.96e-01]\n",
            " [-5.35e-01 -6.93e-01]\n",
            " [-2.23e-01 -6.93e-01]\n",
            " [ 9.62e-02  1.01e-01]\n",
            " [ 1.90e-01 -3.33e-01]\n",
            " [-6.11e-01 -5.81e-01]\n",
            " [-2.58e-01 -3.35e-01]\n",
            " [-8.53e-01 -7.66e-01]\n",
            " [-1.01e+00 -7.57e-01]\n",
            " [-1.45e-01 -1.03e-01]\n",
            " [-4.96e-01 -3.83e-01]\n",
            " [-1.07e+00 -9.02e-01]\n",
            " [-1.73e-01 -2.27e-01]\n",
            " [-1.33e-01 -3.96e-01]\n",
            " [-3.64e-01 -2.44e-01]\n",
            " [-4.37e-01 -4.15e-01]\n",
            " [-4.51e-01 -4.76e-01]\n",
            " [-5.60e-01 -7.48e-01]\n",
            " [-4.03e-01 -2.59e-01]\n",
            " [-4.21e-01 -3.73e-01]\n",
            " [-4.11e-01 -1.55e-01]\n",
            " [ 1.54e+00  1.01e+00]\n",
            " [ 7.62e-02 -2.08e-01]\n",
            " [ 1.51e+00  1.00e+00]\n",
            " [-9.82e-01 -9.00e-01]\n",
            " [ 2.75e-01 -2.05e-01]\n",
            " [-7.39e-01 -8.99e-01]\n",
            " [ 2.08e+00  3.11e+00]\n",
            " [-5.42e-01 -7.29e-01]\n",
            " [ 1.86e-01  5.46e-02]\n",
            " [ 1.99e+00  2.99e+00]\n",
            " [-8.41e-01 -6.55e-01]\n",
            " [ 1.69e+00  1.33e+00]\n",
            " [-2.39e-01 -3.30e-01]\n",
            " [ 6.35e-02  3.47e-02]\n",
            " [-9.30e-01 -6.19e-01]\n",
            " [ 2.39e-01  1.40e-01]\n",
            " [-5.99e-01 -7.54e-01]\n",
            " [-3.01e-01 -5.49e-01]\n",
            " [-4.22e-01 -3.02e-01]\n",
            " [ 9.64e-01  4.58e-01]\n",
            " [ 1.07e+00  1.92e+00]\n",
            " [-6.14e-01 -7.29e-01]\n",
            " [ 1.66e+00  2.45e+00]\n",
            " [-1.17e+00 -9.01e-01]\n",
            " [ 1.67e-01 -1.76e-01]\n",
            " [-4.10e-01 -4.87e-01]\n",
            " [-4.30e-01 -5.06e-01]\n",
            " [-8.96e-01 -9.00e-01]\n",
            " [-7.67e-01 -6.10e-01]\n",
            " [ 1.64e+00  2.66e+00]\n",
            " [-1.20e+00 -8.92e-01]\n",
            " [-6.00e-01 -8.66e-01]\n",
            " [-6.48e-01 -6.57e-01]\n",
            " [-3.63e-01 -3.53e-03]\n",
            " [-1.94e-01 -2.73e-01]\n",
            " [ 1.89e+00  2.86e+00]\n",
            " [ 1.10e-01  1.12e-01]\n",
            " [-2.14e-01  1.10e-01]\n",
            " [-8.98e-01 -8.79e-01]\n",
            " [-1.19e+00  8.55e-01]\n",
            " [ 1.23e-01 -8.04e-02]\n",
            " [-6.87e-01 -6.53e-01]\n",
            " [-1.50e-01  7.83e-01]\n",
            " [-6.39e-01 -6.43e-01]\n",
            " [-5.08e-01 -3.42e-01]\n",
            " [-4.61e-01 -8.02e-01]\n",
            " [ 1.48e+00  4.46e+00]\n",
            " [-8.40e-01 -3.44e-02]\n",
            " [-1.22e+00 -9.01e-01]\n",
            " [ 1.03e-02 -3.18e-02]\n",
            " [-5.38e-01 -8.26e-01]\n",
            " [-7.32e-01 -4.50e-01]\n",
            " [-2.27e-01 -3.19e-01]\n",
            " [-1.22e+00 -8.17e-01]\n",
            " [-4.15e-01 -4.15e-01]\n",
            " [ 1.81e-01  2.29e-01]\n",
            " [-7.94e-01 -8.28e-01]\n",
            " [ 2.18e+00  3.32e+00]\n",
            " [-2.67e-01 -1.33e-01]]\n"
          ]
        }
      ]
    },
    {
      "cell_type": "code",
      "metadata": {
        "colab": {
          "base_uri": "https://localhost:8080/"
        },
        "id": "5MirqtLuQsrj",
        "outputId": "d4ddfcd9-df8c-4d21-9ccb-d4798890066d"
      },
      "source": [
        "y_train_predict = regressor.predict(X_train)\n",
        "rmse = (np.sqrt(mean_squared_error(Y_train, y_train_predict)))\n",
        "r2 = r2_score(Y_train, y_train_predict)\n",
        "print(rmse)\n",
        "print(r2)"
      ],
      "execution_count": 261,
      "outputs": [
        {
          "output_type": "stream",
          "name": "stdout",
          "text": [
            "0.5013861298625156\n",
            "0.7486119487814886\n"
          ]
        }
      ]
    },
    {
      "cell_type": "code",
      "metadata": {
        "colab": {
          "base_uri": "https://localhost:8080/"
        },
        "id": "T64qM8dcQ-lH",
        "outputId": "b19fba52-3393-4afd-9736-c2c60f64ed19"
      },
      "source": [
        "import sklearn.metrics\n",
        "import math\n",
        "y_test_predict=regressor.predict(X_test)\n",
        "mse = sklearn.metrics.mean_squared_error(Y_test, y_test_predict)\n",
        "\n",
        "rmse = math.sqrt(mse)\n",
        "#rmse = (np.sqrt(mean_squared_error(Y_test, y_test_predict)))\n",
        "r2t = r2_score(Y_test, y_test_predict)\n",
        "print(rmse)\n",
        "print(r2t)"
      ],
      "execution_count": 262,
      "outputs": [
        {
          "output_type": "stream",
          "name": "stdout",
          "text": [
            "0.5249847104636908\n",
            "0.7243910537793549\n"
          ]
        }
      ]
    }
  ]
}