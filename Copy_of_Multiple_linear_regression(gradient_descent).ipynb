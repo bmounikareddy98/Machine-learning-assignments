{
  "nbformat": 4,
  "nbformat_minor": 0,
  "metadata": {
    "colab": {
      "name": "Copy of Multiple_linear_regression(gradient_descent).ipynb",
      "provenance": [],
      "collapsed_sections": [],
      "authorship_tag": "ABX9TyOgzEtW/uTKE6nUL9O381SG",
      "include_colab_link": true
    },
    "kernelspec": {
      "name": "python3",
      "display_name": "Python 3"
    },
    "language_info": {
      "name": "python"
    },
    "accelerator": "GPU"
  },
  "cells": [
    {
      "cell_type": "markdown",
      "metadata": {
        "id": "view-in-github",
        "colab_type": "text"
      },
      "source": [
        "<a href=\"https://colab.research.google.com/github/bmounikareddy98/Machine-learning-assignments/blob/main/Copy_of_Multiple_linear_regression(gradient_descent).ipynb\" target=\"_parent\"><img src=\"https://colab.research.google.com/assets/colab-badge.svg\" alt=\"Open In Colab\"/></a>"
      ]
    },
    {
      "cell_type": "code",
      "metadata": {
        "id": "oHLrbQeDhty1"
      },
      "source": [
        "import numpy as np\n",
        "import matplotlib.pyplot as plt \n",
        "import pandas as pd  \n",
        "import seaborn as sns \n",
        "from sklearn.metrics import r2_score\n",
        "from sklearn.preprocessing import StandardScaler\n",
        "from sklearn.model_selection import train_test_split\n",
        "from sklearn.linear_model import LinearRegression\n",
        "from sklearn.metrics import mean_squared_error\n",
        "from sklearn.linear_model import SGDRegressor"
      ],
      "execution_count": 1,
      "outputs": []
    },
    {
      "cell_type": "code",
      "metadata": {
        "colab": {
          "base_uri": "https://localhost:8080/"
        },
        "id": "P2nssY0Rh8EK",
        "outputId": "00e8a48a-e020-4367-c807-ec4358e7d0dd"
      },
      "source": [
        "url = 'https://raw.githubusercontent.com/bmounikareddy98/Machine-learning-assignments/main/insurance.csv'\n",
        "dataset = pd.read_csv(url)\n",
        "dataset=dataset.dropna()\n",
        "dataset = dataset.drop_duplicates()\n",
        "print(dataset.head())"
      ],
      "execution_count": 22,
      "outputs": [
        {
          "output_type": "stream",
          "name": "stdout",
          "text": [
            "      sex smoker     region  children     bmi  age      charges\n",
            "0  female    yes  southwest         0  27.900   19  16884.92400\n",
            "1    male     no  southeast         1  33.770   18   1725.55230\n",
            "2    male     no  southeast         3  33.000   28   4449.46200\n",
            "3    male     no  northwest         0  22.705   33  21984.47061\n",
            "4    male     no  northwest         0  28.880   32   3866.85520\n"
          ]
        }
      ]
    },
    {
      "cell_type": "code",
      "metadata": {
        "colab": {
          "base_uri": "https://localhost:8080/"
        },
        "id": "z5d_lwJsh-zL",
        "outputId": "794cbe96-f0a9-4eff-a17a-719f59e9f511"
      },
      "source": [
        "X = dataset.iloc[:, :-1].values\n",
        "Y = dataset.iloc[:, -1].values\n",
        "print(X.shape)\n",
        "print(Y.shape)\n",
        "print(X[5])\n",
        "#print(Y[5])\n",
        "print(type(dataset))\n"
      ],
      "execution_count": 23,
      "outputs": [
        {
          "output_type": "stream",
          "name": "stdout",
          "text": [
            "(1337, 6)\n",
            "(1337,)\n",
            "['female' 'no' 'southeast' 0 25.74 31]\n",
            "<class 'pandas.core.frame.DataFrame'>\n"
          ]
        }
      ]
    },
    {
      "cell_type": "code",
      "metadata": {
        "colab": {
          "base_uri": "https://localhost:8080/"
        },
        "id": "OrB_cEVLiBhy",
        "outputId": "d94eb60b-01b0-49fb-cea2-bcbb68736d9d"
      },
      "source": [
        "from sklearn.preprocessing import LabelEncoder\n",
        "labelencoder = LabelEncoder()\n",
        "X[:, 0] = labelencoder.fit_transform(X[:, 0])\n",
        "X[:, 1]= labelencoder.fit_transform(X[:, 1])\n",
        "X[:, 2]= labelencoder.fit_transform(X[:, 2])\n",
        "print(X)"
      ],
      "execution_count": 24,
      "outputs": [
        {
          "output_type": "stream",
          "name": "stdout",
          "text": [
            "[[0 1 3 0 27.9 19]\n",
            " [1 0 2 1 33.77 18]\n",
            " [1 0 2 3 33.0 28]\n",
            " ...\n",
            " [0 0 2 0 36.85 18]\n",
            " [0 0 3 0 25.8 21]\n",
            " [0 1 1 0 29.07 61]]\n"
          ]
        }
      ]
    },
    {
      "cell_type": "code",
      "metadata": {
        "colab": {
          "base_uri": "https://localhost:8080/"
        },
        "id": "oh5ai8P6iEX_",
        "outputId": "e96970ba-5939-407b-a471-3a45ecf4ff69"
      },
      "source": [
        "from sklearn.compose import ColumnTransformer\n",
        "from sklearn.preprocessing import OneHotEncoder\n",
        "ct = ColumnTransformer(transformers=[('encoder', OneHotEncoder(), [0,1,2])], remainder='passthrough')\n",
        "X = np.array(ct.fit_transform(X))\n",
        "\n",
        "\n",
        "print(X[1])\n",
        "#print(X.shape)"
      ],
      "execution_count": 25,
      "outputs": [
        {
          "output_type": "stream",
          "name": "stdout",
          "text": [
            "[0.0 1.0 1.0 0.0 0.0 0.0 1.0 0.0 1 33.77 18]\n"
          ]
        }
      ]
    },
    {
      "cell_type": "code",
      "metadata": {
        "id": "cCS7KFGkiGfr"
      },
      "source": [
        "from sklearn.model_selection import train_test_split\n",
        "X_train, X_test, Y_train, Y_test = train_test_split(X, Y, test_size = 0.2, random_state = 1)"
      ],
      "execution_count": 26,
      "outputs": []
    },
    {
      "cell_type": "code",
      "metadata": {
        "colab": {
          "base_uri": "https://localhost:8080/"
        },
        "id": "tR97QoXciJTw",
        "outputId": "9324f343-0551-4f93-bd59-f37e0aa83eae"
      },
      "source": [
        "print(X_train.shape)\n",
        "print(Y_train.shape)\n",
        "print(X_test.shape)\n",
        "print(Y_test.shape)"
      ],
      "execution_count": 7,
      "outputs": [
        {
          "output_type": "stream",
          "name": "stdout",
          "text": [
            "(1069, 11)\n",
            "(1069,)\n",
            "(268, 11)\n",
            "(268,)\n"
          ]
        }
      ]
    },
    {
      "cell_type": "code",
      "metadata": {
        "colab": {
          "base_uri": "https://localhost:8080/"
        },
        "id": "VuJRMN3eiLCQ",
        "outputId": "b113f66e-a6de-4a24-f385-416767f7fe3b"
      },
      "source": [
        "from sklearn.preprocessing import StandardScaler\n",
        "sc = StandardScaler()\n",
        "\n",
        "X_train[:, 8:11] = sc.fit_transform(X_train[:, 8:11])\n",
        "X_test[:, 8:11] = sc.transform(X_test[:, 8:11])\n",
        "Y_train = Y_train.reshape(-1, 1)\n",
        "Y_train = sc.fit_transform(Y_train)\n",
        "Y_test = Y_test.reshape(-1, 1)\n",
        "Y_test = sc.fit_transform(Y_test)\n",
        "print(X_train[0])\n",
        "print(X_test[0])\n",
        "print(Y_train)\n",
        "print(Y_train.shape)\n",
        "print(X_train.shape)"
      ],
      "execution_count": 28,
      "outputs": [
        {
          "output_type": "stream",
          "name": "stdout",
          "text": [
            "[0.0 1.0 1.0 0.0 0.0 0.0 1.0 0.0 1.5855501703442823 0.4141157157741812\n",
            " 1.489406518534078]\n",
            "[1.0 0.0 0.0 1.0 0.0 1.0 0.0 0.0 -0.9205412028908647 1.3864435332426208\n",
            " 0.34555087249183136]\n",
            "[[ 0.02352913]\n",
            " [-0.0505176 ]\n",
            " [-0.34135011]\n",
            " ...\n",
            " [-0.97548154]\n",
            " [ 0.47423484]\n",
            " [ 2.88308022]]\n",
            "(1069, 1)\n",
            "(1069, 11)\n"
          ]
        }
      ]
    },
    {
      "cell_type": "code",
      "metadata": {
        "colab": {
          "base_uri": "https://localhost:8080/"
        },
        "id": "oOGy_HKH0iGJ",
        "outputId": "c91d2e38-0636-4412-f981-72948f8b56fe"
      },
      "source": [
        "print(X_train.shape)\n",
        "print(Y_train.shape)"
      ],
      "execution_count": 29,
      "outputs": [
        {
          "output_type": "stream",
          "name": "stdout",
          "text": [
            "(1069, 11)\n",
            "(1069, 1)\n"
          ]
        }
      ]
    },
    {
      "cell_type": "code",
      "metadata": {
        "id": "x-L_2bTQ__-U"
      },
      "source": [
        "def  cal_cost(theta,X,Y):\n",
        "    '''\n",
        "    \n",
        "    Calculates the cost for given X and Y. The following shows and example of a single dimensional X\n",
        "    theta = Vector of thetas \n",
        "    X     = Row of X's np.zeros((2,j))\n",
        "    y     = Actual y's np.zeros((2,1))\n",
        "    \n",
        "    where:\n",
        "        j is the no of features\n",
        "    '''\n",
        "    \n",
        "    m = len(Y)\n",
        "    \n",
        "    predictions = X.dot(theta)\n",
        "    cost = (1/2*m) * np.sum(np.square(predictions-Y))\n",
        "    return cost"
      ],
      "execution_count": 30,
      "outputs": []
    },
    {
      "cell_type": "code",
      "metadata": {
        "id": "lcyW_EKtAC85"
      },
      "source": [
        "def gradient_descent(X,Y,theta,learning_rate=0.01,iterations=100):\n",
        "    '''\n",
        "    X    = Matrix of X with added bias units\n",
        "    y    = Vector of Y\n",
        "    theta=Vector of thetas np.random.randn(j,1)\n",
        "    learning_rate \n",
        "    iterations = no of iterations\n",
        "    \n",
        "    Returns the final theta vector and array of cost history over no of iterations\n",
        "    '''\n",
        "    m = len(Y)\n",
        "    cost_history = np.zeros(iterations)\n",
        "    theta_history = np.zeros((iterations,12))\n",
        "    for it in range(iterations):\n",
        "        \n",
        "        prediction = np.dot(X,theta)\n",
        "        \n",
        "        theta = theta -(1/m)*learning_rate*( X.T.dot((prediction - Y)))\n",
        "        theta_history[it,:] =theta.T\n",
        "        cost_history[it]  = cal_cost(theta,X,Y)\n",
        "        \n",
        "    return theta, cost_history, theta_history"
      ],
      "execution_count": 31,
      "outputs": []
    },
    {
      "cell_type": "code",
      "metadata": {
        "colab": {
          "base_uri": "https://localhost:8080/",
          "height": 53
        },
        "id": "5UM3xylwARP6",
        "outputId": "7d59fe03-0308-4ed6-e697-e4d7c44cad1c"
      },
      "source": [
        "lr =0.01\n",
        "n_iter = 1000\n",
        "\n",
        "theta = np.random.randn(12,1)\n",
        "\n",
        "X_b = np.c_[np.ones((len(X_train),1)),X_train]\n",
        "theta,cost_history,theta_history = gradient_descent(X_b,Y_train,theta,lr,n_iter)\n",
        "\n",
        "sum=theta[0][0]\n",
        "y_pred= np.ones(Y_train.shape)\n",
        "for i in range(0, X_train.shape[0]):\n",
        "  sum+= theta[1][0]*X_train[i][0]+theta[2][0]*X_train[i][1]+theta[3][0]*X_train[i][2]+theta[4][0]*X_train[i][3]+theta[5][0]*X_train[i][4]+theta[6][0]*X_train[i][5]+theta[7][0]*X_train[i][6]+theta[8][0]*X_train[i][7]+theta[9][0]*X_train[i][8]+theta[10][0]*X_train[i][9]+theta[11][0]*X_train[i][10]\n",
        "  y_pred[i][0]=sum;\n",
        "  sum=theta[0][0]\n",
        "sum=theta[0][0]\n",
        "y_test_pred= np.ones(Y_test.shape)\n",
        "for i in range(0, X_test.shape[0]):\n",
        "  sum+= theta[1][0]*X_test[i][0]+theta[2][0]*X_test[i][1]+theta[3][0]*X_test[i][2]+theta[4][0]*X_test[i][3]+theta[5][0]*X_test[i][4]+theta[6][0]*X_test[i][5]+theta[7][0]*X_test[i][6]+theta[8][0]*X_test[i][7]+theta[9][0]*X_test[i][8]+theta[10][0]*X_test[i][9]+theta[11][0]*X_test[i][10]\n",
        "  y_test_pred[i][0]=sum;\n",
        "  sum=theta[0][0]\n",
        "\n",
        "\n",
        "\n",
        "\"\"\"print('Theta0:          {:0.3f},\\nTheta1:          {:0.3f}'.format(theta[0][0],theta[1][0]))\n",
        "print('Final cost/MSE:  {:0.3f}'.format(cost_history[-1]))\"\"\"\n"
      ],
      "execution_count": 32,
      "outputs": [
        {
          "output_type": "execute_result",
          "data": {
            "application/vnd.google.colaboratory.intrinsic+json": {
              "type": "string"
            },
            "text/plain": [
              "\"print('Theta0:          {:0.3f},\\nTheta1:          {:0.3f}'.format(theta[0][0],theta[1][0]))\\nprint('Final cost/MSE:  {:0.3f}'.format(cost_history[-1]))\""
            ]
          },
          "metadata": {},
          "execution_count": 32
        }
      ]
    },
    {
      "cell_type": "code",
      "metadata": {
        "colab": {
          "base_uri": "https://localhost:8080/"
        },
        "id": "8tCs2iBN7_wl",
        "outputId": "3070ea5c-e0a0-43e3-fd88-018928d18a29"
      },
      "source": [
        "import sklearn.metrics\n",
        "import math\n",
        "mse = sklearn.metrics.mean_squared_error(Y_train, y_pred)\n",
        "\n",
        "rmse = math.sqrt(mse)\n",
        "#rmse = (np.sqrt(mean_squared_error(Y_test, y_test_predict)))\n",
        "r2t = r2_score(Y_train, y_pred)\n",
        "print(rmse)\n",
        "print(r2t)\n",
        "\n",
        "mse_test = sklearn.metrics.mean_squared_error(Y_test, y_test_pred)\n",
        "\n",
        "rmse_test = math.sqrt(mse_test)\n",
        "#rmse = (np.sqrt(mean_squared_error(Y_test, y_test_predict)))\n",
        "r2t_test = r2_score(Y_test, y_test_pred)\n",
        "print(rmse_test)\n",
        "print(r2t_test)\n",
        "\n"
      ],
      "execution_count": 14,
      "outputs": [
        {
          "output_type": "stream",
          "name": "stdout",
          "text": [
            "0.5127530823486376\n",
            "0.7370842765419713\n",
            "0.5470448416526617\n",
            "0.7007419412212144\n"
          ]
        }
      ]
    },
    {
      "cell_type": "code",
      "metadata": {
        "colab": {
          "base_uri": "https://localhost:8080/",
          "height": 508
        },
        "id": "IUumVOyQ9wx_",
        "outputId": "167089e8-264d-4318-dd37-bbb04778532b"
      },
      "source": [
        "fig,ax = plt.subplots(figsize=(12,8))\n",
        "\n",
        "ax.set_ylabel('J(Theta)')\n",
        "ax.set_xlabel('Iterations')\n",
        "_=ax.plot(range(n_iter),cost_history,'b.')\n"
      ],
      "execution_count": 33,
      "outputs": [
        {
          "output_type": "display_data",
          "data": {
            "image/png": "[encoded data removed]",
            "text/plain": [
              "<Figure size 864x576 with 1 Axes>"
            ]
          },
          "metadata": {
            "needs_background": "light"
          }
        }
      ]
    },
    {
      "cell_type": "code",
      "metadata": {
        "colab": {
          "base_uri": "https://localhost:8080/",
          "height": 494
        },
        "id": "67B_pKhL9w-x",
        "outputId": "5cf789c5-f70f-4310-a13d-53fd1a20e7b2"
      },
      "source": [
        "fig,ax = plt.subplots(figsize=(10,8))\n",
        "_=ax.plot(range(380),cost_history[:380],'b.')"
      ],
      "execution_count": 34,
      "outputs": [
        {
          "output_type": "display_data",
          "data": {
            "image/png": "[encoded data removed]",
            "text/plain": [
              "<Figure size 720x576 with 1 Axes>"
            ]
          },
          "metadata": {
            "needs_background": "light"
          }
        }
      ]
    },
    {
      "cell_type": "code",
      "metadata": {
        "id": "PGIEqnQz9xJw"
      },
      "source": [
        "def plot_GD(n_iter,lr,ax,ax1=None):\n",
        "     \"\"\"\n",
        "     n_iter = no of iterations\n",
        "     lr = Learning Rate\n",
        "     ax = Axis to plot the Gradient Descent\n",
        "     ax1 = Axis to plot cost_history vs Iterations plot\n",
        "\n",
        "     \"\"\"\n",
        "     _ = ax.plot(X_train,Y_train,'b.')\n",
        "     theta = np.random.randn(12,1)\n",
        "\n",
        "     tr =0.1\n",
        "     cost_history = np.zeros(n_iter)\n",
        "     for i in range(n_iter):\n",
        "        pred_prev = X_b.dot(theta)\n",
        "        theta,h,_ = gradient_descent(X_b,Y_train, theta,lr,1)\n",
        "        pred = X_b.dot(theta)\n",
        "\n",
        "        cost_history[i] = h[0]\n",
        "\n",
        "        if ((i % 25 == 0) ):\n",
        "            _ = ax.plot(X,pred,'r-',alpha=tr)\n",
        "            if tr < 0.8:\n",
        "                tr = tr+0.2\n",
        "     if not ax1== None:\n",
        "        _ = ax1.plot(range(n_iter),cost_history,'b.')"
      ],
      "execution_count": 42,
      "outputs": []
    },
    {
      "cell_type": "code",
      "metadata": {
        "colab": {
          "base_uri": "https://localhost:8080/",
          "height": 553
        },
        "id": "Sg7ZQESm-nHT",
        "outputId": "7e86ff2e-5da5-4bea-9d04-b5ce1cc679ba"
      },
      "source": [
        "fig = plt.figure(figsize=(30,25),dpi=200)\n",
        "fig.subplots_adjust(hspace=0.4, wspace=0.4)\n",
        "\n",
        "it_lr =[(2000,0.001),(500,0.01),(200,0.05),(100,0.1)]\n",
        "count =0\n",
        "for n_iter, lr in it_lr:\n",
        "    count += 1\n",
        "    \n",
        "    ax = fig.add_subplot(4, 2, count)\n",
        "    count += 1\n",
        "   \n",
        "    ax1 = fig.add_subplot(4,2,count)\n",
        "    \n",
        "    ax.set_title(\"lr:{}\".format(lr))\n",
        "    ax1.set_title(\"Iterations:{}\".format(n_iter))\n",
        "    plot_GD(n_iter,lr,ax,ax1)"
      ],
      "execution_count": 43,
      "outputs": [
        {
          "output_type": "error",
          "ename": "ValueError",
          "evalue": "ignored",
          "traceback": [
            "\u001b[0;31m---------------------------------------------------------------------------\u001b[0m",
            "\u001b[0;31mValueError\u001b[0m                                Traceback (most recent call last)",
            "\u001b[0;32m<ipython-input-43-9a6d6b0015e4>\u001b[0m in \u001b[0;36m<module>\u001b[0;34m()\u001b[0m\n\u001b[1;32m     14\u001b[0m     \u001b[0max\u001b[0m\u001b[0;34m.\u001b[0m\u001b[0mset_title\u001b[0m\u001b[0;34m(\u001b[0m\u001b[0;34m\"lr:{}\"\u001b[0m\u001b[0;34m.\u001b[0m\u001b[0mformat\u001b[0m\u001b[0;34m(\u001b[0m\u001b[0mlr\u001b[0m\u001b[0;34m)\u001b[0m\u001b[0;34m)\u001b[0m\u001b[0;34m\u001b[0m\u001b[0;34m\u001b[0m\u001b[0m\n\u001b[1;32m     15\u001b[0m     \u001b[0max1\u001b[0m\u001b[0;34m.\u001b[0m\u001b[0mset_title\u001b[0m\u001b[0;34m(\u001b[0m\u001b[0;34m\"Iterations:{}\"\u001b[0m\u001b[0;34m.\u001b[0m\u001b[0mformat\u001b[0m\u001b[0;34m(\u001b[0m\u001b[0mn_iter\u001b[0m\u001b[0;34m)\u001b[0m\u001b[0;34m)\u001b[0m\u001b[0;34m\u001b[0m\u001b[0;34m\u001b[0m\u001b[0m\n\u001b[0;32m---> 16\u001b[0;31m     \u001b[0mplot_GD\u001b[0m\u001b[0;34m(\u001b[0m\u001b[0mn_iter\u001b[0m\u001b[0;34m,\u001b[0m\u001b[0mlr\u001b[0m\u001b[0;34m,\u001b[0m\u001b[0max\u001b[0m\u001b[0;34m,\u001b[0m\u001b[0max1\u001b[0m\u001b[0;34m)\u001b[0m\u001b[0;34m\u001b[0m\u001b[0;34m\u001b[0m\u001b[0m\n\u001b[0m",
            "\u001b[0;32m<ipython-input-42-856ad56dbf77>\u001b[0m in \u001b[0;36mplot_GD\u001b[0;34m(n_iter, lr, ax, ax1)\u001b[0m\n\u001b[1;32m      7\u001b[0m \u001b[0;34m\u001b[0m\u001b[0m\n\u001b[1;32m      8\u001b[0m      \"\"\"\n\u001b[0;32m----> 9\u001b[0;31m      \u001b[0m_\u001b[0m \u001b[0;34m=\u001b[0m \u001b[0max\u001b[0m\u001b[0;34m.\u001b[0m\u001b[0mplot\u001b[0m\u001b[0;34m(\u001b[0m\u001b[0mX_train\u001b[0m\u001b[0;34m[\u001b[0m\u001b[0;36m0\u001b[0m\u001b[0;34m]\u001b[0m\u001b[0;34m,\u001b[0m\u001b[0mY_train\u001b[0m\u001b[0;34m,\u001b[0m\u001b[0;34m'b.'\u001b[0m\u001b[0;34m)\u001b[0m\u001b[0;34m\u001b[0m\u001b[0;34m\u001b[0m\u001b[0m\n\u001b[0m\u001b[1;32m     10\u001b[0m      \u001b[0mtheta\u001b[0m \u001b[0;34m=\u001b[0m \u001b[0mnp\u001b[0m\u001b[0;34m.\u001b[0m\u001b[0mrandom\u001b[0m\u001b[0;34m.\u001b[0m\u001b[0mrandn\u001b[0m\u001b[0;34m(\u001b[0m\u001b[0;36m12\u001b[0m\u001b[0;34m,\u001b[0m\u001b[0;36m1\u001b[0m\u001b[0;34m)\u001b[0m\u001b[0;34m\u001b[0m\u001b[0;34m\u001b[0m\u001b[0m\n\u001b[1;32m     11\u001b[0m \u001b[0;34m\u001b[0m\u001b[0m\n",
            "\u001b[0;32m/usr/local/lib/python3.7/dist-packages/matplotlib/axes/_axes.py\u001b[0m in \u001b[0;36mplot\u001b[0;34m(self, scalex, scaley, data, *args, **kwargs)\u001b[0m\n\u001b[1;32m   1645\u001b[0m         \"\"\"\n\u001b[1;32m   1646\u001b[0m         \u001b[0mkwargs\u001b[0m \u001b[0;34m=\u001b[0m \u001b[0mcbook\u001b[0m\u001b[0;34m.\u001b[0m\u001b[0mnormalize_kwargs\u001b[0m\u001b[0;34m(\u001b[0m\u001b[0mkwargs\u001b[0m\u001b[0;34m,\u001b[0m \u001b[0mmlines\u001b[0m\u001b[0;34m.\u001b[0m\u001b[0mLine2D\u001b[0m\u001b[0;34m)\u001b[0m\u001b[0;34m\u001b[0m\u001b[0;34m\u001b[0m\u001b[0m\n\u001b[0;32m-> 1647\u001b[0;31m         \u001b[0mlines\u001b[0m \u001b[0;34m=\u001b[0m \u001b[0;34m[\u001b[0m\u001b[0;34m*\u001b[0m\u001b[0mself\u001b[0m\u001b[0;34m.\u001b[0m\u001b[0m_get_lines\u001b[0m\u001b[0;34m(\u001b[0m\u001b[0;34m*\u001b[0m\u001b[0margs\u001b[0m\u001b[0;34m,\u001b[0m \u001b[0mdata\u001b[0m\u001b[0;34m=\u001b[0m\u001b[0mdata\u001b[0m\u001b[0;34m,\u001b[0m \u001b[0;34m**\u001b[0m\u001b[0mkwargs\u001b[0m\u001b[0;34m)\u001b[0m\u001b[0;34m]\u001b[0m\u001b[0;34m\u001b[0m\u001b[0;34m\u001b[0m\u001b[0m\n\u001b[0m\u001b[1;32m   1648\u001b[0m         \u001b[0;32mfor\u001b[0m \u001b[0mline\u001b[0m \u001b[0;32min\u001b[0m \u001b[0mlines\u001b[0m\u001b[0;34m:\u001b[0m\u001b[0;34m\u001b[0m\u001b[0;34m\u001b[0m\u001b[0m\n\u001b[1;32m   1649\u001b[0m             \u001b[0mself\u001b[0m\u001b[0;34m.\u001b[0m\u001b[0madd_line\u001b[0m\u001b[0;34m(\u001b[0m\u001b[0mline\u001b[0m\u001b[0;34m)\u001b[0m\u001b[0;34m\u001b[0m\u001b[0;34m\u001b[0m\u001b[0m\n",
            "\u001b[0;32m/usr/local/lib/python3.7/dist-packages/matplotlib/axes/_base.py\u001b[0m in \u001b[0;36m__call__\u001b[0;34m(self, *args, **kwargs)\u001b[0m\n\u001b[1;32m    214\u001b[0m                 \u001b[0mthis\u001b[0m \u001b[0;34m+=\u001b[0m \u001b[0margs\u001b[0m\u001b[0;34m[\u001b[0m\u001b[0;36m0\u001b[0m\u001b[0;34m]\u001b[0m\u001b[0;34m,\u001b[0m\u001b[0;34m\u001b[0m\u001b[0;34m\u001b[0m\u001b[0m\n\u001b[1;32m    215\u001b[0m                 \u001b[0margs\u001b[0m \u001b[0;34m=\u001b[0m \u001b[0margs\u001b[0m\u001b[0;34m[\u001b[0m\u001b[0;36m1\u001b[0m\u001b[0;34m:\u001b[0m\u001b[0;34m]\u001b[0m\u001b[0;34m\u001b[0m\u001b[0;34m\u001b[0m\u001b[0m\n\u001b[0;32m--> 216\u001b[0;31m             \u001b[0;32myield\u001b[0m \u001b[0;32mfrom\u001b[0m \u001b[0mself\u001b[0m\u001b[0;34m.\u001b[0m\u001b[0m_plot_args\u001b[0m\u001b[0;34m(\u001b[0m\u001b[0mthis\u001b[0m\u001b[0;34m,\u001b[0m \u001b[0mkwargs\u001b[0m\u001b[0;34m)\u001b[0m\u001b[0;34m\u001b[0m\u001b[0;34m\u001b[0m\u001b[0m\n\u001b[0m\u001b[1;32m    217\u001b[0m \u001b[0;34m\u001b[0m\u001b[0m\n\u001b[1;32m    218\u001b[0m     \u001b[0;32mdef\u001b[0m \u001b[0mget_next_color\u001b[0m\u001b[0;34m(\u001b[0m\u001b[0mself\u001b[0m\u001b[0;34m)\u001b[0m\u001b[0;34m:\u001b[0m\u001b[0;34m\u001b[0m\u001b[0;34m\u001b[0m\u001b[0m\n",
            "\u001b[0;32m/usr/local/lib/python3.7/dist-packages/matplotlib/axes/_base.py\u001b[0m in \u001b[0;36m_plot_args\u001b[0;34m(self, tup, kwargs)\u001b[0m\n\u001b[1;32m    340\u001b[0m \u001b[0;34m\u001b[0m\u001b[0m\n\u001b[1;32m    341\u001b[0m         \u001b[0;32mif\u001b[0m \u001b[0mx\u001b[0m\u001b[0;34m.\u001b[0m\u001b[0mshape\u001b[0m\u001b[0;34m[\u001b[0m\u001b[0;36m0\u001b[0m\u001b[0;34m]\u001b[0m \u001b[0;34m!=\u001b[0m \u001b[0my\u001b[0m\u001b[0;34m.\u001b[0m\u001b[0mshape\u001b[0m\u001b[0;34m[\u001b[0m\u001b[0;36m0\u001b[0m\u001b[0;34m]\u001b[0m\u001b[0;34m:\u001b[0m\u001b[0;34m\u001b[0m\u001b[0;34m\u001b[0m\u001b[0m\n\u001b[0;32m--> 342\u001b[0;31m             raise ValueError(f\"x and y must have same first dimension, but \"\n\u001b[0m\u001b[1;32m    343\u001b[0m                              f\"have shapes {x.shape} and {y.shape}\")\n\u001b[1;32m    344\u001b[0m         \u001b[0;32mif\u001b[0m \u001b[0mx\u001b[0m\u001b[0;34m.\u001b[0m\u001b[0mndim\u001b[0m \u001b[0;34m>\u001b[0m \u001b[0;36m2\u001b[0m \u001b[0;32mor\u001b[0m \u001b[0my\u001b[0m\u001b[0;34m.\u001b[0m\u001b[0mndim\u001b[0m \u001b[0;34m>\u001b[0m \u001b[0;36m2\u001b[0m\u001b[0;34m:\u001b[0m\u001b[0;34m\u001b[0m\u001b[0;34m\u001b[0m\u001b[0m\n",
            "\u001b[0;31mValueError\u001b[0m: x and y must have same first dimension, but have shapes (11,) and (1069, 1)"
          ]
        },
        {
          "output_type": "display_data",
          "data": {
            "image/png": "[encoded data removed]",
            "text/plain": [
              "<Figure size 6000x5000 with 2 Axes>"
            ]
          },
          "metadata": {
            "needs_background": "light"
          }
        }
      ]
    },
    {
      "cell_type": "markdown",
      "metadata": {
        "id": "nxRjsghrCANg"
      },
      "source": [
        ""
      ]
    },
    {
      "cell_type": "code",
      "metadata": {
        "id": "YA7sWKgqCggD"
      },
      "source": [
        "def stocashtic_gradient_descent(X,Y,theta,learning_rate=0.01,iterations=100):\n",
        "    '''\n",
        "    X    = Matrix of X with added bias units\n",
        "    y    = Vector of Y\n",
        "    theta=Vector of thetas np.random.randn(j,1)\n",
        "    learning_rate \n",
        "    iterations = no of iterations\n",
        "    \n",
        "    Returns the final theta vector and array of cost history over no of iterations\n",
        "    '''\n",
        "    m = len(Y)\n",
        "    cost_history = np.zeros(iterations)\n",
        "    \n",
        "    \n",
        "    for it in range(iterations):\n",
        "        cost =0.0\n",
        "        for i in range(m):\n",
        "            rand_ind = np.random.randint(0,m)\n",
        "            X_i = X[rand_ind,:].reshape(1,X.shape[1])\n",
        "            Y_i = Y[rand_ind].reshape(1,1)\n",
        "            prediction = np.dot(X_i,theta)\n",
        "\n",
        "            theta = theta -(1/m)*learning_rate*( X_i.T.dot((prediction - Y_i)))\n",
        "            cost += cal_cost(theta,X_i,Y_i)\n",
        "        cost_history[it]  = cost\n",
        "        \n",
        "    return theta, cost_history"
      ],
      "execution_count": null,
      "outputs": []
    },
    {
      "cell_type": "code",
      "metadata": {
        "colab": {
          "base_uri": "https://localhost:8080/",
          "height": 70
        },
        "id": "WRXKLAqXCqcD",
        "outputId": "c4a53599-aec5-44ed-a5de-3bb2400fe0fe"
      },
      "source": [
        "lr =0.5\n",
        "n_iter = 100\n",
        "\n",
        "theta = np.random.randn(12,1)\n",
        "\n",
        "X_b = np.c_[np.ones((len(X_train),1)),X_train]\n",
        "theta,cost_history = stocashtic_gradient_descent(X_b,Y_train,theta,lr,n_iter)\n",
        "print(theta.shape)\n",
        "print(X_train.shape)\n",
        "\n",
        "sum=theta[0][0]\n",
        "y_pred= np.ones(Y_train.shape)\n",
        "for i in range(0, X_train.shape[0]):\n",
        "  sum+= theta[1][0]*X_train[i][0]+theta[2][0]*X_train[i][1]+theta[3][0]*X_train[i][2]+theta[4][0]*X_train[i][3]+theta[5][0]*X_train[i][4]+theta[6][0]*X_train[i][5]\n",
        "  y_pred[i][0]=sum;\n",
        "  sum=theta[0][0]\n",
        "\n",
        " \n",
        "\n",
        "\n",
        "#print('Theta0:          {:0.3f},\\nTheta1:          {:0.3f}'.format(theta[0][0],theta[1][0],theta[2][0],theta[3][0],theta[4][0],theta[5][0],theta[6][0]))\n",
        "\n",
        "\"\"\"for i in range(0,7):\n",
        "  print(theta[i][0])\n",
        "print('Final cost/MSE:  {:0.3f}'.format(np.sqrt(np.sqrt(cost_history[-1]))))\n",
        "\"\"\"\n"
      ],
      "execution_count": null,
      "outputs": [
        {
          "output_type": "stream",
          "name": "stdout",
          "text": [
            "(12, 1)\n",
            "(1069, 11)\n"
          ]
        },
        {
          "output_type": "execute_result",
          "data": {
            "application/vnd.google.colaboratory.intrinsic+json": {
              "type": "string"
            },
            "text/plain": [
              "\"for i in range(0,7):\\n  print(theta[i][0])\\nprint('Final cost/MSE:  {:0.3f}'.format(np.sqrt(np.sqrt(cost_history[-1]))))\\n\""
            ]
          },
          "metadata": {},
          "execution_count": 192
        }
      ]
    },
    {
      "cell_type": "code",
      "metadata": {
        "id": "ygc-X6fnECdy",
        "colab": {
          "base_uri": "https://localhost:8080/"
        },
        "outputId": "06fc4fe0-59ee-4cff-97fc-4355261096d1"
      },
      "source": [
        "\"\"\"s=(X_train.shape[0], 1)\n",
        "w0=np.ones(s)\n",
        "#X_new= w0\n",
        "#X_new= np.concatenate((w0,X_train))\n",
        "X_train = np.insert(X_train, 0, w0, axis=1)\n",
        "print(X_train.shape)\n",
        "#print(w0)\n",
        "s=(X_train.shape[0],1)\n",
        "ones=np.ones(s)\n",
        "X_train= np.concatenate((ones,X_train), axis=1)\n",
        "print(X_train.shape)\"\"\"\n",
        "print(Y_train.shape)\n",
        "print(y_pred.shape)\n",
        "print(y_pred[0], Y_train[0])\n",
        "#print(Y_train)"
      ],
      "execution_count": null,
      "outputs": [
        {
          "output_type": "stream",
          "name": "stdout",
          "text": [
            "(1069, 1)\n",
            "(1069, 1)\n",
            "[0.0489271] [0.02352913]\n"
          ]
        }
      ]
    },
    {
      "cell_type": "code",
      "metadata": {
        "colab": {
          "base_uri": "https://localhost:8080/"
        },
        "id": "BlEHh2ySYVlf",
        "outputId": "c39521e8-3e30-4656-b06b-dc7e0bd04053"
      },
      "source": [
        "#y_train_predict=regressor.predict(X_test)\\\n",
        "\n",
        "import sklearn.metrics\n",
        "import math\n",
        "mse = sklearn.metrics.mean_squared_error(Y_train, y_pred)\n",
        "\n",
        "rmse = math.sqrt(mse)\n",
        "#rmse = (np.sqrt(mean_squared_error(Y_test, y_test_predict)))\n",
        "r2t = r2_score(Y_train, y_pred)\n",
        "print(rmse)\n",
        "print(r2t)"
      ],
      "execution_count": null,
      "outputs": [
        {
          "output_type": "stream",
          "name": "stdout",
          "text": [
            "0.7142885219607731\n",
            "0.48979190739509426\n"
          ]
        }
      ]
    }
  ]
}