{
  "nbformat": 4,
  "nbformat_minor": 0,
  "metadata": {
    "colab": {
      "name": "Copy of Multiple_linear_regression(gradient_descent).ipynb",
      "provenance": [],
      "collapsed_sections": [],
      "authorship_tag": "ABX9TyMVPbJpbqF/GZZs9zOiAKTI",
      "include_colab_link": true
    },
    "kernelspec": {
      "name": "python3",
      "display_name": "Python 3"
    },
    "language_info": {
      "name": "python"
    },
    "accelerator": "GPU"
  },
  "cells": [
    {
      "cell_type": "markdown",
      "metadata": {
        "id": "view-in-github",
        "colab_type": "text"
      },
      "source": [
        "<a href=\"https://colab.research.google.com/github/bmounikareddy98/Machine-learning-assignments/blob/main/Copy_of_Multiple_linear_regression(gradient_descent).ipynb\" target=\"_parent\"><img src=\"https://colab.research.google.com/assets/colab-badge.svg\" alt=\"Open In Colab\"/></a>"
      ]
    },
    {
      "cell_type": "code",
      "metadata": {
        "id": "oHLrbQeDhty1"
      },
      "source": [
        "import numpy as np\n",
        "import matplotlib.pyplot as plt \n",
        "import pandas as pd  \n",
        "import seaborn as sns \n",
        "from sklearn.metrics import r2_score\n",
        "from sklearn.preprocessing import StandardScaler\n",
        "from sklearn.model_selection import train_test_split\n",
        "from sklearn.linear_model import LinearRegression\n",
        "from sklearn.metrics import mean_squared_error\n",
        "from sklearn.linear_model import SGDRegressor"
      ],
      "execution_count": 1,
      "outputs": []
    },
    {
      "cell_type": "code",
      "metadata": {
        "colab": {
          "base_uri": "https://localhost:8080/"
        },
        "id": "P2nssY0Rh8EK",
        "outputId": "070c9c80-45c9-43be-948d-6d71b2df900f"
      },
      "source": [
        "url = 'https://raw.githubusercontent.com/bmounikareddy98/Machine-learning-assignments/main/insurance.csv'\n",
        "dataset = pd.read_csv(url)\n",
        "dataset=dataset.dropna()\n",
        "dataset = dataset.drop_duplicates()\n",
        "print(dataset.head())"
      ],
      "execution_count": 2,
      "outputs": [
        {
          "output_type": "stream",
          "name": "stdout",
          "text": [
            "      sex smoker     region  children     bmi  age      charges\n",
            "0  female    yes  southwest         0  27.900   19  16884.92400\n",
            "1    male     no  southeast         1  33.770   18   1725.55230\n",
            "2    male     no  southeast         3  33.000   28   4449.46200\n",
            "3    male     no  northwest         0  22.705   33  21984.47061\n",
            "4    male     no  northwest         0  28.880   32   3866.85520\n"
          ]
        }
      ]
    },
    {
      "cell_type": "code",
      "metadata": {
        "colab": {
          "base_uri": "https://localhost:8080/"
        },
        "id": "z5d_lwJsh-zL",
        "outputId": "e44f1fb1-da7f-4aaf-bd30-1416b162baa4"
      },
      "source": [
        "X = dataset.iloc[:, :-1].values\n",
        "Y = dataset.iloc[:, -1].values\n",
        "print(X.shape)\n",
        "print(Y.shape)\n",
        "print(X[5])\n",
        "#print(Y[5])\n",
        "print(type(dataset))\n"
      ],
      "execution_count": 3,
      "outputs": [
        {
          "output_type": "stream",
          "name": "stdout",
          "text": [
            "(1337, 6)\n",
            "(1337,)\n",
            "['female' 'no' 'southeast' 0 25.74 31]\n",
            "<class 'pandas.core.frame.DataFrame'>\n"
          ]
        }
      ]
    },
    {
      "cell_type": "code",
      "metadata": {
        "colab": {
          "base_uri": "https://localhost:8080/"
        },
        "id": "OrB_cEVLiBhy",
        "outputId": "e2a36a2a-9145-4571-ff5d-86bd61f7a056"
      },
      "source": [
        "from sklearn.preprocessing import LabelEncoder\n",
        "labelencoder = LabelEncoder()\n",
        "X[:, 0] = labelencoder.fit_transform(X[:, 0])\n",
        "X[:, 1]= labelencoder.fit_transform(X[:, 1])\n",
        "X[:, 2]= labelencoder.fit_transform(X[:, 2])\n",
        "print(X)"
      ],
      "execution_count": 4,
      "outputs": [
        {
          "output_type": "stream",
          "name": "stdout",
          "text": [
            "[[0 1 3 0 27.9 19]\n",
            " [1 0 2 1 33.77 18]\n",
            " [1 0 2 3 33.0 28]\n",
            " ...\n",
            " [0 0 2 0 36.85 18]\n",
            " [0 0 3 0 25.8 21]\n",
            " [0 1 1 0 29.07 61]]\n"
          ]
        }
      ]
    },
    {
      "cell_type": "code",
      "metadata": {
        "colab": {
          "base_uri": "https://localhost:8080/"
        },
        "id": "oh5ai8P6iEX_",
        "outputId": "63d087ad-bbec-47a1-c6ec-3c9576fc2b7b"
      },
      "source": [
        "from sklearn.compose import ColumnTransformer\n",
        "from sklearn.preprocessing import OneHotEncoder\n",
        "ct = ColumnTransformer(transformers=[('encoder', OneHotEncoder(), [0,1,2])], remainder='passthrough')\n",
        "X = np.array(ct.fit_transform(X))\n",
        "\n",
        "\n",
        "print(X[1])\n",
        "#print(X.shape)"
      ],
      "execution_count": 5,
      "outputs": [
        {
          "output_type": "stream",
          "name": "stdout",
          "text": [
            "[0.0 1.0 1.0 0.0 0.0 0.0 1.0 0.0 1 33.77 18]\n"
          ]
        }
      ]
    },
    {
      "cell_type": "code",
      "metadata": {
        "id": "cCS7KFGkiGfr"
      },
      "source": [
        "from sklearn.model_selection import train_test_split\n",
        "X_train, X_test, Y_train, Y_test = train_test_split(X, Y, test_size = 0.2, random_state = 1)"
      ],
      "execution_count": 6,
      "outputs": []
    },
    {
      "cell_type": "code",
      "metadata": {
        "colab": {
          "base_uri": "https://localhost:8080/"
        },
        "id": "tR97QoXciJTw",
        "outputId": "9324f343-0551-4f93-bd59-f37e0aa83eae"
      },
      "source": [
        "print(X_train.shape)\n",
        "print(Y_train.shape)\n",
        "print(X_test.shape)\n",
        "print(Y_test.shape)"
      ],
      "execution_count": 7,
      "outputs": [
        {
          "output_type": "stream",
          "name": "stdout",
          "text": [
            "(1069, 11)\n",
            "(1069,)\n",
            "(268, 11)\n",
            "(268,)\n"
          ]
        }
      ]
    },
    {
      "cell_type": "code",
      "metadata": {
        "colab": {
          "base_uri": "https://localhost:8080/"
        },
        "id": "0Fz3zI2d3JMD",
        "outputId": "16ed3352-bc9f-4343-d62f-e38f4777bb1f"
      },
      "source": [
        "nrows,ncols = X_train.shape[0],X_train.shape[1]\n",
        "W = np.random.rand(ncols).reshape(ncols, 1)\n",
        "print(W.shape)\n",
        "print(nrows)\n",
        "print(ncols)\n",
        "print(np.dot(X_train,W))"
      ],
      "execution_count": null,
      "outputs": [
        {
          "output_type": "stream",
          "name": "stdout",
          "text": [
            "(6, 1)\n",
            "1069\n",
            "6\n",
            "[[34.61396713843519]\n",
            " [22.528711416310397]\n",
            " [25.30556819707043]\n",
            " ...\n",
            " [32.479930161883686]\n",
            " [24.06340911667315]\n",
            " [40.65480648335116]]\n"
          ]
        }
      ]
    },
    {
      "cell_type": "code",
      "metadata": {
        "id": "HZtUyUt42h8m"
      },
      "source": [
        "def trainData(X,Y,W, epochs, learning_rate):\n",
        "        # Perform Gradient Descent\n",
        "        for i in range(epochs):\n",
        "            # Make prediction with current weights\n",
        "            h = np.dot(X, W)\n",
        "            # Find error\n",
        "            error = h - Y\n",
        "            #W = W - (1 / nrows) * learning_rate * np.dot(X.T, error)\n",
        "            W = W - (1 / nrows) * learning_rate * X.T\n",
        "            #theta,error = trainData(X_train,Y_train,W,i,j)\n",
        "\n",
        "        return W, error"
      ],
      "execution_count": null,
      "outputs": []
    },
    {
      "cell_type": "code",
      "metadata": {
        "colab": {
          "base_uri": "https://localhost:8080/"
        },
        "id": "VuJRMN3eiLCQ",
        "outputId": "f3615d7f-168a-478a-f473-6280d426178d"
      },
      "source": [
        "from sklearn.preprocessing import StandardScaler\n",
        "sc = StandardScaler()\n",
        "\n",
        "X_train[:, 8:11] = sc.fit_transform(X_train[:, 8:11])\n",
        "X_test[:, 8:11] = sc.transform(X_test[:, 8:11])\n",
        "Y_train = Y_train.reshape(-1, 1)\n",
        "Y_train = sc.fit_transform(Y_train)\n",
        "Y_test = Y_test.reshape(-1, 1)\n",
        "Y_test = sc.fit_transform(Y_test)\n",
        "print(X_train[0])\n",
        "print(X_test[0])\n",
        "print(Y_train)\n",
        "print(Y_train.shape)\n",
        "print(X_train.shape)"
      ],
      "execution_count": 8,
      "outputs": [
        {
          "output_type": "stream",
          "name": "stdout",
          "text": [
            "[0.0 1.0 1.0 0.0 0.0 0.0 1.0 0.0 1.5855501703442823 0.4141157157741812\n",
            " 1.489406518534078]\n",
            "[1.0 0.0 0.0 1.0 0.0 1.0 0.0 0.0 -0.9205412028908647 1.3864435332426208\n",
            " 0.34555087249183136]\n",
            "[[ 0.02352913]\n",
            " [-0.0505176 ]\n",
            " [-0.34135011]\n",
            " ...\n",
            " [-0.97548154]\n",
            " [ 0.47423484]\n",
            " [ 2.88308022]]\n",
            "(1069, 1)\n",
            "(1069, 11)\n"
          ]
        }
      ]
    },
    {
      "cell_type": "code",
      "metadata": {
        "id": "UXyZE12d2tmP"
      },
      "source": [
        "def predict(X_train,X_test,name,theta):\n",
        "        if name=='X_train':\n",
        "            nrows, ncols = X_train.shape[0], X_train.shape[1]\n",
        "            #t_X = X_train[:, 0:(ncols)].reshape(nrows, ncols)\n",
        "            #t_Y = X_train[:, (ncols)].reshape(nrows, 1)\n",
        "            t_X = X_train[:, 0:(ncols-1)]\n",
        "            t_Y = Y_train[:, 0]\n",
        "        else:\n",
        "            nrows, ncols = X_test.shape[0], X_test.shape[1]\n",
        "            #t_X = X_test[:, 0:(ncols )].reshape(nrows, ncols)\n",
        "            #t_Y = X_test[:, (ncols)].reshape(nrows, 1)\n",
        "            t_X = X_test[:, 0:(ncols-1)]\n",
        "            t_Y = Y_test[:, 0]\n",
        "            \n",
        "        \n",
        "        #t_X =sc.fit_transform(X_train[:, 8:11])\n",
        "        pred = np.dot(t_X,theta)\n",
        "        error = pred - t_Y\n",
        "        mse = (1/(2*nrows)) * np.dot(error.T, error)\n",
        "        return mse"
      ],
      "execution_count": null,
      "outputs": []
    },
    {
      "cell_type": "code",
      "metadata": {
        "colab": {
          "base_uri": "https://localhost:8080/",
          "height": 235
        },
        "id": "Lae1Xy575xXR",
        "outputId": "56fcf0e4-6708-4d12-8151-1fbc1a38f555"
      },
      "source": [
        "\"\"\"print(W.shape)\n",
        "print(X_train.shape)\n",
        "print(np.dot(X_test[:,0:11],theta))\n",
        "x=np.dot(X_train[:,0:11],theta)\n",
        "s=x.shape\n",
        "example= (X_test[:, (ncols-1)] )\n",
        "example1= (X_train[:, (ncols-1)] )\n",
        "print(example1.shape)\n",
        "print(s)\"\"\"\n"
      ],
      "execution_count": null,
      "outputs": [
        {
          "output_type": "error",
          "ename": "NameError",
          "evalue": "ignored",
          "traceback": [
            "\u001b[0;31m---------------------------------------------------------------------------\u001b[0m",
            "\u001b[0;31mNameError\u001b[0m                                 Traceback (most recent call last)",
            "\u001b[0;32m<ipython-input-32-32693724d60c>\u001b[0m in \u001b[0;36m<module>\u001b[0;34m()\u001b[0m\n\u001b[1;32m      2\u001b[0m \u001b[0mprint\u001b[0m\u001b[0;34m(\u001b[0m\u001b[0mX_train\u001b[0m\u001b[0;34m.\u001b[0m\u001b[0mshape\u001b[0m\u001b[0;34m)\u001b[0m\u001b[0;34m\u001b[0m\u001b[0;34m\u001b[0m\u001b[0m\n\u001b[1;32m      3\u001b[0m print(np.dot(X_test[:,0:11],theta))\"\"\"\n\u001b[0;32m----> 4\u001b[0;31m \u001b[0mx\u001b[0m\u001b[0;34m=\u001b[0m\u001b[0mnp\u001b[0m\u001b[0;34m.\u001b[0m\u001b[0mdot\u001b[0m\u001b[0;34m(\u001b[0m\u001b[0mX_train\u001b[0m\u001b[0;34m[\u001b[0m\u001b[0;34m:\u001b[0m\u001b[0;34m,\u001b[0m\u001b[0;36m0\u001b[0m\u001b[0;34m:\u001b[0m\u001b[0;36m11\u001b[0m\u001b[0;34m]\u001b[0m\u001b[0;34m,\u001b[0m\u001b[0mtheta\u001b[0m\u001b[0;34m)\u001b[0m\u001b[0;34m\u001b[0m\u001b[0;34m\u001b[0m\u001b[0m\n\u001b[0m\u001b[1;32m      5\u001b[0m \u001b[0ms\u001b[0m\u001b[0;34m=\u001b[0m\u001b[0mx\u001b[0m\u001b[0;34m.\u001b[0m\u001b[0mshape\u001b[0m\u001b[0;34m\u001b[0m\u001b[0;34m\u001b[0m\u001b[0m\n\u001b[1;32m      6\u001b[0m \u001b[0mexample\u001b[0m\u001b[0;34m=\u001b[0m \u001b[0;34m(\u001b[0m\u001b[0mX_test\u001b[0m\u001b[0;34m[\u001b[0m\u001b[0;34m:\u001b[0m\u001b[0;34m,\u001b[0m \u001b[0;34m(\u001b[0m\u001b[0mncols\u001b[0m\u001b[0;34m-\u001b[0m\u001b[0;36m1\u001b[0m\u001b[0;34m)\u001b[0m\u001b[0;34m]\u001b[0m \u001b[0;34m)\u001b[0m\u001b[0;34m\u001b[0m\u001b[0;34m\u001b[0m\u001b[0m\n",
            "\u001b[0;31mNameError\u001b[0m: name 'theta' is not defined"
          ]
        }
      ]
    },
    {
      "cell_type": "code",
      "metadata": {
        "colab": {
          "base_uri": "https://localhost:8080/",
          "height": 391
        },
        "id": "cjFJIqz95TF3",
        "outputId": "f237467b-cdca-4376-fdf2-e05e63939e63"
      },
      "source": [
        "mse_train = []\n",
        "epochs = [50]\n",
        "learning_rate = [0.01]\n",
        "for i in epochs:\n",
        "  for j in learning_rate:\n",
        "        theta,error = trainData(X_train,Y_train,W,i,j)\n",
        "        mse_train.append(predict(X_train,X_test,'X_train',theta))\n",
        "mse_train_1 = np.array(mse_train)\n",
        "mse_train_1 = mse_train_1.reshape(-1,1)\n",
        "print(mse_train_1)\n",
        "print(np.min(mse_train_1))\n",
        "print(type(mse_train))"
      ],
      "execution_count": null,
      "outputs": [
        {
          "output_type": "error",
          "ename": "ValueError",
          "evalue": "ignored",
          "traceback": [
            "\u001b[0;31m---------------------------------------------------------------------------\u001b[0m",
            "\u001b[0;31mValueError\u001b[0m                                Traceback (most recent call last)",
            "\u001b[0;32m<ipython-input-50-1613745b76c4>\u001b[0m in \u001b[0;36m<module>\u001b[0;34m()\u001b[0m\n\u001b[1;32m      5\u001b[0m   \u001b[0;32mfor\u001b[0m \u001b[0mj\u001b[0m \u001b[0;32min\u001b[0m \u001b[0mlearning_rate\u001b[0m\u001b[0;34m:\u001b[0m\u001b[0;34m\u001b[0m\u001b[0;34m\u001b[0m\u001b[0m\n\u001b[1;32m      6\u001b[0m         \u001b[0mtheta\u001b[0m\u001b[0;34m,\u001b[0m\u001b[0merror\u001b[0m \u001b[0;34m=\u001b[0m \u001b[0mtrainData\u001b[0m\u001b[0;34m(\u001b[0m\u001b[0mX_train\u001b[0m\u001b[0;34m,\u001b[0m\u001b[0mY_train\u001b[0m\u001b[0;34m,\u001b[0m\u001b[0mW\u001b[0m\u001b[0;34m,\u001b[0m\u001b[0mi\u001b[0m\u001b[0;34m,\u001b[0m\u001b[0mj\u001b[0m\u001b[0;34m)\u001b[0m\u001b[0;34m\u001b[0m\u001b[0;34m\u001b[0m\u001b[0m\n\u001b[0;32m----> 7\u001b[0;31m         \u001b[0mmse_train\u001b[0m\u001b[0;34m.\u001b[0m\u001b[0mappend\u001b[0m\u001b[0;34m(\u001b[0m\u001b[0mpredict\u001b[0m\u001b[0;34m(\u001b[0m\u001b[0mX_train\u001b[0m\u001b[0;34m,\u001b[0m\u001b[0mX_test\u001b[0m\u001b[0;34m,\u001b[0m\u001b[0;34m'X_train'\u001b[0m\u001b[0;34m,\u001b[0m\u001b[0mtheta\u001b[0m\u001b[0;34m)\u001b[0m\u001b[0;34m)\u001b[0m\u001b[0;34m\u001b[0m\u001b[0;34m\u001b[0m\u001b[0m\n\u001b[0m\u001b[1;32m      8\u001b[0m \u001b[0mmse_train_1\u001b[0m \u001b[0;34m=\u001b[0m \u001b[0mnp\u001b[0m\u001b[0;34m.\u001b[0m\u001b[0marray\u001b[0m\u001b[0;34m(\u001b[0m\u001b[0mmse_train\u001b[0m\u001b[0;34m)\u001b[0m\u001b[0;34m\u001b[0m\u001b[0;34m\u001b[0m\u001b[0m\n\u001b[1;32m      9\u001b[0m \u001b[0mmse_train_1\u001b[0m \u001b[0;34m=\u001b[0m \u001b[0mmse_train_1\u001b[0m\u001b[0;34m.\u001b[0m\u001b[0mreshape\u001b[0m\u001b[0;34m(\u001b[0m\u001b[0;34m-\u001b[0m\u001b[0;36m1\u001b[0m\u001b[0;34m,\u001b[0m\u001b[0;36m1\u001b[0m\u001b[0;34m)\u001b[0m\u001b[0;34m\u001b[0m\u001b[0;34m\u001b[0m\u001b[0m\n",
            "\u001b[0;32m<ipython-input-45-0fbcb4bacaa5>\u001b[0m in \u001b[0;36mpredict\u001b[0;34m(X_train, X_test, name, theta)\u001b[0m\n\u001b[1;32m     15\u001b[0m \u001b[0;34m\u001b[0m\u001b[0m\n\u001b[1;32m     16\u001b[0m         \u001b[0;31m#t_X =sc.fit_transform(X_train[:, 8:11])\u001b[0m\u001b[0;34m\u001b[0m\u001b[0;34m\u001b[0m\u001b[0;34m\u001b[0m\u001b[0m\n\u001b[0;32m---> 17\u001b[0;31m         \u001b[0mpred\u001b[0m \u001b[0;34m=\u001b[0m \u001b[0mnp\u001b[0m\u001b[0;34m.\u001b[0m\u001b[0mdot\u001b[0m\u001b[0;34m(\u001b[0m\u001b[0mt_X\u001b[0m\u001b[0;34m,\u001b[0m\u001b[0mtheta\u001b[0m\u001b[0;34m)\u001b[0m\u001b[0;34m\u001b[0m\u001b[0;34m\u001b[0m\u001b[0m\n\u001b[0m\u001b[1;32m     18\u001b[0m         \u001b[0merror\u001b[0m \u001b[0;34m=\u001b[0m \u001b[0mpred\u001b[0m \u001b[0;34m-\u001b[0m \u001b[0mt_Y\u001b[0m\u001b[0;34m\u001b[0m\u001b[0;34m\u001b[0m\u001b[0m\n\u001b[1;32m     19\u001b[0m         \u001b[0mmse\u001b[0m \u001b[0;34m=\u001b[0m \u001b[0;34m(\u001b[0m\u001b[0;36m1\u001b[0m\u001b[0;34m/\u001b[0m\u001b[0;34m(\u001b[0m\u001b[0;36m2\u001b[0m\u001b[0;34m*\u001b[0m\u001b[0mnrows\u001b[0m\u001b[0;34m)\u001b[0m\u001b[0;34m)\u001b[0m \u001b[0;34m*\u001b[0m \u001b[0mnp\u001b[0m\u001b[0;34m.\u001b[0m\u001b[0mdot\u001b[0m\u001b[0;34m(\u001b[0m\u001b[0merror\u001b[0m\u001b[0;34m.\u001b[0m\u001b[0mT\u001b[0m\u001b[0;34m,\u001b[0m \u001b[0merror\u001b[0m\u001b[0;34m)\u001b[0m\u001b[0;34m\u001b[0m\u001b[0;34m\u001b[0m\u001b[0m\n",
            "\u001b[0;32m<__array_function__ internals>\u001b[0m in \u001b[0;36mdot\u001b[0;34m(*args, **kwargs)\u001b[0m\n",
            "\u001b[0;31mValueError\u001b[0m: shapes (1069,5) and (6,1069) not aligned: 5 (dim 1) != 6 (dim 0)"
          ]
        }
      ]
    },
    {
      "cell_type": "code",
      "metadata": {
        "colab": {
          "base_uri": "https://localhost:8080/"
        },
        "id": "PqGplkBNIydc",
        "outputId": "29fb7679-08f8-457b-9836-667ec97cdb73"
      },
      "source": [
        "print(X_test.shape)"
      ],
      "execution_count": null,
      "outputs": [
        {
          "output_type": "stream",
          "name": "stdout",
          "text": [
            "(268, 11)\n"
          ]
        }
      ]
    },
    {
      "cell_type": "code",
      "metadata": {
        "colab": {
          "base_uri": "https://localhost:8080/",
          "height": 391
        },
        "id": "HNF2SMD-4HRX",
        "outputId": "05335e43-600a-409f-9bce-386b9dcc5bc3"
      },
      "source": [
        "mse_test = []\n",
        "epochs = [50]\n",
        "learning_rate = [0.01]\n",
        "for i in epochs:\n",
        "  for j in learning_rate:\n",
        "        theta,error = trainData(X,Y,W,i,j)\n",
        "        mse_test.append(predict(X_train,X_test,'X_test',theta))\n",
        "mse_test = np.array(mse_test)\n",
        "mse_test = mse_test.reshape(-1,1)\n",
        "print(mse_test)\n",
        "print(np.min(mse_test))"
      ],
      "execution_count": null,
      "outputs": [
        {
          "output_type": "error",
          "ename": "ValueError",
          "evalue": "ignored",
          "traceback": [
            "\u001b[0;31m---------------------------------------------------------------------------\u001b[0m",
            "\u001b[0;31mValueError\u001b[0m                                Traceback (most recent call last)",
            "\u001b[0;32m<ipython-input-51-c162e2bf2983>\u001b[0m in \u001b[0;36m<module>\u001b[0;34m()\u001b[0m\n\u001b[1;32m      5\u001b[0m   \u001b[0;32mfor\u001b[0m \u001b[0mj\u001b[0m \u001b[0;32min\u001b[0m \u001b[0mlearning_rate\u001b[0m\u001b[0;34m:\u001b[0m\u001b[0;34m\u001b[0m\u001b[0;34m\u001b[0m\u001b[0m\n\u001b[1;32m      6\u001b[0m         \u001b[0mtheta\u001b[0m\u001b[0;34m,\u001b[0m\u001b[0merror\u001b[0m \u001b[0;34m=\u001b[0m \u001b[0mtrainData\u001b[0m\u001b[0;34m(\u001b[0m\u001b[0mX\u001b[0m\u001b[0;34m,\u001b[0m\u001b[0mY\u001b[0m\u001b[0;34m,\u001b[0m\u001b[0mW\u001b[0m\u001b[0;34m,\u001b[0m\u001b[0mi\u001b[0m\u001b[0;34m,\u001b[0m\u001b[0mj\u001b[0m\u001b[0;34m)\u001b[0m\u001b[0;34m\u001b[0m\u001b[0;34m\u001b[0m\u001b[0m\n\u001b[0;32m----> 7\u001b[0;31m         \u001b[0mmse_test\u001b[0m\u001b[0;34m.\u001b[0m\u001b[0mappend\u001b[0m\u001b[0;34m(\u001b[0m\u001b[0mpredict\u001b[0m\u001b[0;34m(\u001b[0m\u001b[0mX_train\u001b[0m\u001b[0;34m,\u001b[0m\u001b[0mX_test\u001b[0m\u001b[0;34m,\u001b[0m\u001b[0;34m'X_test'\u001b[0m\u001b[0;34m,\u001b[0m\u001b[0mtheta\u001b[0m\u001b[0;34m)\u001b[0m\u001b[0;34m)\u001b[0m\u001b[0;34m\u001b[0m\u001b[0;34m\u001b[0m\u001b[0m\n\u001b[0m\u001b[1;32m      8\u001b[0m \u001b[0mmse_test\u001b[0m \u001b[0;34m=\u001b[0m \u001b[0mnp\u001b[0m\u001b[0;34m.\u001b[0m\u001b[0marray\u001b[0m\u001b[0;34m(\u001b[0m\u001b[0mmse_test\u001b[0m\u001b[0;34m)\u001b[0m\u001b[0;34m\u001b[0m\u001b[0;34m\u001b[0m\u001b[0m\n\u001b[1;32m      9\u001b[0m \u001b[0mmse_test\u001b[0m \u001b[0;34m=\u001b[0m \u001b[0mmse_test\u001b[0m\u001b[0;34m.\u001b[0m\u001b[0mreshape\u001b[0m\u001b[0;34m(\u001b[0m\u001b[0;34m-\u001b[0m\u001b[0;36m1\u001b[0m\u001b[0;34m,\u001b[0m\u001b[0;36m1\u001b[0m\u001b[0;34m)\u001b[0m\u001b[0;34m\u001b[0m\u001b[0;34m\u001b[0m\u001b[0m\n",
            "\u001b[0;32m<ipython-input-45-0fbcb4bacaa5>\u001b[0m in \u001b[0;36mpredict\u001b[0;34m(X_train, X_test, name, theta)\u001b[0m\n\u001b[1;32m     15\u001b[0m \u001b[0;34m\u001b[0m\u001b[0m\n\u001b[1;32m     16\u001b[0m         \u001b[0;31m#t_X =sc.fit_transform(X_train[:, 8:11])\u001b[0m\u001b[0;34m\u001b[0m\u001b[0;34m\u001b[0m\u001b[0;34m\u001b[0m\u001b[0m\n\u001b[0;32m---> 17\u001b[0;31m         \u001b[0mpred\u001b[0m \u001b[0;34m=\u001b[0m \u001b[0mnp\u001b[0m\u001b[0;34m.\u001b[0m\u001b[0mdot\u001b[0m\u001b[0;34m(\u001b[0m\u001b[0mt_X\u001b[0m\u001b[0;34m,\u001b[0m\u001b[0mtheta\u001b[0m\u001b[0;34m)\u001b[0m\u001b[0;34m\u001b[0m\u001b[0;34m\u001b[0m\u001b[0m\n\u001b[0m\u001b[1;32m     18\u001b[0m         \u001b[0merror\u001b[0m \u001b[0;34m=\u001b[0m \u001b[0mpred\u001b[0m \u001b[0;34m-\u001b[0m \u001b[0mt_Y\u001b[0m\u001b[0;34m\u001b[0m\u001b[0;34m\u001b[0m\u001b[0m\n\u001b[1;32m     19\u001b[0m         \u001b[0mmse\u001b[0m \u001b[0;34m=\u001b[0m \u001b[0;34m(\u001b[0m\u001b[0;36m1\u001b[0m\u001b[0;34m/\u001b[0m\u001b[0;34m(\u001b[0m\u001b[0;36m2\u001b[0m\u001b[0;34m*\u001b[0m\u001b[0mnrows\u001b[0m\u001b[0;34m)\u001b[0m\u001b[0;34m)\u001b[0m \u001b[0;34m*\u001b[0m \u001b[0mnp\u001b[0m\u001b[0;34m.\u001b[0m\u001b[0mdot\u001b[0m\u001b[0;34m(\u001b[0m\u001b[0merror\u001b[0m\u001b[0;34m.\u001b[0m\u001b[0mT\u001b[0m\u001b[0;34m,\u001b[0m \u001b[0merror\u001b[0m\u001b[0;34m)\u001b[0m\u001b[0;34m\u001b[0m\u001b[0;34m\u001b[0m\u001b[0m\n",
            "\u001b[0;32m<__array_function__ internals>\u001b[0m in \u001b[0;36mdot\u001b[0;34m(*args, **kwargs)\u001b[0m\n",
            "\u001b[0;31mValueError\u001b[0m: shapes (268,5) and (6,1337) not aligned: 5 (dim 1) != 6 (dim 0)"
          ]
        }
      ]
    },
    {
      "cell_type": "code",
      "metadata": {
        "colab": {
          "base_uri": "https://localhost:8080/"
        },
        "id": "oOGy_HKH0iGJ",
        "outputId": "17af9196-a0e1-400e-e9d1-e9eec960b15d"
      },
      "source": [
        "print(X_train.shape)\n",
        "print(Y_train.shape)"
      ],
      "execution_count": null,
      "outputs": [
        {
          "output_type": "stream",
          "name": "stdout",
          "text": [
            "(1069, 6)\n",
            "(1069, 1)\n"
          ]
        }
      ]
    },
    {
      "cell_type": "code",
      "metadata": {
        "id": "x-L_2bTQ__-U"
      },
      "source": [
        "def  cal_cost(theta,X,Y):\n",
        "    '''\n",
        "    \n",
        "    Calculates the cost for given X and Y. The following shows and example of a single dimensional X\n",
        "    theta = Vector of thetas \n",
        "    X     = Row of X's np.zeros((2,j))\n",
        "    y     = Actual y's np.zeros((2,1))\n",
        "    \n",
        "    where:\n",
        "        j is the no of features\n",
        "    '''\n",
        "    \n",
        "    m = len(Y)\n",
        "    \n",
        "    predictions = X.dot(theta)\n",
        "    cost = (1/2*m) * np.sum(np.square(predictions-Y))\n",
        "    return cost"
      ],
      "execution_count": 9,
      "outputs": []
    },
    {
      "cell_type": "code",
      "metadata": {
        "id": "lcyW_EKtAC85"
      },
      "source": [
        "def gradient_descent(X,Y,theta,learning_rate=0.01,iterations=100):\n",
        "    '''\n",
        "    X    = Matrix of X with added bias units\n",
        "    y    = Vector of Y\n",
        "    theta=Vector of thetas np.random.randn(j,1)\n",
        "    learning_rate \n",
        "    iterations = no of iterations\n",
        "    \n",
        "    Returns the final theta vector and array of cost history over no of iterations\n",
        "    '''\n",
        "    m = len(Y)\n",
        "    cost_history = np.zeros(iterations)\n",
        "    theta_history = np.zeros((iterations,12))\n",
        "    for it in range(iterations):\n",
        "        \n",
        "        prediction = np.dot(X,theta)\n",
        "        \n",
        "        theta = theta -(1/m)*learning_rate*( X.T.dot((prediction - Y)))\n",
        "        theta_history[it,:] =theta.T\n",
        "        cost_history[it]  = cal_cost(theta,X,Y)\n",
        "        \n",
        "    return theta, cost_history, theta_history"
      ],
      "execution_count": 10,
      "outputs": []
    },
    {
      "cell_type": "code",
      "metadata": {
        "colab": {
          "base_uri": "https://localhost:8080/",
          "height": 53
        },
        "id": "5UM3xylwARP6",
        "outputId": "e61f8fff-9ac4-4998-f3ba-462aa5017eb4"
      },
      "source": [
        "lr =0.01\n",
        "n_iter = 1000\n",
        "\n",
        "theta = np.random.randn(12,1)\n",
        "\n",
        "X_b = np.c_[np.ones((len(X_train),1)),X_train]\n",
        "theta,cost_history,theta_history = gradient_descent(X_b,Y_train,theta,lr,n_iter)\n",
        "\n",
        "sum=theta[0][0]\n",
        "y_pred= np.ones(Y_train.shape)\n",
        "for i in range(0, X_train.shape[0]):\n",
        "  sum+= theta[1][0]*X_train[i][0]+theta[2][0]*X_train[i][1]+theta[3][0]*X_train[i][2]+theta[4][0]*X_train[i][3]+theta[5][0]*X_train[i][4]+theta[6][0]*X_train[i][5]+theta[7][0]*X_train[i][6]+theta[8][0]*X_train[i][7]+theta[9][0]*X_train[i][8]+theta[10][0]*X_train[i][9]+theta[11][0]*X_train[i][10]\n",
        "  y_pred[i][0]=sum;\n",
        "  sum=theta[0][0]\n",
        "sum=theta[0][0]\n",
        "y_test_pred= np.ones(Y_test.shape)\n",
        "for i in range(0, X_test.shape[0]):\n",
        "  sum+= theta[1][0]*X_test[i][0]+theta[2][0]*X_test[i][1]+theta[3][0]*X_test[i][2]+theta[4][0]*X_test[i][3]+theta[5][0]*X_test[i][4]+theta[6][0]*X_test[i][5]+theta[7][0]*X_test[i][6]+theta[8][0]*X_test[i][7]+theta[9][0]*X_test[i][8]+theta[10][0]*X_test[i][9]+theta[11][0]*X_test[i][10]\n",
        "  y_test_pred[i][0]=sum;\n",
        "  sum=theta[0][0]\n",
        "\n",
        "\n",
        "\n",
        "\"\"\"print('Theta0:          {:0.3f},\\nTheta1:          {:0.3f}'.format(theta[0][0],theta[1][0]))\n",
        "print('Final cost/MSE:  {:0.3f}'.format(cost_history[-1]))\"\"\"\n"
      ],
      "execution_count": 12,
      "outputs": [
        {
          "output_type": "execute_result",
          "data": {
            "application/vnd.google.colaboratory.intrinsic+json": {
              "type": "string"
            },
            "text/plain": [
              "\"print('Theta0:          {:0.3f},\\nTheta1:          {:0.3f}'.format(theta[0][0],theta[1][0]))\\nprint('Final cost/MSE:  {:0.3f}'.format(cost_history[-1]))\""
            ]
          },
          "metadata": {},
          "execution_count": 12
        }
      ]
    },
    {
      "cell_type": "code",
      "metadata": {
        "colab": {
          "base_uri": "https://localhost:8080/"
        },
        "id": "8tCs2iBN7_wl",
        "outputId": "3070ea5c-e0a0-43e3-fd88-018928d18a29"
      },
      "source": [
        "import sklearn.metrics\n",
        "import math\n",
        "mse = sklearn.metrics.mean_squared_error(Y_train, y_pred)\n",
        "\n",
        "rmse = math.sqrt(mse)\n",
        "#rmse = (np.sqrt(mean_squared_error(Y_test, y_test_predict)))\n",
        "r2t = r2_score(Y_train, y_pred)\n",
        "print(rmse)\n",
        "print(r2t)\n",
        "\n",
        "mse_test = sklearn.metrics.mean_squared_error(Y_test, y_test_pred)\n",
        "\n",
        "rmse_test = math.sqrt(mse_test)\n",
        "#rmse = (np.sqrt(mean_squared_error(Y_test, y_test_predict)))\n",
        "r2t_test = r2_score(Y_test, y_test_pred)\n",
        "print(rmse_test)\n",
        "print(r2t_test)\n",
        "\n"
      ],
      "execution_count": 14,
      "outputs": [
        {
          "output_type": "stream",
          "name": "stdout",
          "text": [
            "0.5127530823486376\n",
            "0.7370842765419713\n",
            "0.5470448416526617\n",
            "0.7007419412212144\n"
          ]
        }
      ]
    },
    {
      "cell_type": "code",
      "metadata": {
        "id": "YA7sWKgqCggD"
      },
      "source": [
        "def stocashtic_gradient_descent(X,Y,theta,learning_rate=0.01,iterations=100):\n",
        "    '''\n",
        "    X    = Matrix of X with added bias units\n",
        "    y    = Vector of Y\n",
        "    theta=Vector of thetas np.random.randn(j,1)\n",
        "    learning_rate \n",
        "    iterations = no of iterations\n",
        "    \n",
        "    Returns the final theta vector and array of cost history over no of iterations\n",
        "    '''\n",
        "    m = len(Y)\n",
        "    cost_history = np.zeros(iterations)\n",
        "    \n",
        "    \n",
        "    for it in range(iterations):\n",
        "        cost =0.0\n",
        "        for i in range(m):\n",
        "            rand_ind = np.random.randint(0,m)\n",
        "            X_i = X[rand_ind,:].reshape(1,X.shape[1])\n",
        "            Y_i = Y[rand_ind].reshape(1,1)\n",
        "            prediction = np.dot(X_i,theta)\n",
        "\n",
        "            theta = theta -(1/m)*learning_rate*( X_i.T.dot((prediction - Y_i)))\n",
        "            cost += cal_cost(theta,X_i,Y_i)\n",
        "        cost_history[it]  = cost\n",
        "        \n",
        "    return theta, cost_history"
      ],
      "execution_count": null,
      "outputs": []
    },
    {
      "cell_type": "code",
      "metadata": {
        "colab": {
          "base_uri": "https://localhost:8080/",
          "height": 70
        },
        "id": "WRXKLAqXCqcD",
        "outputId": "c4a53599-aec5-44ed-a5de-3bb2400fe0fe"
      },
      "source": [
        "lr =0.5\n",
        "n_iter = 100\n",
        "\n",
        "theta = np.random.randn(12,1)\n",
        "\n",
        "X_b = np.c_[np.ones((len(X_train),1)),X_train]\n",
        "theta,cost_history = stocashtic_gradient_descent(X_b,Y_train,theta,lr,n_iter)\n",
        "print(theta.shape)\n",
        "print(X_train.shape)\n",
        "\n",
        "sum=theta[0][0]\n",
        "y_pred= np.ones(Y_train.shape)\n",
        "for i in range(0, X_train.shape[0]):\n",
        "  sum+= theta[1][0]*X_train[i][0]+theta[2][0]*X_train[i][1]+theta[3][0]*X_train[i][2]+theta[4][0]*X_train[i][3]+theta[5][0]*X_train[i][4]+theta[6][0]*X_train[i][5]\n",
        "  y_pred[i][0]=sum;\n",
        "  sum=theta[0][0]\n",
        "\n",
        " \n",
        "\n",
        "\n",
        "#print('Theta0:          {:0.3f},\\nTheta1:          {:0.3f}'.format(theta[0][0],theta[1][0],theta[2][0],theta[3][0],theta[4][0],theta[5][0],theta[6][0]))\n",
        "\n",
        "\"\"\"for i in range(0,7):\n",
        "  print(theta[i][0])\n",
        "print('Final cost/MSE:  {:0.3f}'.format(np.sqrt(np.sqrt(cost_history[-1]))))\n",
        "\"\"\"\n"
      ],
      "execution_count": null,
      "outputs": [
        {
          "output_type": "stream",
          "name": "stdout",
          "text": [
            "(12, 1)\n",
            "(1069, 11)\n"
          ]
        },
        {
          "output_type": "execute_result",
          "data": {
            "application/vnd.google.colaboratory.intrinsic+json": {
              "type": "string"
            },
            "text/plain": [
              "\"for i in range(0,7):\\n  print(theta[i][0])\\nprint('Final cost/MSE:  {:0.3f}'.format(np.sqrt(np.sqrt(cost_history[-1]))))\\n\""
            ]
          },
          "metadata": {},
          "execution_count": 192
        }
      ]
    },
    {
      "cell_type": "code",
      "metadata": {
        "id": "ygc-X6fnECdy",
        "colab": {
          "base_uri": "https://localhost:8080/"
        },
        "outputId": "06fc4fe0-59ee-4cff-97fc-4355261096d1"
      },
      "source": [
        "\"\"\"s=(X_train.shape[0], 1)\n",
        "w0=np.ones(s)\n",
        "#X_new= w0\n",
        "#X_new= np.concatenate((w0,X_train))\n",
        "X_train = np.insert(X_train, 0, w0, axis=1)\n",
        "print(X_train.shape)\n",
        "#print(w0)\n",
        "s=(X_train.shape[0],1)\n",
        "ones=np.ones(s)\n",
        "X_train= np.concatenate((ones,X_train), axis=1)\n",
        "print(X_train.shape)\"\"\"\n",
        "print(Y_train.shape)\n",
        "print(y_pred.shape)\n",
        "print(y_pred[0], Y_train[0])\n",
        "#print(Y_train)"
      ],
      "execution_count": null,
      "outputs": [
        {
          "output_type": "stream",
          "name": "stdout",
          "text": [
            "(1069, 1)\n",
            "(1069, 1)\n",
            "[0.0489271] [0.02352913]\n"
          ]
        }
      ]
    },
    {
      "cell_type": "code",
      "metadata": {
        "colab": {
          "base_uri": "https://localhost:8080/"
        },
        "id": "BlEHh2ySYVlf",
        "outputId": "c39521e8-3e30-4656-b06b-dc7e0bd04053"
      },
      "source": [
        "#y_train_predict=regressor.predict(X_test)\\\n",
        "\n",
        "import sklearn.metrics\n",
        "import math\n",
        "mse = sklearn.metrics.mean_squared_error(Y_train, y_pred)\n",
        "\n",
        "rmse = math.sqrt(mse)\n",
        "#rmse = (np.sqrt(mean_squared_error(Y_test, y_test_predict)))\n",
        "r2t = r2_score(Y_train, y_pred)\n",
        "print(rmse)\n",
        "print(r2t)"
      ],
      "execution_count": null,
      "outputs": [
        {
          "output_type": "stream",
          "name": "stdout",
          "text": [
            "0.7142885219607731\n",
            "0.48979190739509426\n"
          ]
        }
      ]
    }
  ]
}